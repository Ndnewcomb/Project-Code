{
 "cells": [
  {
   "cell_type": "code",
   "execution_count": 1,
   "metadata": {},
   "outputs": [
    {
     "name": "stdout",
     "output_type": "stream",
     "text": [
      "Extracted number: 79\n"
     ]
    }
   ],
   "source": [
    "#1 Load/create the masks: avmlabel, atree $$$ CaseNumber and File\n",
    "\n",
    "import numpy as np\n",
    "import nrrd  # pip install pynrrd\n",
    "import re\n",
    "casepath = \"z:/D-Images/SPIROMICS-SubStudy/2-Results-CheckedDoneTemp/1-Done/Case-79-Spiromics-49306369/Markups/88-Jensen/\"\n",
    "avmlabel, metadata = nrrd.read(casepath + \"S-Final-2-label.nrrd\")\n",
    "\n",
    "pattern = r\"Case-(\\d+)-\"\n",
    "\n",
    "# Use re.findall() to find all matches in the string\n",
    "matches = re.findall(pattern, casepath)\n",
    "\n",
    "# Extract the first matched number (if any)\n",
    "if matches:\n",
    "    CaseNumber = int(matches[0])\n",
    "    print(\"Extracted number:\", CaseNumber)\n",
    "else:\n",
    "    print(\"No 'Case-' followed by a number found in the string.\")\n",
    "\n",
    "# CaseNumber = 79 # To be used also when saving the graph later in the code\n",
    "\n",
    "atree = np.zeros_like(avmlabel)\n",
    "atree[avmlabel == 1] = 1"
   ]
  },
  {
   "cell_type": "code",
   "execution_count": 2,
   "metadata": {},
   "outputs": [],
   "source": [
    "#2 Inspect using mayavi\n",
    "import winsound\n",
    "\n",
    "\n",
    "\n",
    "from mayavi import mlab\n",
    "frequency = 1000  # Frequency of the beep in Hertz\n",
    "duration = 1000  # Duration of the beep in milliseconds\n",
    "winsound.Beep(frequency, duration)\n",
    "contour = mlab.contour3d(atree, contours=[0.5], color=(1, 0, 0))\n",
    "\n",
    "mlab.savefig(f\"./GraphOutputNate/snapshot{CaseNumber}.png\")  # You can specify the filename and format\n",
    "\n",
    "# Close the viewer\n",
    "mlab.close()"
   ]
  },
  {
   "cell_type": "code",
   "execution_count": 3,
   "metadata": {},
   "outputs": [],
   "source": [
    "#3 Create/Fetch Skeleton $$$ Skeleton Path\n",
    "\n",
    "from skimage.morphology import skeletonize_3d  # pip install scikit-image\n",
    "import numpy as np\n",
    "import nrrd  # pip install pynrrd\n",
    "\n",
    "# SkeletonPathName = f\"./Data/Artifacts/E-Case-{CaseNumber}-A-Skeleton.nrrd\"\n",
    "SkeletonPathName = casepath + \"S-Final-2-label-Skeleton.nrrd\"\n",
    "# Create and save the skeleton:\n",
    "skeleton = skeletonize_3d(atree.astype(np.uint8))\n",
    "# $$$ nrrd.write(SkeletonPathName, skeleton)\n",
    "\n",
    "# Or read it in:\n",
    "# skeleton, _ = nrrd.read(SkeletonPathName)"
   ]
  },
  {
   "cell_type": "code",
   "execution_count": 4,
   "metadata": {},
   "outputs": [],
   "source": [
    "#4 Compute/Fetch Distance Transform $$$ EdtPathName\n",
    "# Contains the Euclidean distance from each voxel to the nearest background voxel\n",
    "\n",
    "from scipy.ndimage import distance_transform_edt\n",
    "\n",
    "# EdtPathName = f\"./Data/Artifacts/I-Case-{CaseNumber}-EDT.nrrd\"\n",
    "EdtPathName = casepath + f\"I-Case-{CaseNumber}-EDT.nrrd\"\n",
    "# Compute the distance transform\n",
    "distance_transform = distance_transform_edt(atree)\n",
    "# $$$ nrrd.write(EdtPathName, distance_transform)\n",
    "\n",
    "# Or read it in\n",
    "# distance_transform, _ = nrrd.read(EdtPathName)"
   ]
  },
  {
   "cell_type": "code",
   "execution_count": 5,
   "metadata": {},
   "outputs": [],
   "source": [
    "#5 Create Graph/Edges/Neighbours/...\n",
    "# Step 2: Convert skeletonized image to a graph representation ########### Very bad code/ hard to understand *\n",
    "\n",
    "import networkx as nx\n",
    "\n",
    "graph = nx.Graph()\n",
    "indices = np.array(np.where(skeleton)) # 3x1000?\n",
    "num_points = indices.shape[1]\n",
    "for i in range(num_points): # 20,100 # num_points\n",
    "    point = tuple(indices[:, i])\n",
    "    neighbors = []\n",
    "    for offset in np.ndindex((3, 3, 3)): # (0,1,2 .. 0,1,2 .. 0,1,2)\n",
    "        neighbor = tuple(indices[:, i] + (np.array(offset) - 1)) # >> -1,0,1\n",
    "        if neighbor != point and neighbor in graph:\n",
    "            neighbors.append(neighbor)\n",
    "    graph.add_node(point)\n",
    "    graph.add_edges_from((point, n) for n in neighbors)"
   ]
  },
  {
   "cell_type": "code",
   "execution_count": 6,
   "metadata": {},
   "outputs": [
    {
     "name": "stdout",
     "output_type": "stream",
     "text": [
      "Number of Nodes: 8299\n",
      "Number of Edges: 8368\n"
     ]
    }
   ],
   "source": [
    "#6 Print_Stats [Nodes/Edges/...]\n",
    "\n",
    "def print_stats(graph):\n",
    "    num_nodes = nx.number_of_nodes(graph)\n",
    "    num_edges = nx.number_of_edges(graph)\n",
    "    # all_nodes = list(graph.nodes)\n",
    "    # all_edges = list(graph.edges)\n",
    "\n",
    "    print(\"Number of Nodes:\", num_nodes)\n",
    "    print(\"Number of Edges:\", num_edges)\n",
    "    # print(\"All Nodes:\", all_nodes)\n",
    "    # print(\"All Edges:\", all_edges)\n",
    "    return\n",
    "\n",
    "print_stats(graph)"
   ]
  },
  {
   "cell_type": "code",
   "execution_count": 7,
   "metadata": {},
   "outputs": [],
   "source": [
    "#7 Remove degree-2 nodes *\n",
    "\n",
    "while True:\n",
    "    # Find nodes with degree 2\n",
    "    degree_two_nodes = [node for node, degree in graph.degree if degree == 2]\n",
    "    \n",
    "    # If there are no intermediate nodes to remove, break the loop\n",
    "    if not degree_two_nodes:\n",
    "        break    \n",
    "    # Remove the intermediate nodes\n",
    "    for node in degree_two_nodes:\n",
    "        neighbors = list(graph.neighbors(node))\n",
    "        if len(neighbors) == 2: ####### Redundant condition! *\n",
    "            graph.add_edge(neighbors[0], neighbors[1])\n",
    "        graph.remove_node(node)\n",
    "        \n",
    "# [node for node in graph if node[0] == 213 and node[1] == 229]"
   ]
  },
  {
   "cell_type": "code",
   "execution_count": 8,
   "metadata": {},
   "outputs": [
    {
     "name": "stdout",
     "output_type": "stream",
     "text": [
      "Number of Nodes: 409\n",
      "Number of Edges: 478\n"
     ]
    }
   ],
   "source": [
    "#8 print_stats\n",
    "print_stats(graph)"
   ]
  },
  {
   "cell_type": "code",
   "execution_count": 9,
   "metadata": {},
   "outputs": [],
   "source": [
    "#9 Create/update 'edge_length' property for all edges *\n",
    "\n",
    "def UpdateEdgeLengths(G):\n",
    "    for edge in G.edges:\n",
    "        node1, node2 = edge\n",
    "        x1, y1, z1 = node1\n",
    "        x2, y2, z2 = node2\n",
    "        edge_length = np.sqrt((x2 - x1)**2 + (y2 - y1)**2 + (z2 - z1)**2)\n",
    "        G.edges[edge]['edge_length'] = edge_length\n",
    "\n",
    "UpdateEdgeLengths(graph)"
   ]
  },
  {
   "cell_type": "code",
   "execution_count": 10,
   "metadata": {},
   "outputs": [],
   "source": [
    "#10 Function: Plot-1: plot_3D: Plot Interactive 3D *\n",
    "\n",
    "import plotly.graph_objects as go  # pip install plotly # pip install nbformat\n",
    "from plotly.subplots import make_subplots\n",
    "\n",
    "def plot_3D(graph):\n",
    "    fig = make_subplots(rows=1, cols=1, specs=[[{'type': 'scatter3d'}]])\n",
    "    x, y, z = zip(*graph.nodes)\n",
    "    \n",
    "    leaf_nodes = [node for node, degree in graph.degree if degree == 1]\n",
    "    \n",
    "    node_trace = go.Scatter3d(\n",
    "        x=x,\n",
    "        y=y,\n",
    "        z=z,\n",
    "        mode='markers',\n",
    "        marker=dict(\n",
    "            size=2,\n",
    "            color='red', #['red' if node in leaf_nodes else 'blue' for node in graph.nodes()],\n",
    "            opacity=0.8\n",
    "        )\n",
    "    )\n",
    "    fig.add_trace(node_trace)\n",
    "\n",
    "    for edge in graph.edges():\n",
    "        x0, y0, z0 = edge[0]\n",
    "        x1, y1, z1 = edge[1]\n",
    "        \n",
    "        edge_length = graph.edges[edge]['edge_length']\n",
    "        edge_text = f'{edge_length:.2f}'  # Display the edge length as text\n",
    "        \n",
    "        edge_trace = go.Scatter3d(\n",
    "            x=[x0, x1],\n",
    "            y=[y0, y1],\n",
    "            z=[z0, z1],\n",
    "            mode='lines',\n",
    "            # line=dict(color='orange' if graph.edges[edge]['edge_length'] < 20 else 'gray',\n",
    "            #           width=3),\n",
    "            line=dict(color='gray', width=3),\n",
    "            hoverinfo='text',\n",
    "            text=edge_text\n",
    "        )\n",
    "        fig.add_trace(edge_trace)\n",
    "\n",
    "    fig.update_layout(  \n",
    "        scene=dict(\n",
    "        # Set background color to transparent or any color you prefer\n",
    "        bgcolor='rgba(0,0,0,0)',\n",
    "        \n",
    "        # Hide axes\n",
    "        xaxis=dict(showbackground=False, showgrid=False, zeroline=False, showline=False),\n",
    "        yaxis=dict(showbackground=False, showgrid=False, zeroline=False, showline=False),\n",
    "        zaxis=dict(showbackground=False, showgrid=False, zeroline=False, showline=False)\n",
    "        )\n",
    "    )\n",
    "    \n",
    "    fig.update_layout(\n",
    "        margin=dict(l=0, r=0, b=0, t=0),\n",
    "        scene=dict(\n",
    "            xaxis=dict(range=[0, max(x) + 1]),\n",
    "            yaxis=dict(range=[0, max(y) + 1]),\n",
    "            zaxis=dict(range=[0, max(z) + 1])\n",
    "        )\n",
    "    )\n",
    "\n",
    "    fig.show()\n",
    "    return"
   ]
  },
  {
   "cell_type": "code",
   "execution_count": 11,
   "metadata": {},
   "outputs": [],
   "source": [
    "# ##11 Timed calling of plot_3D: Will take time to show up even when indicated done:\n",
    "\n",
    "# import time\n",
    "# StartTime = time.time()\n",
    "# print('Plotting the 3D Graph ..')\n",
    "# plot_3D(graph)\n",
    "# print(f'Elapsed: {time.time()-StartTime:5.2f}')"
   ]
  },
  {
   "cell_type": "code",
   "execution_count": 12,
   "metadata": {},
   "outputs": [
    {
     "name": "stdout",
     "output_type": "stream",
     "text": [
      "74 simple+complex 3-cycles exist\n",
      "\n"
     ]
    }
   ],
   "source": [
    "#12 Find all 3-cycels: Approach-9 with no duplicates\n",
    "\n",
    "# Function to find and print all length-3 cycles without duplicates\n",
    "def ReFindAndPrintLength3Cycles(G, Prnt=False):\n",
    "\n",
    "    length_3_cycles = set()\n",
    "    for node in G.nodes():\n",
    "        neighbors = list(G.neighbors(node))\n",
    "        for neighbor1 in neighbors:\n",
    "            for neighbor2 in neighbors:\n",
    "                if neighbor1 != neighbor2 and G.has_edge(neighbor1, neighbor2):\n",
    "                    cycle = tuple(sorted([node, neighbor1, neighbor2]))  # Sorting to avoid permutations\n",
    "                    length_3_cycles.add(cycle)\n",
    "\n",
    "    # Convert the cycles back to lists for printing\n",
    "    length_3_cycles = [list(cycle) for cycle in length_3_cycles]\n",
    "\n",
    "    # Print the length-3 cycles without duplicates\n",
    "    if Prnt:\n",
    "        print(len(length_3_cycles), 'simple+complex 3-cycles exist\\n')\n",
    "        # for cycle in length_3_cycles:\n",
    "        #     print(cycle)\n",
    "    return length_3_cycles\n",
    "\n",
    "length_3_cycles = ReFindAndPrintLength3Cycles(graph, Prnt=True)"
   ]
  },
  {
   "cell_type": "code",
   "execution_count": 13,
   "metadata": {},
   "outputs": [],
   "source": [
    "#13 Keep an intact copy of the graph:\n",
    "import copy\n",
    "graphintact = copy.deepcopy(graph)"
   ]
  },
  {
   "cell_type": "code",
   "execution_count": 20,
   "metadata": {},
   "outputs": [],
   "source": [
    "#RR To refresh your graph once it's messed below, come back to this:\n",
    "# graph = copy.deepcopy(graphintact)"
   ]
  },
  {
   "cell_type": "code",
   "execution_count": 21,
   "metadata": {},
   "outputs": [
    {
     "name": "stdout",
     "output_type": "stream",
     "text": [
      "Number of Nodes: 409\n",
      "Number of Edges: 478\n",
      "\n",
      "[(290, 333, 410), (290, 334, 409), (291, 333, 409)] is not a simple cycle. Node (290, 333, 410) is degree 5.\n",
      "Skipping to the next cycle ..\n",
      "\n",
      "cycle: [(220, 427, 358), (221, 427, 357), (221, 428, 358)]\n",
      "NewAverageNode (221, 427, 358) not on the skeleton.\n",
      "Searching neighborhood 3\n",
      "Adjusted the NewAverageNode to (220, 427, 358)\n",
      "Resolved the 3-cycle.\n",
      "\n",
      "cycle: [(555, 289, 459), (556, 288, 459), (556, 288, 460)]\n",
      "Resolved the 3-cycle.\n",
      "\n",
      "[(289, 333, 409), (290, 333, 408), (290, 334, 409)] is not a simple cycle. Node (289, 333, 409) is degree 5.\n",
      "Skipping to the next cycle ..\n",
      "\n",
      "cycle: [(449, 234, 427), (449, 234, 428), (450, 233, 427)]\n",
      "Resolved the 3-cycle.\n",
      "\n",
      "cycle: [(239, 390, 342), (239, 391, 342), (240, 391, 341)]\n",
      "Resolved the 3-cycle.\n",
      "\n",
      "cycle: [(164, 328, 324), (164, 329, 325), (165, 328, 325)]\n",
      "NewAverageNode (164, 328, 325) not on the skeleton.\n",
      "Searching neighborhood 3\n",
      "Adjusted the NewAverageNode to (164, 328, 324)\n",
      "Resolved the 3-cycle.\n",
      "\n",
      "cycle: [(181, 453, 354), (181, 453, 355), (182, 452, 354)]\n",
      "Resolved the 3-cycle.\n",
      "\n",
      "cycle: [(276, 329, 483), (277, 328, 482), (277, 329, 483)]\n",
      "Resolved the 3-cycle.\n",
      "\n",
      "[(447, 255, 438), (447, 256, 439), (448, 256, 439)] is not a simple cycle. Node (447, 255, 438) is degree 4.\n",
      "Skipping to the next cycle ..\n",
      "\n",
      "cycle: [(567, 396, 319), (567, 396, 320), (568, 397, 320)]\n",
      "Resolved the 3-cycle.\n",
      "\n",
      "cycle: [(228, 351, 360), (229, 351, 360), (229, 352, 360)]\n",
      "Resolved the 3-cycle.\n",
      "\n",
      "cycle: [(448, 240, 432), (448, 241, 432), (449, 240, 433)]\n",
      "Resolved the 3-cycle.\n",
      "\n",
      "cycle: [(513, 376, 481), (514, 376, 481), (514, 377, 482)]\n",
      "Resolved the 3-cycle.\n",
      "\n",
      "[(289, 332, 409), (290, 332, 409), (290, 333, 410)] is not a simple cycle. Node (289, 332, 409) is degree 5.\n",
      "Skipping to the next cycle ..\n",
      "\n",
      "[(290, 333, 408), (290, 334, 409), (291, 334, 408)] is not a simple cycle. Node (290, 333, 408) is degree 6.\n",
      "Skipping to the next cycle ..\n",
      "\n",
      "[(289, 332, 409), (289, 333, 409), (290, 333, 408)] is not a simple cycle. Node (289, 332, 409) is degree 5.\n",
      "Skipping to the next cycle ..\n",
      "\n",
      "[(289, 333, 409), (290, 332, 409), (290, 333, 408)] is not a simple cycle. Node (289, 333, 409) is degree 5.\n",
      "Skipping to the next cycle ..\n",
      "\n",
      "cycle: [(514, 335, 487), (515, 334, 486), (515, 334, 487)]\n",
      "Resolved the 3-cycle.\n",
      "\n",
      "cycle: [(541, 442, 265), (542, 442, 265), (542, 442, 266)]\n",
      "Resolved the 3-cycle.\n",
      "\n",
      "cycle: [(547, 436, 283), (547, 436, 284), (547, 437, 284)]\n",
      "Resolved the 3-cycle.\n",
      "\n",
      "[(289, 333, 409), (290, 333, 410), (290, 334, 409)] is not a simple cycle. Node (289, 333, 409) is degree 5.\n",
      "Skipping to the next cycle ..\n",
      "\n",
      "cycle: [(504, 478, 439), (504, 479, 440), (505, 479, 440)]\n",
      "Resolved the 3-cycle.\n",
      "\n",
      "cycle: [(282, 328, 409), (282, 329, 410), (283, 329, 409)]\n",
      "NewAverageNode (282, 329, 409) not on the skeleton.\n",
      "Searching neighborhood 3\n",
      "Adjusted the NewAverageNode to (282, 328, 409)\n",
      "Resolved the 3-cycle.\n",
      "\n",
      "cycle: [(277, 236, 359), (277, 237, 358), (277, 237, 359)]\n",
      "Resolved the 3-cycle.\n",
      "\n",
      "cycle: [(283, 281, 387), (283, 282, 387), (284, 282, 387)]\n",
      "Resolved the 3-cycle.\n",
      "\n",
      "[(290, 334, 409), (291, 333, 409), (291, 334, 408)] is not a simple cycle. Node (290, 334, 409) is degree 5.\n",
      "Skipping to the next cycle ..\n",
      "\n",
      "cycle: [(214, 424, 288), (214, 424, 289), (215, 423, 289)]\n",
      "Resolved the 3-cycle.\n",
      "\n",
      "cycle: [(205, 462, 345), (206, 461, 346), (206, 462, 345)]\n",
      "Resolved the 3-cycle.\n",
      "\n",
      "cycle: [(234, 378, 505), (235, 377, 505), (235, 378, 505)]\n",
      "Resolved the 3-cycle.\n",
      "\n",
      "cycle: [(257, 317, 481), (257, 318, 480), (258, 317, 481)]\n",
      "Resolved the 3-cycle.\n",
      "\n",
      "cycle: [(259, 315, 406), (259, 316, 406), (260, 316, 406)]\n",
      "Resolved the 3-cycle.\n",
      "\n",
      "[(290, 333, 408), (291, 333, 409), (291, 334, 408)] is not a simple cycle. Node (290, 333, 408) is degree 6.\n",
      "Skipping to the next cycle ..\n",
      "\n",
      "cycle: [(297, 172, 416), (297, 172, 417), (297, 173, 417)]\n",
      "Resolved the 3-cycle.\n",
      "\n",
      "cycle: [(302, 140, 401), (302, 141, 402), (303, 140, 402)]\n",
      "NewAverageNode (302, 140, 402) not on the skeleton.\n",
      "Searching neighborhood 3\n",
      "Adjusted the NewAverageNode to (302, 140, 401)\n",
      "Resolved the 3-cycle.\n",
      "\n",
      "cycle: [(220, 353, 425), (220, 353, 426), (220, 354, 425)]\n",
      "Resolved the 3-cycle.\n",
      "\n",
      "cycle: [(295, 278, 505), (296, 277, 505), (296, 278, 504)]\n",
      "NewAverageNode (296, 278, 505) not on the skeleton.\n",
      "Searching neighborhood 3\n",
      "Adjusted the NewAverageNode to (295, 278, 505)\n",
      "Resolved the 3-cycle.\n",
      "\n",
      "cycle: [(235, 378, 339), (235, 378, 340), (235, 379, 340)]\n",
      "Resolved the 3-cycle.\n",
      "\n",
      "[(447, 256, 439), (447, 257, 439), (448, 256, 439)] is not a simple cycle. Node (447, 256, 439) is degree 4.\n",
      "Skipping to the next cycle ..\n",
      "\n",
      "cycle: [(615, 368, 290), (616, 367, 290), (616, 368, 291)]\n",
      "NewAverageNode (616, 368, 290) not on the skeleton.\n",
      "Searching neighborhood 3\n",
      "Adjusted the NewAverageNode to (615, 368, 290)\n",
      "Resolved the 3-cycle.\n",
      "\n",
      "cycle: [(241, 136, 395), (242, 136, 396), (242, 137, 396)]\n",
      "Resolved the 3-cycle.\n",
      "\n",
      "cycle: [(253, 297, 374), (254, 297, 374), (254, 298, 375)]\n",
      "Resolved the 3-cycle.\n",
      "\n",
      "[(446, 256, 438), (447, 255, 438), (447, 256, 439)] is not a simple cycle. Node (446, 256, 438) is degree 4.\n",
      "Skipping to the next cycle ..\n",
      "\n",
      "[(290, 332, 409), (290, 333, 408), (291, 333, 409)] is not a simple cycle. Node (290, 332, 409) is degree 5.\n",
      "Skipping to the next cycle ..\n",
      "\n",
      "cycle: [(502, 388, 488), (502, 388, 489), (503, 387, 488)]\n",
      "Resolved the 3-cycle.\n",
      "\n",
      "cycle: [(530, 235, 529), (530, 235, 530), (531, 234, 529)]\n",
      "Resolved the 3-cycle.\n",
      "\n",
      "cycle: [(547, 214, 447), (547, 215, 447), (548, 214, 447)]\n",
      "Resolved the 3-cycle.\n",
      "\n",
      "cycle: [(562, 304, 439), (562, 305, 439), (563, 305, 439)]\n",
      "Resolved the 3-cycle.\n",
      "\n",
      "cycle: [(189, 211, 378), (189, 211, 379), (190, 212, 379)]\n",
      "Resolved the 3-cycle.\n",
      "\n",
      "cycle: [(205, 437, 350), (205, 438, 351), (206, 438, 351)]\n",
      "Resolved the 3-cycle.\n",
      "\n",
      "[(289, 332, 409), (290, 332, 409), (290, 333, 408)] is not a simple cycle. Node (289, 332, 409) is degree 5.\n",
      "Skipping to the next cycle ..\n",
      "\n",
      "cycle: [(444, 255, 437), (445, 254, 437), (445, 255, 437)]\n",
      "Resolved the 3-cycle.\n",
      "\n",
      "[(289, 332, 409), (289, 333, 409), (290, 332, 409)] is not a simple cycle. Node (289, 332, 409) is degree 5.\n",
      "Skipping to the next cycle ..\n",
      "\n",
      "cycle: [(447, 245, 434), (447, 246, 434), (448, 245, 435)]\n",
      "Resolved the 3-cycle.\n",
      "\n",
      "cycle: [(467, 338, 446), (467, 339, 445), (468, 339, 446)]\n",
      "NewAverageNode (467, 339, 446) not on the skeleton.\n",
      "Searching neighborhood 3\n",
      "Adjusted the NewAverageNode to (467, 338, 446)\n",
      "Resolved the 3-cycle.\n",
      "\n",
      "cycle: [(154, 331, 306), (155, 331, 306), (155, 332, 305)]\n",
      "Resolved the 3-cycle.\n",
      "\n",
      "cycle: [(476, 360, 441), (476, 361, 441), (477, 361, 442)]\n",
      "Resolved the 3-cycle.\n",
      "\n",
      "[(238, 407, 294), (239, 407, 294), (239, 407, 295)] is not a simple cycle. Node (238, 407, 294) is degree 4.\n",
      "Skipping to the next cycle ..\n",
      "\n",
      "[(289, 333, 409), (290, 332, 409), (290, 333, 410)] is not a simple cycle. Node (289, 333, 409) is degree 5.\n",
      "Skipping to the next cycle ..\n",
      "\n",
      "[(290, 333, 408), (290, 334, 409), (291, 333, 409)] is not a simple cycle. Node (290, 333, 408) is degree 6.\n",
      "Skipping to the next cycle ..\n",
      "\n",
      "cycle: [(297, 257, 521), (297, 258, 521), (297, 258, 522)]\n",
      "Resolved the 3-cycle.\n",
      "\n",
      "cycle: [(304, 337, 297), (305, 337, 296), (305, 338, 297)]\n",
      "NewAverageNode (305, 337, 297) not on the skeleton.\n",
      "Searching neighborhood 3\n",
      "Adjusted the NewAverageNode to (304, 337, 297)\n",
      "Resolved the 3-cycle.\n",
      "\n",
      "[(289, 332, 409), (289, 333, 409), (290, 333, 410)] is not a simple cycle. Node (289, 332, 409) is degree 5.\n",
      "Skipping to the next cycle ..\n",
      "\n",
      "cycle: [(509, 377, 479), (509, 378, 480), (510, 377, 479)]\n",
      "Resolved the 3-cycle.\n",
      "\n",
      "cycle: [(539, 443, 264), (540, 443, 263), (540, 443, 264)]\n",
      "Resolved the 3-cycle.\n",
      "\n",
      "cycle: [(255, 431, 236), (256, 431, 236), (256, 431, 237)]\n",
      "Resolved the 3-cycle.\n",
      "\n",
      "[(290, 332, 409), (290, 333, 410), (291, 333, 409)] is not a simple cycle. Node (290, 332, 409) is degree 5.\n",
      "Skipping to the next cycle ..\n",
      "\n",
      "[(446, 256, 438), (447, 256, 439), (447, 257, 439)] is not a simple cycle. Node (446, 256, 438) is degree 4.\n",
      "Skipping to the next cycle ..\n",
      "\n",
      "cycle: [(513, 410, 420), (513, 411, 420), (514, 410, 420)]\n",
      "Resolved the 3-cycle.\n",
      "\n",
      "cycle: [(452, 229, 425), (452, 230, 426), (453, 229, 426)]\n",
      "NewAverageNode (452, 229, 426) not on the skeleton.\n",
      "Searching neighborhood 3\n",
      "Adjusted the NewAverageNode to (452, 229, 425)\n",
      "Resolved the 3-cycle.\n",
      "\n",
      "cycle: [(584, 416, 323), (584, 417, 323), (585, 416, 323)]\n",
      "Resolved the 3-cycle.\n",
      "\n",
      "cycle: [(510, 345, 497), (511, 345, 496), (511, 346, 496)]\n",
      "Resolved the 3-cycle.\n",
      "\n",
      "cycle: [(552, 391, 337), (552, 392, 337), (553, 392, 336)]\n",
      "Resolved the 3-cycle.\n",
      "\n",
      "cycle: [(515, 333, 492), (516, 332, 491), (516, 332, 492)]\n",
      "Resolved the 3-cycle.\n",
      "\n",
      "Number of Nodes: 303\n",
      "Number of Edges: 319\n"
     ]
    }
   ],
   "source": [
    "#14 Only once: This changes the graph: Resolve isolated 3-cycles by merging the 3 nodes and reconnecting edges\n",
    "\n",
    "print_stats(graph)\n",
    "print()\n",
    "length_3_cycles = ReFindAndPrintLength3Cycles(graph, Prnt=False)\n",
    "\n",
    "for cycle in length_3_cycles:\n",
    "\n",
    "    # For each cycle, find the outer/final neighbors\n",
    "    finalneighbors = []\n",
    "    for node in cycle:\n",
    "        DEGR = graph.degree(node)\n",
    "        if DEGR != 3:\n",
    "            # print(Fore.YELLOW + f'\\nThis is not a simple cycle. Node {node} is degree {DEGR}. Breaking ..' + Style.RESET_ALL)\n",
    "            print(f'{cycle} is not a simple cycle. Node {node} is degree {DEGR}.')\n",
    "            break\n",
    "        finalneighbors.extend([neighbor for neighbor in graph.neighbors(node) if neighbor not in cycle])\n",
    "    if DEGR == 3: print('cycle:', cycle)\n",
    "    # print('finalneighbors:', finalneighbors)\n",
    "    if DEGR != 3:\n",
    "        print(\"Skipping to the next cycle ..\\n\")\n",
    "        continue\n",
    "\n",
    "    # Takes the 3 nodes in the cycle and forms their average\n",
    "    NewAverageNode = tuple(round((a + b + c) / 3) for a, b, c in zip(cycle[0], cycle[1], cycle[2])) # zip(tuple1, tuple2, tuple3)\n",
    "    # print('NewAverageNode:', NewAverageNode)\n",
    "\n",
    "    # If NewAverageNode not on the skeleton, go to its neighborhood and find the nearest voxel that lies on the skeleton:\n",
    "    if skeleton[*NewAverageNode] == 0:\n",
    "        print(f\"NewAverageNode {NewAverageNode} not on the skeleton.\")\n",
    "        xxna, yyna, zzna = NewAverageNode\n",
    "        success = False\n",
    "        NeighbrhdSize = 3\n",
    "        while success == False:\n",
    "            print(f\"Searching neighborhood {NeighbrhdSize}\")\n",
    "            lowerbnd = -(NeighbrhdSize//2)\n",
    "            upperbnd =  (NeighbrhdSize//2) + 1\n",
    "            neighbors = [(i, j, k) for i in range(lowerbnd, upperbnd) for j in range(lowerbnd, upperbnd) for k in range(lowerbnd, upperbnd)]\n",
    "            neighbors.remove((0,0,0))\n",
    "            for neighbor_offset in neighbors:\n",
    "                nnx, nny, nnz = xxna + neighbor_offset[0], yyna + neighbor_offset[1], zzna + neighbor_offset[2]\n",
    "                if 0 <= nnx < skeleton.shape[0] and 0 <= nny < skeleton.shape[1] and 0 <= nnz < skeleton.shape[2]:\n",
    "                    if skeleton[nnx, nny, nnz] != 0:\n",
    "                        NewAverageNode = (nnx, nny, nnz)\n",
    "                        print(f\"Adjusted the NewAverageNode to {NewAverageNode}\")\n",
    "                        success = True\n",
    "                        break            \n",
    "            NeighbrhdSize += 2\n",
    "\n",
    "    # Now remove the old 3 nodes in cycle\n",
    "    for node in cycle:\n",
    "        graph.remove_node(node)\n",
    "    # print('Removed the 3 nodes in cycle')\n",
    "\n",
    "    # Add the new average node\n",
    "    graph.add_node(NewAverageNode)\n",
    "    # print('Added new average node')\n",
    "\n",
    "    # Make the new edges/connections\n",
    "    for node in finalneighbors:\n",
    "        graph.add_edge(node, NewAverageNode)\n",
    "    # print('Added the final edges')\n",
    "\n",
    "    print('Resolved the 3-cycle.')\n",
    "    UpdateEdgeLengths(graph)\n",
    "    # print_stats(graph)\n",
    "    print()\n",
    "\n",
    "\n",
    "print_stats(graph)"
   ]
  },
  {
   "cell_type": "code",
   "execution_count": 22,
   "metadata": {},
   "outputs": [
    {
     "name": "stdout",
     "output_type": "stream",
     "text": [
      "21 complex 3-cycles exist\n",
      "30 edges in complex 3-cycles exist\n"
     ]
    }
   ],
   "source": [
    "#15 Create updated list of all edges in cycles: [they're probably complex cycles now at this point]\n",
    "\n",
    "length_3_cycles = ReFindAndPrintLength3Cycles(graph)\n",
    "print(f\"{len(length_3_cycles)} complex 3-cycles exist\")\n",
    "\n",
    "EdgesInCyclesWithDuplicates = [[L[i], L[(i+1)%3]] for L in length_3_cycles for i in [0, 1, 2]]\n",
    "\n",
    "EdgesInCycles = []\n",
    "for edge in EdgesInCyclesWithDuplicates:\n",
    "    if ([edge[0],edge[1]] not in EdgesInCycles) and ([edge[1],edge[0]] not in EdgesInCycles):\n",
    "         EdgesInCycles.append(edge)\n",
    "        #  print(f'Appended {edge} to EdgesInCycles list')\n",
    "\n",
    "print(len(EdgesInCycles), 'edges in complex 3-cycles exist')"
   ]
  },
  {
   "cell_type": "code",
   "execution_count": 23,
   "metadata": {},
   "outputs": [
    {
     "data": {
      "application/vnd.plotly.v1+json": {
       "config": {
        "plotlyServerURL": "https://plot.ly"
       },
       "data": [
        {
         "marker": {
          "color": "grey",
          "opacity": 0.4,
          "size": 3
         },
         "mode": "markers",
         "type": "scatter3d",
         "x": [
          95,
          104,
          115,
          117,
          129,
          130,
          138,
          139,
          144,
          146,
          147,
          152,
          155,
          158,
          160,
          163,
          170,
          170,
          171,
          173,
          176,
          177,
          182,
          184,
          188,
          190,
          190,
          191,
          191,
          191,
          192,
          193,
          195,
          199,
          199,
          201,
          202,
          203,
          203,
          205,
          206,
          208,
          209,
          209,
          210,
          210,
          210,
          212,
          213,
          213,
          214,
          216,
          218,
          220,
          221,
          222,
          225,
          229,
          231,
          232,
          233,
          234,
          237,
          238,
          238,
          238,
          239,
          239,
          240,
          242,
          243,
          243,
          243,
          245,
          246,
          247,
          248,
          249,
          249,
          250,
          250,
          250,
          251,
          253,
          258,
          259,
          260,
          260,
          261,
          262,
          265,
          267,
          268,
          268,
          269,
          272,
          272,
          273,
          273,
          275,
          277,
          278,
          279,
          280,
          280,
          282,
          282,
          283,
          283,
          285,
          287,
          288,
          289,
          289,
          290,
          290,
          290,
          290,
          291,
          291,
          291,
          292,
          292,
          293,
          296,
          297,
          298,
          299,
          301,
          301,
          303,
          305,
          308,
          309,
          314,
          319,
          327,
          333,
          333,
          348,
          349,
          354,
          446,
          447,
          447,
          447,
          447,
          448,
          448,
          448,
          449,
          449,
          450,
          450,
          451,
          454,
          455,
          456,
          457,
          478,
          480,
          483,
          489,
          492,
          493,
          496,
          496,
          496,
          499,
          501,
          502,
          502,
          502,
          503,
          504,
          508,
          509,
          509,
          510,
          514,
          514,
          515,
          516,
          517,
          517,
          519,
          520,
          521,
          521,
          522,
          523,
          523,
          524,
          524,
          525,
          526,
          531,
          531,
          531,
          533,
          534,
          537,
          537,
          538,
          540,
          541,
          542,
          543,
          543,
          544,
          545,
          547,
          548,
          549,
          549,
          550,
          551,
          556,
          556,
          557,
          558,
          558,
          559,
          561,
          561,
          572,
          575,
          578,
          578,
          581,
          583,
          584,
          589,
          599,
          601,
          602,
          602,
          604,
          611,
          614,
          616,
          617,
          626,
          627,
          629,
          629,
          638,
          641,
          649,
          649,
          220,
          556,
          449,
          239,
          164,
          181,
          277,
          567,
          229,
          448,
          514,
          515,
          542,
          547,
          504,
          282,
          277,
          283,
          214,
          206,
          235,
          257,
          259,
          297,
          302,
          220,
          295,
          235,
          615,
          242,
          254,
          502,
          530,
          547,
          562,
          189,
          205,
          445,
          447,
          467,
          155,
          476,
          297,
          304,
          509,
          540,
          256,
          513,
          452,
          584,
          511,
          552,
          516
         ],
         "y": [
          333,
          263,
          353,
          220,
          306,
          376,
          247,
          394,
          393,
          343,
          248,
          329,
          257,
          289,
          469,
          377,
          288,
          423,
          398,
          286,
          455,
          203,
          333,
          415,
          212,
          422,
          430,
          271,
          416,
          474,
          273,
          273,
          430,
          280,
          390,
          422,
          266,
          239,
          428,
          487,
          191,
          440,
          217,
          466,
          311,
          428,
          468,
          385,
          219,
          438,
          390,
          168,
          483,
          424,
          231,
          93,
          424,
          446,
          389,
          384,
          396,
          325,
          96,
          127,
          317,
          407,
          407,
          407,
          212,
          443,
          296,
          368,
          452,
          395,
          292,
          291,
          290,
          249,
          441,
          98,
          186,
          312,
          465,
          301,
          423,
          299,
          417,
          427,
          420,
          252,
          307,
          231,
          331,
          429,
          283,
          158,
          403,
          193,
          433,
          357,
          319,
          285,
          449,
          175,
          202,
          250,
          276,
          416,
          438,
          383,
          437,
          368,
          332,
          333,
          332,
          333,
          333,
          334,
          229,
          333,
          334,
          233,
          239,
          281,
          301,
          282,
          250,
          165,
          129,
          346,
          260,
          282,
          131,
          338,
          276,
          339,
          359,
          287,
          289,
          290,
          285,
          284,
          256,
          253,
          255,
          256,
          257,
          234,
          256,
          265,
          236,
          245,
          236,
          263,
          238,
          223,
          223,
          231,
          248,
          410,
          196,
          454,
          306,
          151,
          179,
          204,
          345,
          382,
          364,
          330,
          191,
          386,
          414,
          194,
          492,
          464,
          405,
          478,
          353,
          333,
          485,
          385,
          330,
          397,
          472,
          430,
          459,
          223,
          320,
          484,
          248,
          416,
          287,
          387,
          447,
          403,
          280,
          349,
          398,
          417,
          447,
          174,
          444,
          493,
          403,
          217,
          312,
          382,
          470,
          298,
          436,
          190,
          396,
          302,
          398,
          413,
          220,
          437,
          475,
          420,
          208,
          379,
          361,
          461,
          483,
          348,
          261,
          390,
          395,
          374,
          286,
          300,
          424,
          389,
          315,
          252,
          436,
          361,
          403,
          460,
          403,
          465,
          433,
          349,
          260,
          393,
          267,
          348,
          366,
          405,
          427,
          288,
          234,
          391,
          328,
          453,
          329,
          396,
          351,
          240,
          376,
          334,
          442,
          436,
          479,
          328,
          237,
          282,
          424,
          462,
          378,
          317,
          316,
          172,
          140,
          353,
          278,
          378,
          368,
          136,
          297,
          388,
          235,
          214,
          305,
          211,
          438,
          255,
          245,
          338,
          331,
          361,
          258,
          337,
          377,
          443,
          431,
          410,
          229,
          416,
          345,
          392,
          332
         ],
         "z": [
          317,
          334,
          277,
          307,
          485,
          320,
          447,
          360,
          386,
          324,
          344,
          305,
          344,
          368,
          347,
          368,
          376,
          261,
          458,
          370,
          360,
          373,
          518,
          425,
          380,
          424,
          378,
          347,
          424,
          377,
          350,
          349,
          355,
          354,
          506,
          298,
          538,
          475,
          467,
          348,
          374,
          351,
          475,
          343,
          516,
          283,
          373,
          429,
          375,
          299,
          542,
          424,
          375,
          292,
          463,
          373,
          353,
          217,
          546,
          538,
          509,
          368,
          396,
          387,
          491,
          294,
          294,
          295,
          355,
          226,
          307,
          505,
          223,
          337,
          366,
          367,
          367,
          381,
          411,
          366,
          416,
          296,
          329,
          305,
          330,
          339,
          268,
          230,
          229,
          534,
          406,
          312,
          570,
          224,
          563,
          323,
          449,
          449,
          318,
          401,
          479,
          387,
          305,
          476,
          451,
          446,
          521,
          258,
          340,
          506,
          318,
          389,
          409,
          409,
          409,
          408,
          410,
          409,
          431,
          409,
          408,
          430,
          528,
          386,
          509,
          499,
          433,
          425,
          392,
          416,
          530,
          464,
          401,
          543,
          439,
          270,
          284,
          392,
          390,
          395,
          400,
          407,
          438,
          438,
          438,
          439,
          439,
          426,
          439,
          442,
          430,
          435,
          431,
          443,
          433,
          419,
          420,
          431,
          442,
          534,
          396,
          329,
          569,
          508,
          543,
          501,
          512,
          427,
          574,
          453,
          520,
          424,
          493,
          519,
          464,
          223,
          421,
          382,
          554,
          493,
          444,
          416,
          498,
          509,
          385,
          520,
          393,
          554,
          506,
          373,
          517,
          571,
          511,
          405,
          170,
          532,
          539,
          573,
          475,
          472,
          247,
          446,
          253,
          227,
          485,
          532,
          443,
          426,
          399,
          448,
          275,
          530,
          349,
          529,
          343,
          327,
          551,
          337,
          253,
          557,
          451,
          262,
          533,
          195,
          284,
          382,
          435,
          432,
          306,
          465,
          492,
          434,
          450,
          488,
          446,
          475,
          374,
          491,
          508,
          292,
          422,
          187,
          332,
          382,
          404,
          484,
          350,
          267,
          299,
          228,
          358,
          459,
          427,
          342,
          324,
          354,
          483,
          320,
          360,
          432,
          481,
          487,
          265,
          284,
          440,
          409,
          359,
          387,
          289,
          345,
          505,
          481,
          406,
          417,
          401,
          425,
          505,
          340,
          290,
          396,
          374,
          488,
          529,
          447,
          439,
          379,
          351,
          437,
          434,
          446,
          306,
          441,
          521,
          297,
          479,
          264,
          236,
          420,
          425,
          323,
          496,
          337,
          492
         ]
        },
        {
         "hoverinfo": "text",
         "line": {
          "color": "rgba(128, 128, 128, 0.8)",
          "width": 6
         },
         "mode": "lines",
         "text": "52.44",
         "type": "scatter3d",
         "x": [
          95,
          146
         ],
         "y": [
          333,
          343
         ],
         "z": [
          317,
          324
         ]
        },
        {
         "hoverinfo": "text",
         "line": {
          "color": "rgba(128, 128, 128, 0.8)",
          "width": 6
         },
         "mode": "lines",
         "text": "52.32",
         "type": "scatter3d",
         "x": [
          104,
          155
         ],
         "y": [
          263,
          257
         ],
         "z": [
          334,
          344
         ]
        },
        {
         "hoverinfo": "text",
         "line": {
          "color": "rgba(128, 128, 128, 0.8)",
          "width": 6
         },
         "mode": "lines",
         "text": "54.08",
         "type": "scatter3d",
         "x": [
          115,
          155
         ],
         "y": [
          353,
          331
         ],
         "z": [
          277,
          306
         ]
        },
        {
         "hoverinfo": "text",
         "line": {
          "color": "rgba(128, 128, 128, 0.8)",
          "width": 6
         },
         "mode": "lines",
         "text": "98.37",
         "type": "scatter3d",
         "x": [
          117,
          191
         ],
         "y": [
          220,
          271
         ],
         "z": [
          307,
          347
         ]
        },
        {
         "hoverinfo": "text",
         "line": {
          "color": "rgba(128, 128, 128, 0.8)",
          "width": 6
         },
         "mode": "lines",
         "text": "128.53",
         "type": "scatter3d",
         "x": [
          129,
          257
         ],
         "y": [
          306,
          317
         ],
         "z": [
          485,
          481
         ]
        },
        {
         "hoverinfo": "text",
         "line": {
          "color": "rgba(128, 128, 128, 0.8)",
          "width": 6
         },
         "mode": "lines",
         "text": "36.89",
         "type": "scatter3d",
         "x": [
          130,
          146
         ],
         "y": [
          376,
          343
         ],
         "z": [
          320,
          324
         ]
        },
        {
         "hoverinfo": "text",
         "line": {
          "color": "rgba(128, 128, 128, 0.8)",
          "width": 6
         },
         "mode": "lines",
         "text": "144.03",
         "type": "scatter3d",
         "x": [
          138,
          282
         ],
         "y": [
          247,
          250
         ],
         "z": [
          447,
          446
         ]
        },
        {
         "hoverinfo": "text",
         "line": {
          "color": "rgba(128, 128, 128, 0.8)",
          "width": 6
         },
         "mode": "lines",
         "text": "30.48",
         "type": "scatter3d",
         "x": [
          139,
          163
         ],
         "y": [
          394,
          377
         ],
         "z": [
          360,
          368
         ]
        },
        {
         "hoverinfo": "text",
         "line": {
          "color": "rgba(128, 128, 128, 0.8)",
          "width": 6
         },
         "mode": "lines",
         "text": "30.68",
         "type": "scatter3d",
         "x": [
          144,
          163
         ],
         "y": [
          393,
          377
         ],
         "z": [
          386,
          368
         ]
        },
        {
         "hoverinfo": "text",
         "line": {
          "color": "rgba(128, 128, 128, 0.8)",
          "width": 6
         },
         "mode": "lines",
         "text": "23.43",
         "type": "scatter3d",
         "x": [
          146,
          164
         ],
         "y": [
          343,
          328
         ],
         "z": [
          324,
          324
         ]
        },
        {
         "hoverinfo": "text",
         "line": {
          "color": "rgba(128, 128, 128, 0.8)",
          "width": 6
         },
         "mode": "lines",
         "text": "12.04",
         "type": "scatter3d",
         "x": [
          147,
          155
         ],
         "y": [
          248,
          257
         ],
         "z": [
          344,
          344
         ]
        },
        {
         "hoverinfo": "text",
         "line": {
          "color": "rgba(128, 128, 128, 0.8)",
          "width": 6
         },
         "mode": "lines",
         "text": "3.74",
         "type": "scatter3d",
         "x": [
          152,
          155
         ],
         "y": [
          329,
          331
         ],
         "z": [
          305,
          306
         ]
        },
        {
         "hoverinfo": "text",
         "line": {
          "color": "rgba(128, 128, 128, 0.8)",
          "width": 6
         },
         "mode": "lines",
         "text": "38.74",
         "type": "scatter3d",
         "x": [
          155,
          191
         ],
         "y": [
          257,
          271
         ],
         "z": [
          344,
          347
         ]
        },
        {
         "hoverinfo": "text",
         "line": {
          "color": "rgba(128, 128, 128, 0.8)",
          "width": 6
         },
         "mode": "lines",
         "text": "15.43",
         "type": "scatter3d",
         "x": [
          158,
          173
         ],
         "y": [
          289,
          286
         ],
         "z": [
          368,
          370
         ]
        },
        {
         "hoverinfo": "text",
         "line": {
          "color": "rgba(128, 128, 128, 0.8)",
          "width": 6
         },
         "mode": "lines",
         "text": "27.31",
         "type": "scatter3d",
         "x": [
          160,
          181
         ],
         "y": [
          469,
          453
         ],
         "z": [
          347,
          354
         ]
        },
        {
         "hoverinfo": "text",
         "line": {
          "color": "rgba(128, 128, 128, 0.8)",
          "width": 6
         },
         "mode": "lines",
         "text": "71.39",
         "type": "scatter3d",
         "x": [
          163,
          229
         ],
         "y": [
          377,
          351
         ],
         "z": [
          368,
          360
         ]
        },
        {
         "hoverinfo": "text",
         "line": {
          "color": "rgba(128, 128, 128, 0.8)",
          "width": 6
         },
         "mode": "lines",
         "text": "7.00",
         "type": "scatter3d",
         "x": [
          170,
          173
         ],
         "y": [
          288,
          286
         ],
         "z": [
          376,
          370
         ]
        },
        {
         "hoverinfo": "text",
         "line": {
          "color": "rgba(128, 128, 128, 0.8)",
          "width": 6
         },
         "mode": "lines",
         "text": "77.26",
         "type": "scatter3d",
         "x": [
          170,
          238
         ],
         "y": [
          423,
          407
         ],
         "z": [
          261,
          294
         ]
        },
        {
         "hoverinfo": "text",
         "line": {
          "color": "rgba(128, 128, 128, 0.8)",
          "width": 6
         },
         "mode": "lines",
         "text": "74.26",
         "type": "scatter3d",
         "x": [
          171,
          220
         ],
         "y": [
          398,
          353
         ],
         "z": [
          458,
          425
         ]
        },
        {
         "hoverinfo": "text",
         "line": {
          "color": "rgba(128, 128, 128, 0.8)",
          "width": 6
         },
         "mode": "lines",
         "text": "31.11",
         "type": "scatter3d",
         "x": [
          173,
          199
         ],
         "y": [
          286,
          280
         ],
         "z": [
          370,
          354
         ]
        },
        {
         "hoverinfo": "text",
         "line": {
          "color": "rgba(128, 128, 128, 0.8)",
          "width": 6
         },
         "mode": "lines",
         "text": "8.06",
         "type": "scatter3d",
         "x": [
          176,
          181
         ],
         "y": [
          455,
          453
         ],
         "z": [
          360,
          354
         ]
        },
        {
         "hoverinfo": "text",
         "line": {
          "color": "rgba(128, 128, 128, 0.8)",
          "width": 6
         },
         "mode": "lines",
         "text": "15.62",
         "type": "scatter3d",
         "x": [
          177,
          189
         ],
         "y": [
          203,
          211
         ],
         "z": [
          373,
          379
         ]
        },
        {
         "hoverinfo": "text",
         "line": {
          "color": "rgba(128, 128, 128, 0.8)",
          "width": 6
         },
         "mode": "lines",
         "text": "64.20",
         "type": "scatter3d",
         "x": [
          182,
          238
         ],
         "y": [
          333,
          317
         ],
         "z": [
          518,
          491
         ]
        },
        {
         "hoverinfo": "text",
         "line": {
          "color": "rgba(128, 128, 128, 0.8)",
          "width": 6
         },
         "mode": "lines",
         "text": "7.14",
         "type": "scatter3d",
         "x": [
          184,
          191
         ],
         "y": [
          415,
          416
         ],
         "z": [
          425,
          424
         ]
        },
        {
         "hoverinfo": "text",
         "line": {
          "color": "rgba(128, 128, 128, 0.8)",
          "width": 6
         },
         "mode": "lines",
         "text": "1.73",
         "type": "scatter3d",
         "x": [
          188,
          189
         ],
         "y": [
          212,
          211
         ],
         "z": [
          380,
          379
         ]
        },
        {
         "hoverinfo": "text",
         "line": {
          "color": "rgba(128, 128, 128, 0.8)",
          "width": 6
         },
         "mode": "lines",
         "text": "6.08",
         "type": "scatter3d",
         "x": [
          190,
          191
         ],
         "y": [
          422,
          416
         ],
         "z": [
          424,
          424
         ]
        },
        {
         "hoverinfo": "text",
         "line": {
          "color": "rgba(128, 128, 128, 0.8)",
          "width": 6
         },
         "mode": "lines",
         "text": "36.18",
         "type": "scatter3d",
         "x": [
          190,
          220
         ],
         "y": [
          430,
          427
         ],
         "z": [
          378,
          358
         ]
        },
        {
         "hoverinfo": "text",
         "line": {
          "color": "rgba(128, 128, 128, 0.8)",
          "width": 6
         },
         "mode": "lines",
         "text": "3.46",
         "type": "scatter3d",
         "x": [
          191,
          193
         ],
         "y": [
          271,
          273
         ],
         "z": [
          347,
          349
         ]
        },
        {
         "hoverinfo": "text",
         "line": {
          "color": "rgba(128, 128, 128, 0.8)",
          "width": 6
         },
         "mode": "lines",
         "text": "37.78",
         "type": "scatter3d",
         "x": [
          191,
          212
         ],
         "y": [
          416,
          385
         ],
         "z": [
          424,
          429
         ]
        },
        {
         "hoverinfo": "text",
         "line": {
          "color": "rgba(128, 128, 128, 0.8)",
          "width": 6
         },
         "mode": "lines",
         "text": "20.32",
         "type": "scatter3d",
         "x": [
          191,
          210
         ],
         "y": [
          474,
          468
         ],
         "z": [
          377,
          373
         ]
        },
        {
         "hoverinfo": "text",
         "line": {
          "color": "rgba(128, 128, 128, 0.8)",
          "width": 6
         },
         "mode": "lines",
         "text": "1.41",
         "type": "scatter3d",
         "x": [
          192,
          193
         ],
         "y": [
          273,
          273
         ],
         "z": [
          350,
          349
         ]
        },
        {
         "hoverinfo": "text",
         "line": {
          "color": "rgba(128, 128, 128, 0.8)",
          "width": 6
         },
         "mode": "lines",
         "text": "10.49",
         "type": "scatter3d",
         "x": [
          193,
          199
         ],
         "y": [
          273,
          280
         ],
         "z": [
          349,
          354
         ]
        },
        {
         "hoverinfo": "text",
         "line": {
          "color": "rgba(128, 128, 128, 0.8)",
          "width": 6
         },
         "mode": "lines",
         "text": "13.42",
         "type": "scatter3d",
         "x": [
          195,
          205
         ],
         "y": [
          430,
          438
         ],
         "z": [
          355,
          351
         ]
        },
        {
         "hoverinfo": "text",
         "line": {
          "color": "rgba(128, 128, 128, 0.8)",
          "width": 6
         },
         "mode": "lines",
         "text": "49.97",
         "type": "scatter3d",
         "x": [
          199,
          246
         ],
         "y": [
          280,
          292
         ],
         "z": [
          354,
          366
         ]
        },
        {
         "hoverinfo": "text",
         "line": {
          "color": "rgba(128, 128, 128, 0.8)",
          "width": 6
         },
         "mode": "lines",
         "text": "37.96",
         "type": "scatter3d",
         "x": [
          199,
          235
         ],
         "y": [
          390,
          378
         ],
         "z": [
          506,
          505
         ]
        },
        {
         "hoverinfo": "text",
         "line": {
          "color": "rgba(128, 128, 128, 0.8)",
          "width": 6
         },
         "mode": "lines",
         "text": "15.94",
         "type": "scatter3d",
         "x": [
          201,
          214
         ],
         "y": [
          422,
          424
         ],
         "z": [
          298,
          289
         ]
        },
        {
         "hoverinfo": "text",
         "line": {
          "color": "rgba(128, 128, 128, 0.8)",
          "width": 6
         },
         "mode": "lines",
         "text": "103.93",
         "type": "scatter3d",
         "x": [
          202,
          297
         ],
         "y": [
          266,
          282
         ],
         "z": [
          538,
          499
         ]
        },
        {
         "hoverinfo": "text",
         "line": {
          "color": "rgba(128, 128, 128, 0.8)",
          "width": 6
         },
         "mode": "lines",
         "text": "23.07",
         "type": "scatter3d",
         "x": [
          203,
          221
         ],
         "y": [
          239,
          231
         ],
         "z": [
          475,
          463
         ]
        },
        {
         "hoverinfo": "text",
         "line": {
          "color": "rgba(128, 128, 128, 0.8)",
          "width": 6
         },
         "mode": "lines",
         "text": "58.09",
         "type": "scatter3d",
         "x": [
          203,
          212
         ],
         "y": [
          428,
          385
         ],
         "z": [
          467,
          429
         ]
        },
        {
         "hoverinfo": "text",
         "line": {
          "color": "rgba(128, 128, 128, 0.8)",
          "width": 6
         },
         "mode": "lines",
         "text": "25.20",
         "type": "scatter3d",
         "x": [
          205,
          206
         ],
         "y": [
          487,
          462
         ],
         "z": [
          348,
          345
         ]
        },
        {
         "hoverinfo": "text",
         "line": {
          "color": "rgba(128, 128, 128, 0.8)",
          "width": 6
         },
         "mode": "lines",
         "text": "28.88",
         "type": "scatter3d",
         "x": [
          206,
          213
         ],
         "y": [
          191,
          219
         ],
         "z": [
          374,
          375
         ]
        },
        {
         "hoverinfo": "text",
         "line": {
          "color": "rgba(128, 128, 128, 0.8)",
          "width": 6
         },
         "mode": "lines",
         "text": "23.43",
         "type": "scatter3d",
         "x": [
          208,
          225
         ],
         "y": [
          440,
          424
         ],
         "z": [
          351,
          353
         ]
        },
        {
         "hoverinfo": "text",
         "line": {
          "color": "rgba(128, 128, 128, 0.8)",
          "width": 6
         },
         "mode": "lines",
         "text": "22.89",
         "type": "scatter3d",
         "x": [
          208,
          206
         ],
         "y": [
          440,
          462
         ],
         "z": [
          351,
          345
         ]
        },
        {
         "hoverinfo": "text",
         "line": {
          "color": "rgba(128, 128, 128, 0.8)",
          "width": 6
         },
         "mode": "lines",
         "text": "3.61",
         "type": "scatter3d",
         "x": [
          208,
          205
         ],
         "y": [
          440,
          438
         ],
         "z": [
          351,
          351
         ]
        },
        {
         "hoverinfo": "text",
         "line": {
          "color": "rgba(128, 128, 128, 0.8)",
          "width": 6
         },
         "mode": "lines",
         "text": "22.00",
         "type": "scatter3d",
         "x": [
          209,
          221
         ],
         "y": [
          217,
          231
         ],
         "z": [
          475,
          463
         ]
        },
        {
         "hoverinfo": "text",
         "line": {
          "color": "rgba(128, 128, 128, 0.8)",
          "width": 6
         },
         "mode": "lines",
         "text": "5.39",
         "type": "scatter3d",
         "x": [
          209,
          206
         ],
         "y": [
          466,
          462
         ],
         "z": [
          343,
          345
         ]
        },
        {
         "hoverinfo": "text",
         "line": {
          "color": "rgba(128, 128, 128, 0.8)",
          "width": 6
         },
         "mode": "lines",
         "text": "38.01",
         "type": "scatter3d",
         "x": [
          210,
          238
         ],
         "y": [
          311,
          317
         ],
         "z": [
          516,
          491
         ]
        },
        {
         "hoverinfo": "text",
         "line": {
          "color": "rgba(128, 128, 128, 0.8)",
          "width": 6
         },
         "mode": "lines",
         "text": "8.25",
         "type": "scatter3d",
         "x": [
          210,
          214
         ],
         "y": [
          428,
          424
         ],
         "z": [
          283,
          289
         ]
        },
        {
         "hoverinfo": "text",
         "line": {
          "color": "rgba(128, 128, 128, 0.8)",
          "width": 6
         },
         "mode": "lines",
         "text": "17.12",
         "type": "scatter3d",
         "x": [
          210,
          218
         ],
         "y": [
          468,
          483
         ],
         "z": [
          373,
          375
         ]
        },
        {
         "hoverinfo": "text",
         "line": {
          "color": "rgba(128, 128, 128, 0.8)",
          "width": 6
         },
         "mode": "lines",
         "text": "44.79",
         "type": "scatter3d",
         "x": [
          210,
          220
         ],
         "y": [
          468,
          427
         ],
         "z": [
          373,
          358
         ]
        },
        {
         "hoverinfo": "text",
         "line": {
          "color": "rgba(128, 128, 128, 0.8)",
          "width": 6
         },
         "mode": "lines",
         "text": "33.23",
         "type": "scatter3d",
         "x": [
          212,
          220
         ],
         "y": [
          385,
          353
         ],
         "z": [
          429,
          425
         ]
        },
        {
         "hoverinfo": "text",
         "line": {
          "color": "rgba(128, 128, 128, 0.8)",
          "width": 6
         },
         "mode": "lines",
         "text": "47.24",
         "type": "scatter3d",
         "x": [
          213,
          249
         ],
         "y": [
          219,
          249
         ],
         "z": [
          375,
          381
         ]
        },
        {
         "hoverinfo": "text",
         "line": {
          "color": "rgba(128, 128, 128, 0.8)",
          "width": 6
         },
         "mode": "lines",
         "text": "25.61",
         "type": "scatter3d",
         "x": [
          213,
          189
         ],
         "y": [
          219,
          211
         ],
         "z": [
          375,
          379
         ]
        },
        {
         "hoverinfo": "text",
         "line": {
          "color": "rgba(128, 128, 128, 0.8)",
          "width": 6
         },
         "mode": "lines",
         "text": "17.15",
         "type": "scatter3d",
         "x": [
          213,
          220
         ],
         "y": [
          438,
          424
         ],
         "z": [
          299,
          292
         ]
        },
        {
         "hoverinfo": "text",
         "line": {
          "color": "rgba(128, 128, 128, 0.8)",
          "width": 6
         },
         "mode": "lines",
         "text": "19.39",
         "type": "scatter3d",
         "x": [
          214,
          232
         ],
         "y": [
          390,
          384
         ],
         "z": [
          542,
          538
         ]
        },
        {
         "hoverinfo": "text",
         "line": {
          "color": "rgba(128, 128, 128, 0.8)",
          "width": 6
         },
         "mode": "lines",
         "text": "39.29",
         "type": "scatter3d",
         "x": [
          216,
          250
         ],
         "y": [
          168,
          186
         ],
         "z": [
          424,
          416
         ]
        },
        {
         "hoverinfo": "text",
         "line": {
          "color": "rgba(128, 128, 128, 0.8)",
          "width": 6
         },
         "mode": "lines",
         "text": "24.84",
         "type": "scatter3d",
         "x": [
          220,
          238
         ],
         "y": [
          424,
          407
         ],
         "z": [
          292,
          294
         ]
        },
        {
         "hoverinfo": "text",
         "line": {
          "color": "rgba(128, 128, 128, 0.8)",
          "width": 6
         },
         "mode": "lines",
         "text": "6.71",
         "type": "scatter3d",
         "x": [
          220,
          214
         ],
         "y": [
          424,
          424
         ],
         "z": [
          292,
          289
         ]
        },
        {
         "hoverinfo": "text",
         "line": {
          "color": "rgba(128, 128, 128, 0.8)",
          "width": 6
         },
         "mode": "lines",
         "text": "66.11",
         "type": "scatter3d",
         "x": [
          221,
          282
         ],
         "y": [
          231,
          250
         ],
         "z": [
          463,
          446
         ]
        },
        {
         "hoverinfo": "text",
         "line": {
          "color": "rgba(128, 128, 128, 0.8)",
          "width": 6
         },
         "mode": "lines",
         "text": "40.10",
         "type": "scatter3d",
         "x": [
          222,
          238
         ],
         "y": [
          93,
          127
         ],
         "z": [
          373,
          387
         ]
        },
        {
         "hoverinfo": "text",
         "line": {
          "color": "rgba(128, 128, 128, 0.8)",
          "width": 6
         },
         "mode": "lines",
         "text": "7.68",
         "type": "scatter3d",
         "x": [
          225,
          220
         ],
         "y": [
          424,
          427
         ],
         "z": [
          353,
          358
         ]
        },
        {
         "hoverinfo": "text",
         "line": {
          "color": "rgba(128, 128, 128, 0.8)",
          "width": 6
         },
         "mode": "lines",
         "text": "37.50",
         "type": "scatter3d",
         "x": [
          225,
          239
         ],
         "y": [
          424,
          391
         ],
         "z": [
          353,
          342
         ]
        },
        {
         "hoverinfo": "text",
         "line": {
          "color": "rgba(128, 128, 128, 0.8)",
          "width": 6
         },
         "mode": "lines",
         "text": "16.09",
         "type": "scatter3d",
         "x": [
          229,
          242
         ],
         "y": [
          446,
          443
         ],
         "z": [
          217,
          226
         ]
        },
        {
         "hoverinfo": "text",
         "line": {
          "color": "rgba(128, 128, 128, 0.8)",
          "width": 6
         },
         "mode": "lines",
         "text": "9.49",
         "type": "scatter3d",
         "x": [
          231,
          232
         ],
         "y": [
          389,
          384
         ],
         "z": [
          546,
          538
         ]
        },
        {
         "hoverinfo": "text",
         "line": {
          "color": "rgba(128, 128, 128, 0.8)",
          "width": 6
         },
         "mode": "lines",
         "text": "38.29",
         "type": "scatter3d",
         "x": [
          232,
          243
         ],
         "y": [
          384,
          368
         ],
         "z": [
          538,
          505
         ]
        },
        {
         "hoverinfo": "text",
         "line": {
          "color": "rgba(128, 128, 128, 0.8)",
          "width": 6
         },
         "mode": "lines",
         "text": "18.55",
         "type": "scatter3d",
         "x": [
          233,
          235
         ],
         "y": [
          396,
          378
         ],
         "z": [
          509,
          505
         ]
        },
        {
         "hoverinfo": "text",
         "line": {
          "color": "rgba(128, 128, 128, 0.8)",
          "width": 6
         },
         "mode": "lines",
         "text": "82.73",
         "type": "scatter3d",
         "x": [
          234,
          164
         ],
         "y": [
          325,
          328
         ],
         "z": [
          368,
          324
         ]
        },
        {
         "hoverinfo": "text",
         "line": {
          "color": "rgba(128, 128, 128, 0.8)",
          "width": 6
         },
         "mode": "lines",
         "text": "27.66",
         "type": "scatter3d",
         "x": [
          234,
          229
         ],
         "y": [
          325,
          351
         ],
         "z": [
          368,
          360
         ]
        },
        {
         "hoverinfo": "text",
         "line": {
          "color": "rgba(128, 128, 128, 0.8)",
          "width": 6
         },
         "mode": "lines",
         "text": "34.93",
         "type": "scatter3d",
         "x": [
          234,
          254
         ],
         "y": [
          325,
          297
         ],
         "z": [
          368,
          374
         ]
        },
        {
         "hoverinfo": "text",
         "line": {
          "color": "rgba(128, 128, 128, 0.8)",
          "width": 6
         },
         "mode": "lines",
         "text": "40.31",
         "type": "scatter3d",
         "x": [
          237,
          242
         ],
         "y": [
          96,
          136
         ],
         "z": [
          396,
          396
         ]
        },
        {
         "hoverinfo": "text",
         "line": {
          "color": "rgba(128, 128, 128, 0.8)",
          "width": 6
         },
         "mode": "lines",
         "text": "37.76",
         "type": "scatter3d",
         "x": [
          238,
          250
         ],
         "y": [
          127,
          98
         ],
         "z": [
          387,
          366
         ]
        },
        {
         "hoverinfo": "text",
         "line": {
          "color": "rgba(128, 128, 128, 0.8)",
          "width": 6
         },
         "mode": "lines",
         "text": "13.34",
         "type": "scatter3d",
         "x": [
          238,
          242
         ],
         "y": [
          127,
          136
         ],
         "z": [
          387,
          396
         ]
        },
        {
         "hoverinfo": "text",
         "line": {
          "color": "rgba(128, 128, 128, 0.8)",
          "width": 6
         },
         "mode": "lines",
         "text": "21.47",
         "type": "scatter3d",
         "x": [
          238,
          257
         ],
         "y": [
          317,
          317
         ],
         "z": [
          491,
          481
         ]
        },
        {
         "hoverinfo": "text",
         "line": {
          "color": "rgba(255, 0, 0, 0.8)",
          "width": 6
         },
         "mode": "lines",
         "text": "1.00",
         "type": "scatter3d",
         "x": [
          238,
          239
         ],
         "y": [
          407,
          407
         ],
         "z": [
          294,
          294
         ]
        },
        {
         "hoverinfo": "text",
         "line": {
          "color": "rgba(255, 0, 0, 0.8)",
          "width": 6
         },
         "mode": "lines",
         "text": "1.41",
         "type": "scatter3d",
         "x": [
          238,
          239
         ],
         "y": [
          407,
          407
         ],
         "z": [
          294,
          295
         ]
        },
        {
         "hoverinfo": "text",
         "line": {
          "color": "rgba(255, 0, 0, 0.8)",
          "width": 6
         },
         "mode": "lines",
         "text": "1.00",
         "type": "scatter3d",
         "x": [
          239,
          239
         ],
         "y": [
          407,
          407
         ],
         "z": [
          294,
          295
         ]
        },
        {
         "hoverinfo": "text",
         "line": {
          "color": "rgba(128, 128, 128, 0.8)",
          "width": 6
         },
         "mode": "lines",
         "text": "34.89",
         "type": "scatter3d",
         "x": [
          239,
          260
         ],
         "y": [
          407,
          417
         ],
         "z": [
          294,
          268
         ]
        },
        {
         "hoverinfo": "text",
         "line": {
          "color": "rgba(128, 128, 128, 0.8)",
          "width": 6
         },
         "mode": "lines",
         "text": "53.68",
         "type": "scatter3d",
         "x": [
          239,
          235
         ],
         "y": [
          407,
          378
         ],
         "z": [
          295,
          340
         ]
        },
        {
         "hoverinfo": "text",
         "line": {
          "color": "rgba(128, 128, 128, 0.8)",
          "width": 6
         },
         "mode": "lines",
         "text": "46.11",
         "type": "scatter3d",
         "x": [
          240,
          249
         ],
         "y": [
          212,
          249
         ],
         "z": [
          355,
          381
         ]
        },
        {
         "hoverinfo": "text",
         "line": {
          "color": "rgba(128, 128, 128, 0.8)",
          "width": 6
         },
         "mode": "lines",
         "text": "9.54",
         "type": "scatter3d",
         "x": [
          242,
          243
         ],
         "y": [
          443,
          452
         ],
         "z": [
          226,
          223
         ]
        },
        {
         "hoverinfo": "text",
         "line": {
          "color": "rgba(128, 128, 128, 0.8)",
          "width": 6
         },
         "mode": "lines",
         "text": "20.98",
         "type": "scatter3d",
         "x": [
          242,
          256
         ],
         "y": [
          443,
          431
         ],
         "z": [
          226,
          236
         ]
        },
        {
         "hoverinfo": "text",
         "line": {
          "color": "rgba(128, 128, 128, 0.8)",
          "width": 6
         },
         "mode": "lines",
         "text": "11.36",
         "type": "scatter3d",
         "x": [
          243,
          253
         ],
         "y": [
          296,
          301
         ],
         "z": [
          307,
          305
         ]
        },
        {
         "hoverinfo": "text",
         "line": {
          "color": "rgba(128, 128, 128, 0.8)",
          "width": 6
         },
         "mode": "lines",
         "text": "56.22",
         "type": "scatter3d",
         "x": [
          243,
          277
         ],
         "y": [
          368,
          329
         ],
         "z": [
          505,
          483
         ]
        },
        {
         "hoverinfo": "text",
         "line": {
          "color": "rgba(128, 128, 128, 0.8)",
          "width": 6
         },
         "mode": "lines",
         "text": "12.81",
         "type": "scatter3d",
         "x": [
          243,
          235
         ],
         "y": [
          368,
          378
         ],
         "z": [
          505,
          505
         ]
        },
        {
         "hoverinfo": "text",
         "line": {
          "color": "rgba(128, 128, 128, 0.8)",
          "width": 6
         },
         "mode": "lines",
         "text": "31.65",
         "type": "scatter3d",
         "x": [
          245,
          258
         ],
         "y": [
          395,
          423
         ],
         "z": [
          337,
          330
         ]
        },
        {
         "hoverinfo": "text",
         "line": {
          "color": "rgba(128, 128, 128, 0.8)",
          "width": 6
         },
         "mode": "lines",
         "text": "57.46",
         "type": "scatter3d",
         "x": [
          245,
          283
         ],
         "y": [
          395,
          438
         ],
         "z": [
          337,
          340
         ]
        },
        {
         "hoverinfo": "text",
         "line": {
          "color": "rgba(128, 128, 128, 0.8)",
          "width": 6
         },
         "mode": "lines",
         "text": "8.77",
         "type": "scatter3d",
         "x": [
          245,
          239
         ],
         "y": [
          395,
          391
         ],
         "z": [
          337,
          342
         ]
        },
        {
         "hoverinfo": "text",
         "line": {
          "color": "rgba(128, 128, 128, 0.8)",
          "width": 6
         },
         "mode": "lines",
         "text": "1.73",
         "type": "scatter3d",
         "x": [
          246,
          247
         ],
         "y": [
          292,
          291
         ],
         "z": [
          366,
          367
         ]
        },
        {
         "hoverinfo": "text",
         "line": {
          "color": "rgba(128, 128, 128, 0.8)",
          "width": 6
         },
         "mode": "lines",
         "text": "30.77",
         "type": "scatter3d",
         "x": [
          246,
          259
         ],
         "y": [
          292,
          299
         ],
         "z": [
          366,
          339
         ]
        },
        {
         "hoverinfo": "text",
         "line": {
          "color": "rgba(128, 128, 128, 0.8)",
          "width": 6
         },
         "mode": "lines",
         "text": "1.41",
         "type": "scatter3d",
         "x": [
          247,
          248
         ],
         "y": [
          291,
          290
         ],
         "z": [
          367,
          367
         ]
        },
        {
         "hoverinfo": "text",
         "line": {
          "color": "rgba(128, 128, 128, 0.8)",
          "width": 6
         },
         "mode": "lines",
         "text": "11.58",
         "type": "scatter3d",
         "x": [
          247,
          254
         ],
         "y": [
          291,
          297
         ],
         "z": [
          367,
          374
         ]
        },
        {
         "hoverinfo": "text",
         "line": {
          "color": "rgba(128, 128, 128, 0.8)",
          "width": 6
         },
         "mode": "lines",
         "text": "47.76",
         "type": "scatter3d",
         "x": [
          249,
          283
         ],
         "y": [
          249,
          282
         ],
         "z": [
          381,
          387
         ]
        },
        {
         "hoverinfo": "text",
         "line": {
          "color": "rgba(128, 128, 128, 0.8)",
          "width": 6
         },
         "mode": "lines",
         "text": "88.50",
         "type": "scatter3d",
         "x": [
          249,
          275
         ],
         "y": [
          441,
          357
         ],
         "z": [
          411,
          401
         ]
        },
        {
         "hoverinfo": "text",
         "line": {
          "color": "rgba(128, 128, 128, 0.8)",
          "width": 6
         },
         "mode": "lines",
         "text": "64.57",
         "type": "scatter3d",
         "x": [
          250,
          292
         ],
         "y": [
          186,
          233
         ],
         "z": [
          416,
          430
         ]
        },
        {
         "hoverinfo": "text",
         "line": {
          "color": "rgba(128, 128, 128, 0.8)",
          "width": 6
         },
         "mode": "lines",
         "text": "54.44",
         "type": "scatter3d",
         "x": [
          250,
          242
         ],
         "y": [
          186,
          136
         ],
         "z": [
          416,
          396
         ]
        },
        {
         "hoverinfo": "text",
         "line": {
          "color": "rgba(128, 128, 128, 0.8)",
          "width": 6
         },
         "mode": "lines",
         "text": "14.53",
         "type": "scatter3d",
         "x": [
          250,
          253
         ],
         "y": [
          312,
          301
         ],
         "z": [
          296,
          305
         ]
        },
        {
         "hoverinfo": "text",
         "line": {
          "color": "rgba(128, 128, 128, 0.8)",
          "width": 6
         },
         "mode": "lines",
         "text": "42.59",
         "type": "scatter3d",
         "x": [
          251,
          258
         ],
         "y": [
          465,
          423
         ],
         "z": [
          329,
          330
         ]
        },
        {
         "hoverinfo": "text",
         "line": {
          "color": "rgba(128, 128, 128, 0.8)",
          "width": 6
         },
         "mode": "lines",
         "text": "34.58",
         "type": "scatter3d",
         "x": [
          253,
          259
         ],
         "y": [
          301,
          299
         ],
         "z": [
          305,
          339
         ]
        },
        {
         "hoverinfo": "text",
         "line": {
          "color": "rgba(128, 128, 128, 0.8)",
          "width": 6
         },
         "mode": "lines",
         "text": "21.66",
         "type": "scatter3d",
         "x": [
          258,
          273
         ],
         "y": [
          423,
          433
         ],
         "z": [
          330,
          318
         ]
        },
        {
         "hoverinfo": "text",
         "line": {
          "color": "rgba(128, 128, 128, 0.8)",
          "width": 6
         },
         "mode": "lines",
         "text": "72.34",
         "type": "scatter3d",
         "x": [
          259,
          304
         ],
         "y": [
          299,
          337
         ],
         "z": [
          339,
          297
         ]
        },
        {
         "hoverinfo": "text",
         "line": {
          "color": "rgba(128, 128, 128, 0.8)",
          "width": 6
         },
         "mode": "lines",
         "text": "25.10",
         "type": "scatter3d",
         "x": [
          260,
          283
         ],
         "y": [
          417,
          416
         ],
         "z": [
          268,
          258
         ]
        },
        {
         "hoverinfo": "text",
         "line": {
          "color": "rgba(128, 128, 128, 0.8)",
          "width": 6
         },
         "mode": "lines",
         "text": "35.16",
         "type": "scatter3d",
         "x": [
          260,
          256
         ],
         "y": [
          417,
          431
         ],
         "z": [
          268,
          236
         ]
        },
        {
         "hoverinfo": "text",
         "line": {
          "color": "rgba(128, 128, 128, 0.8)",
          "width": 6
         },
         "mode": "lines",
         "text": "7.14",
         "type": "scatter3d",
         "x": [
          260,
          261
         ],
         "y": [
          427,
          420
         ],
         "z": [
          230,
          229
         ]
        },
        {
         "hoverinfo": "text",
         "line": {
          "color": "rgba(128, 128, 128, 0.8)",
          "width": 6
         },
         "mode": "lines",
         "text": "10.20",
         "type": "scatter3d",
         "x": [
          260,
          268
         ],
         "y": [
          427,
          429
         ],
         "z": [
          230,
          224
         ]
        },
        {
         "hoverinfo": "text",
         "line": {
          "color": "rgba(128, 128, 128, 0.8)",
          "width": 6
         },
         "mode": "lines",
         "text": "8.25",
         "type": "scatter3d",
         "x": [
          260,
          256
         ],
         "y": [
          427,
          431
         ],
         "z": [
          230,
          236
         ]
        },
        {
         "hoverinfo": "text",
         "line": {
          "color": "rgba(128, 128, 128, 0.8)",
          "width": 6
         },
         "mode": "lines",
         "text": "33.84",
         "type": "scatter3d",
         "x": [
          262,
          282
         ],
         "y": [
          252,
          276
         ],
         "z": [
          534,
          521
         ]
        },
        {
         "hoverinfo": "text",
         "line": {
          "color": "rgba(128, 128, 128, 0.8)",
          "width": 6
         },
         "mode": "lines",
         "text": "31.84",
         "type": "scatter3d",
         "x": [
          265,
          278
         ],
         "y": [
          307,
          285
         ],
         "z": [
          406,
          387
         ]
        },
        {
         "hoverinfo": "text",
         "line": {
          "color": "rgba(128, 128, 128, 0.8)",
          "width": 6
         },
         "mode": "lines",
         "text": "27.18",
         "type": "scatter3d",
         "x": [
          265,
          282
         ],
         "y": [
          307,
          328
         ],
         "z": [
          406,
          409
         ]
        },
        {
         "hoverinfo": "text",
         "line": {
          "color": "rgba(128, 128, 128, 0.8)",
          "width": 6
         },
         "mode": "lines",
         "text": "10.82",
         "type": "scatter3d",
         "x": [
          265,
          259
         ],
         "y": [
          307,
          316
         ],
         "z": [
          406,
          406
         ]
        },
        {
         "hoverinfo": "text",
         "line": {
          "color": "rgba(128, 128, 128, 0.8)",
          "width": 6
         },
         "mode": "lines",
         "text": "48.43",
         "type": "scatter3d",
         "x": [
          267,
          277
         ],
         "y": [
          231,
          237
         ],
         "z": [
          312,
          359
         ]
        },
        {
         "hoverinfo": "text",
         "line": {
          "color": "rgba(128, 128, 128, 0.8)",
          "width": 6
         },
         "mode": "lines",
         "text": "73.52",
         "type": "scatter3d",
         "x": [
          268,
          296
         ],
         "y": [
          331,
          301
         ],
         "z": [
          570,
          509
         ]
        },
        {
         "hoverinfo": "text",
         "line": {
          "color": "rgba(128, 128, 128, 0.8)",
          "width": 6
         },
         "mode": "lines",
         "text": "44.52",
         "type": "scatter3d",
         "x": [
          269,
          282
         ],
         "y": [
          283,
          276
         ],
         "z": [
          563,
          521
         ]
        },
        {
         "hoverinfo": "text",
         "line": {
          "color": "rgba(128, 128, 128, 0.8)",
          "width": 6
         },
         "mode": "lines",
         "text": "86.96",
         "type": "scatter3d",
         "x": [
          272,
          277
         ],
         "y": [
          158,
          237
         ],
         "z": [
          323,
          359
         ]
        },
        {
         "hoverinfo": "text",
         "line": {
          "color": "rgba(128, 128, 128, 0.8)",
          "width": 6
         },
         "mode": "lines",
         "text": "85.59",
         "type": "scatter3d",
         "x": [
          272,
          282
         ],
         "y": [
          403,
          328
         ],
         "z": [
          449,
          409
         ]
        },
        {
         "hoverinfo": "text",
         "line": {
          "color": "rgba(128, 128, 128, 0.8)",
          "width": 6
         },
         "mode": "lines",
         "text": "11.58",
         "type": "scatter3d",
         "x": [
          273,
          280
         ],
         "y": [
          193,
          202
         ],
         "z": [
          449,
          451
         ]
        },
        {
         "hoverinfo": "text",
         "line": {
          "color": "rgba(128, 128, 128, 0.8)",
          "width": 6
         },
         "mode": "lines",
         "text": "21.47",
         "type": "scatter3d",
         "x": [
          273,
          279
         ],
         "y": [
          433,
          449
         ],
         "z": [
          318,
          305
         ]
        },
        {
         "hoverinfo": "text",
         "line": {
          "color": "rgba(128, 128, 128, 0.8)",
          "width": 6
         },
         "mode": "lines",
         "text": "14.56",
         "type": "scatter3d",
         "x": [
          273,
          287
         ],
         "y": [
          433,
          437
         ],
         "z": [
          318,
          318
         ]
        },
        {
         "hoverinfo": "text",
         "line": {
          "color": "rgba(128, 128, 128, 0.8)",
          "width": 6
         },
         "mode": "lines",
         "text": "20.83",
         "type": "scatter3d",
         "x": [
          275,
          288
         ],
         "y": [
          357,
          368
         ],
         "z": [
          401,
          389
         ]
        },
        {
         "hoverinfo": "text",
         "line": {
          "color": "rgba(128, 128, 128, 0.8)",
          "width": 6
         },
         "mode": "lines",
         "text": "44.29",
         "type": "scatter3d",
         "x": [
          275,
          259
         ],
         "y": [
          357,
          316
         ],
         "z": [
          401,
          406
         ]
        },
        {
         "hoverinfo": "text",
         "line": {
          "color": "rgba(128, 128, 128, 0.8)",
          "width": 6
         },
         "mode": "lines",
         "text": "48.76",
         "type": "scatter3d",
         "x": [
          277,
          305
         ],
         "y": [
          319,
          282
         ],
         "z": [
          479,
          464
         ]
        },
        {
         "hoverinfo": "text",
         "line": {
          "color": "rgba(128, 128, 128, 0.8)",
          "width": 6
         },
         "mode": "lines",
         "text": "10.77",
         "type": "scatter3d",
         "x": [
          277,
          277
         ],
         "y": [
          319,
          329
         ],
         "z": [
          479,
          483
         ]
        },
        {
         "hoverinfo": "text",
         "line": {
          "color": "rgba(128, 128, 128, 0.8)",
          "width": 6
         },
         "mode": "lines",
         "text": "20.20",
         "type": "scatter3d",
         "x": [
          277,
          257
         ],
         "y": [
          319,
          317
         ],
         "z": [
          479,
          481
         ]
        },
        {
         "hoverinfo": "text",
         "line": {
          "color": "rgba(128, 128, 128, 0.8)",
          "width": 6
         },
         "mode": "lines",
         "text": "5.83",
         "type": "scatter3d",
         "x": [
          278,
          283
         ],
         "y": [
          285,
          282
         ],
         "z": [
          387,
          387
         ]
        },
        {
         "hoverinfo": "text",
         "line": {
          "color": "rgba(128, 128, 128, 0.8)",
          "width": 6
         },
         "mode": "lines",
         "text": "29.82",
         "type": "scatter3d",
         "x": [
          278,
          254
         ],
         "y": [
          285,
          297
         ],
         "z": [
          387,
          374
         ]
        },
        {
         "hoverinfo": "text",
         "line": {
          "color": "rgba(128, 128, 128, 0.8)",
          "width": 6
         },
         "mode": "lines",
         "text": "36.80",
         "type": "scatter3d",
         "x": [
          280,
          280
         ],
         "y": [
          175,
          202
         ],
         "z": [
          476,
          451
         ]
        },
        {
         "hoverinfo": "text",
         "line": {
          "color": "rgba(128, 128, 128, 0.8)",
          "width": 6
         },
         "mode": "lines",
         "text": "35.36",
         "type": "scatter3d",
         "x": [
          280,
          291
         ],
         "y": [
          202,
          229
         ],
         "z": [
          451,
          431
         ]
        },
        {
         "hoverinfo": "text",
         "line": {
          "color": "rgba(128, 128, 128, 0.8)",
          "width": 6
         },
         "mode": "lines",
         "text": "20.62",
         "type": "scatter3d",
         "x": [
          282,
          298
         ],
         "y": [
          250,
          250
         ],
         "z": [
          446,
          433
         ]
        },
        {
         "hoverinfo": "text",
         "line": {
          "color": "rgba(128, 128, 128, 0.8)",
          "width": 6
         },
         "mode": "lines",
         "text": "20.71",
         "type": "scatter3d",
         "x": [
          282,
          295
         ],
         "y": [
          276,
          278
         ],
         "z": [
          521,
          505
         ]
        },
        {
         "hoverinfo": "text",
         "line": {
          "color": "rgba(128, 128, 128, 0.8)",
          "width": 6
         },
         "mode": "lines",
         "text": "59.24",
         "type": "scatter3d",
         "x": [
          285,
          277
         ],
         "y": [
          383,
          329
         ],
         "z": [
          506,
          483
         ]
        },
        {
         "hoverinfo": "text",
         "line": {
          "color": "rgba(255, 0, 0, 0.8)",
          "width": 6
         },
         "mode": "lines",
         "text": "1.00",
         "type": "scatter3d",
         "x": [
          289,
          289
         ],
         "y": [
          332,
          333
         ],
         "z": [
          409,
          409
         ]
        },
        {
         "hoverinfo": "text",
         "line": {
          "color": "rgba(255, 0, 0, 0.8)",
          "width": 6
         },
         "mode": "lines",
         "text": "1.00",
         "type": "scatter3d",
         "x": [
          289,
          290
         ],
         "y": [
          332,
          332
         ],
         "z": [
          409,
          409
         ]
        },
        {
         "hoverinfo": "text",
         "line": {
          "color": "rgba(255, 0, 0, 0.8)",
          "width": 6
         },
         "mode": "lines",
         "text": "1.73",
         "type": "scatter3d",
         "x": [
          289,
          290
         ],
         "y": [
          332,
          333
         ],
         "z": [
          409,
          408
         ]
        },
        {
         "hoverinfo": "text",
         "line": {
          "color": "rgba(255, 0, 0, 0.8)",
          "width": 6
         },
         "mode": "lines",
         "text": "1.73",
         "type": "scatter3d",
         "x": [
          289,
          290
         ],
         "y": [
          332,
          333
         ],
         "z": [
          409,
          410
         ]
        },
        {
         "hoverinfo": "text",
         "line": {
          "color": "rgba(128, 128, 128, 0.8)",
          "width": 6
         },
         "mode": "lines",
         "text": "8.06",
         "type": "scatter3d",
         "x": [
          289,
          282
         ],
         "y": [
          332,
          328
         ],
         "z": [
          409,
          409
         ]
        },
        {
         "hoverinfo": "text",
         "line": {
          "color": "rgba(255, 0, 0, 0.8)",
          "width": 6
         },
         "mode": "lines",
         "text": "1.41",
         "type": "scatter3d",
         "x": [
          289,
          290
         ],
         "y": [
          333,
          332
         ],
         "z": [
          409,
          409
         ]
        },
        {
         "hoverinfo": "text",
         "line": {
          "color": "rgba(255, 0, 0, 0.8)",
          "width": 6
         },
         "mode": "lines",
         "text": "1.41",
         "type": "scatter3d",
         "x": [
          289,
          290
         ],
         "y": [
          333,
          333
         ],
         "z": [
          409,
          408
         ]
        },
        {
         "hoverinfo": "text",
         "line": {
          "color": "rgba(255, 0, 0, 0.8)",
          "width": 6
         },
         "mode": "lines",
         "text": "1.41",
         "type": "scatter3d",
         "x": [
          289,
          290
         ],
         "y": [
          333,
          333
         ],
         "z": [
          409,
          410
         ]
        },
        {
         "hoverinfo": "text",
         "line": {
          "color": "rgba(255, 0, 0, 0.8)",
          "width": 6
         },
         "mode": "lines",
         "text": "1.41",
         "type": "scatter3d",
         "x": [
          289,
          290
         ],
         "y": [
          333,
          334
         ],
         "z": [
          409,
          409
         ]
        },
        {
         "hoverinfo": "text",
         "line": {
          "color": "rgba(255, 0, 0, 0.8)",
          "width": 6
         },
         "mode": "lines",
         "text": "1.41",
         "type": "scatter3d",
         "x": [
          290,
          290
         ],
         "y": [
          332,
          333
         ],
         "z": [
          409,
          408
         ]
        },
        {
         "hoverinfo": "text",
         "line": {
          "color": "rgba(255, 0, 0, 0.8)",
          "width": 6
         },
         "mode": "lines",
         "text": "1.41",
         "type": "scatter3d",
         "x": [
          290,
          290
         ],
         "y": [
          332,
          333
         ],
         "z": [
          409,
          410
         ]
        },
        {
         "hoverinfo": "text",
         "line": {
          "color": "rgba(255, 0, 0, 0.8)",
          "width": 6
         },
         "mode": "lines",
         "text": "1.41",
         "type": "scatter3d",
         "x": [
          290,
          291
         ],
         "y": [
          332,
          333
         ],
         "z": [
          409,
          409
         ]
        },
        {
         "hoverinfo": "text",
         "line": {
          "color": "rgba(255, 0, 0, 0.8)",
          "width": 6
         },
         "mode": "lines",
         "text": "1.41",
         "type": "scatter3d",
         "x": [
          290,
          290
         ],
         "y": [
          333,
          334
         ],
         "z": [
          408,
          409
         ]
        },
        {
         "hoverinfo": "text",
         "line": {
          "color": "rgba(255, 0, 0, 0.8)",
          "width": 6
         },
         "mode": "lines",
         "text": "1.41",
         "type": "scatter3d",
         "x": [
          290,
          291
         ],
         "y": [
          333,
          333
         ],
         "z": [
          408,
          409
         ]
        },
        {
         "hoverinfo": "text",
         "line": {
          "color": "rgba(255, 0, 0, 0.8)",
          "width": 6
         },
         "mode": "lines",
         "text": "1.41",
         "type": "scatter3d",
         "x": [
          290,
          291
         ],
         "y": [
          333,
          334
         ],
         "z": [
          408,
          408
         ]
        },
        {
         "hoverinfo": "text",
         "line": {
          "color": "rgba(255, 0, 0, 0.8)",
          "width": 6
         },
         "mode": "lines",
         "text": "1.41",
         "type": "scatter3d",
         "x": [
          290,
          290
         ],
         "y": [
          333,
          334
         ],
         "z": [
          410,
          409
         ]
        },
        {
         "hoverinfo": "text",
         "line": {
          "color": "rgba(255, 0, 0, 0.8)",
          "width": 6
         },
         "mode": "lines",
         "text": "1.41",
         "type": "scatter3d",
         "x": [
          290,
          291
         ],
         "y": [
          333,
          333
         ],
         "z": [
          410,
          409
         ]
        },
        {
         "hoverinfo": "text",
         "line": {
          "color": "rgba(255, 0, 0, 0.8)",
          "width": 6
         },
         "mode": "lines",
         "text": "1.41",
         "type": "scatter3d",
         "x": [
          290,
          291
         ],
         "y": [
          334,
          333
         ],
         "z": [
          409,
          409
         ]
        },
        {
         "hoverinfo": "text",
         "line": {
          "color": "rgba(255, 0, 0, 0.8)",
          "width": 6
         },
         "mode": "lines",
         "text": "1.41",
         "type": "scatter3d",
         "x": [
          290,
          291
         ],
         "y": [
          334,
          334
         ],
         "z": [
          409,
          408
         ]
        },
        {
         "hoverinfo": "text",
         "line": {
          "color": "rgba(128, 128, 128, 0.8)",
          "width": 6
         },
         "mode": "lines",
         "text": "4.24",
         "type": "scatter3d",
         "x": [
          291,
          292
         ],
         "y": [
          229,
          233
         ],
         "z": [
          431,
          430
         ]
        },
        {
         "hoverinfo": "text",
         "line": {
          "color": "rgba(128, 128, 128, 0.8)",
          "width": 6
         },
         "mode": "lines",
         "text": "59.00",
         "type": "scatter3d",
         "x": [
          291,
          297
         ],
         "y": [
          229,
          172
         ],
         "z": [
          431,
          417
         ]
        },
        {
         "hoverinfo": "text",
         "line": {
          "color": "rgba(255, 0, 0, 0.8)",
          "width": 6
         },
         "mode": "lines",
         "text": "1.41",
         "type": "scatter3d",
         "x": [
          291,
          291
         ],
         "y": [
          333,
          334
         ],
         "z": [
          409,
          408
         ]
        },
        {
         "hoverinfo": "text",
         "line": {
          "color": "rgba(128, 128, 128, 0.8)",
          "width": 6
         },
         "mode": "lines",
         "text": "17.55",
         "type": "scatter3d",
         "x": [
          291,
          301
         ],
         "y": [
          334,
          346
         ],
         "z": [
          408,
          416
         ]
        },
        {
         "hoverinfo": "text",
         "line": {
          "color": "rgba(128, 128, 128, 0.8)",
          "width": 6
         },
         "mode": "lines",
         "text": "18.28",
         "type": "scatter3d",
         "x": [
          292,
          298
         ],
         "y": [
          233,
          250
         ],
         "z": [
          430,
          433
         ]
        },
        {
         "hoverinfo": "text",
         "line": {
          "color": "rgba(128, 128, 128, 0.8)",
          "width": 6
         },
         "mode": "lines",
         "text": "20.86",
         "type": "scatter3d",
         "x": [
          292,
          297
         ],
         "y": [
          239,
          258
         ],
         "z": [
          528,
          521
         ]
        },
        {
         "hoverinfo": "text",
         "line": {
          "color": "rgba(128, 128, 128, 0.8)",
          "width": 6
         },
         "mode": "lines",
         "text": "40.89",
         "type": "scatter3d",
         "x": [
          293,
          333
         ],
         "y": [
          281,
          287
         ],
         "z": [
          386,
          392
         ]
        },
        {
         "hoverinfo": "text",
         "line": {
          "color": "rgba(128, 128, 128, 0.8)",
          "width": 6
         },
         "mode": "lines",
         "text": "54.05",
         "type": "scatter3d",
         "x": [
          293,
          277
         ],
         "y": [
          281,
          237
         ],
         "z": [
          386,
          359
         ]
        },
        {
         "hoverinfo": "text",
         "line": {
          "color": "rgba(128, 128, 128, 0.8)",
          "width": 6
         },
         "mode": "lines",
         "text": "10.10",
         "type": "scatter3d",
         "x": [
          293,
          283
         ],
         "y": [
          281,
          282
         ],
         "z": [
          386,
          387
         ]
        },
        {
         "hoverinfo": "text",
         "line": {
          "color": "rgba(128, 128, 128, 0.8)",
          "width": 6
         },
         "mode": "lines",
         "text": "21.49",
         "type": "scatter3d",
         "x": [
          296,
          297
         ],
         "y": [
          301,
          282
         ],
         "z": [
          509,
          499
         ]
        },
        {
         "hoverinfo": "text",
         "line": {
          "color": "rgba(128, 128, 128, 0.8)",
          "width": 6
         },
         "mode": "lines",
         "text": "51.90",
         "type": "scatter3d",
         "x": [
          296,
          309
         ],
         "y": [
          301,
          338
         ],
         "z": [
          509,
          543
         ]
        },
        {
         "hoverinfo": "text",
         "line": {
          "color": "rgba(128, 128, 128, 0.8)",
          "width": 6
         },
         "mode": "lines",
         "text": "35.90",
         "type": "scatter3d",
         "x": [
          297,
          305
         ],
         "y": [
          282,
          282
         ],
         "z": [
          499,
          464
         ]
        },
        {
         "hoverinfo": "text",
         "line": {
          "color": "rgba(128, 128, 128, 0.8)",
          "width": 6
         },
         "mode": "lines",
         "text": "7.48",
         "type": "scatter3d",
         "x": [
          297,
          295
         ],
         "y": [
          282,
          278
         ],
         "z": [
          499,
          505
         ]
        },
        {
         "hoverinfo": "text",
         "line": {
          "color": "rgba(128, 128, 128, 0.8)",
          "width": 6
         },
         "mode": "lines",
         "text": "31.11",
         "type": "scatter3d",
         "x": [
          298,
          314
         ],
         "y": [
          250,
          276
         ],
         "z": [
          433,
          439
         ]
        },
        {
         "hoverinfo": "text",
         "line": {
          "color": "rgba(128, 128, 128, 0.8)",
          "width": 6
         },
         "mode": "lines",
         "text": "10.82",
         "type": "scatter3d",
         "x": [
          299,
          297
         ],
         "y": [
          165,
          172
         ],
         "z": [
          425,
          417
         ]
        },
        {
         "hoverinfo": "text",
         "line": {
          "color": "rgba(128, 128, 128, 0.8)",
          "width": 6
         },
         "mode": "lines",
         "text": "14.25",
         "type": "scatter3d",
         "x": [
          301,
          302
         ],
         "y": [
          129,
          140
         ],
         "z": [
          392,
          401
         ]
        },
        {
         "hoverinfo": "text",
         "line": {
          "color": "rgba(128, 128, 128, 0.8)",
          "width": 6
         },
         "mode": "lines",
         "text": "11.00",
         "type": "scatter3d",
         "x": [
          303,
          297
         ],
         "y": [
          260,
          258
         ],
         "z": [
          530,
          521
         ]
        },
        {
         "hoverinfo": "text",
         "line": {
          "color": "rgba(128, 128, 128, 0.8)",
          "width": 6
         },
         "mode": "lines",
         "text": "27.24",
         "type": "scatter3d",
         "x": [
          305,
          314
         ],
         "y": [
          282,
          276
         ],
         "z": [
          464,
          439
         ]
        },
        {
         "hoverinfo": "text",
         "line": {
          "color": "rgba(128, 128, 128, 0.8)",
          "width": 6
         },
         "mode": "lines",
         "text": "10.82",
         "type": "scatter3d",
         "x": [
          308,
          302
         ],
         "y": [
          131,
          140
         ],
         "z": [
          401,
          401
         ]
        },
        {
         "hoverinfo": "text",
         "line": {
          "color": "rgba(128, 128, 128, 0.8)",
          "width": 6
         },
         "mode": "lines",
         "text": "51.85",
         "type": "scatter3d",
         "x": [
          314,
          354
         ],
         "y": [
          276,
          284
         ],
         "z": [
          439,
          407
         ]
        },
        {
         "hoverinfo": "text",
         "line": {
          "color": "rgba(128, 128, 128, 0.8)",
          "width": 6
         },
         "mode": "lines",
         "text": "30.95",
         "type": "scatter3d",
         "x": [
          319,
          304
         ],
         "y": [
          339,
          337
         ],
         "z": [
          270,
          297
         ]
        },
        {
         "hoverinfo": "text",
         "line": {
          "color": "rgba(128, 128, 128, 0.8)",
          "width": 6
         },
         "mode": "lines",
         "text": "34.38",
         "type": "scatter3d",
         "x": [
          327,
          304
         ],
         "y": [
          359,
          337
         ],
         "z": [
          284,
          297
         ]
        },
        {
         "hoverinfo": "text",
         "line": {
          "color": "rgba(128, 128, 128, 0.8)",
          "width": 6
         },
         "mode": "lines",
         "text": "2.83",
         "type": "scatter3d",
         "x": [
          333,
          333
         ],
         "y": [
          287,
          289
         ],
         "z": [
          392,
          390
         ]
        },
        {
         "hoverinfo": "text",
         "line": {
          "color": "rgba(128, 128, 128, 0.8)",
          "width": 6
         },
         "mode": "lines",
         "text": "18.00",
         "type": "scatter3d",
         "x": [
          333,
          349
         ],
         "y": [
          287,
          285
         ],
         "z": [
          392,
          400
         ]
        },
        {
         "hoverinfo": "text",
         "line": {
          "color": "rgba(128, 128, 128, 0.8)",
          "width": 6
         },
         "mode": "lines",
         "text": "7.14",
         "type": "scatter3d",
         "x": [
          348,
          349
         ],
         "y": [
          290,
          285
         ],
         "z": [
          395,
          400
         ]
        },
        {
         "hoverinfo": "text",
         "line": {
          "color": "rgba(128, 128, 128, 0.8)",
          "width": 6
         },
         "mode": "lines",
         "text": "8.66",
         "type": "scatter3d",
         "x": [
          349,
          354
         ],
         "y": [
          285,
          284
         ],
         "z": [
          400,
          407
         ]
        },
        {
         "hoverinfo": "text",
         "line": {
          "color": "rgba(128, 128, 128, 0.8)",
          "width": 6
         },
         "mode": "lines",
         "text": "100.11",
         "type": "scatter3d",
         "x": [
          354,
          445
         ],
         "y": [
          284,
          255
         ],
         "z": [
          407,
          437
         ]
        },
        {
         "hoverinfo": "text",
         "line": {
          "color": "rgba(255, 0, 0, 0.8)",
          "width": 6
         },
         "mode": "lines",
         "text": "1.41",
         "type": "scatter3d",
         "x": [
          446,
          447
         ],
         "y": [
          256,
          255
         ],
         "z": [
          438,
          438
         ]
        },
        {
         "hoverinfo": "text",
         "line": {
          "color": "rgba(255, 0, 0, 0.8)",
          "width": 6
         },
         "mode": "lines",
         "text": "1.41",
         "type": "scatter3d",
         "x": [
          446,
          447
         ],
         "y": [
          256,
          256
         ],
         "z": [
          438,
          439
         ]
        },
        {
         "hoverinfo": "text",
         "line": {
          "color": "rgba(255, 0, 0, 0.8)",
          "width": 6
         },
         "mode": "lines",
         "text": "1.73",
         "type": "scatter3d",
         "x": [
          446,
          447
         ],
         "y": [
          256,
          257
         ],
         "z": [
          438,
          439
         ]
        },
        {
         "hoverinfo": "text",
         "line": {
          "color": "rgba(128, 128, 128, 0.8)",
          "width": 6
         },
         "mode": "lines",
         "text": "1.73",
         "type": "scatter3d",
         "x": [
          446,
          445
         ],
         "y": [
          256,
          255
         ],
         "z": [
          438,
          437
         ]
        },
        {
         "hoverinfo": "text",
         "line": {
          "color": "rgba(128, 128, 128, 0.8)",
          "width": 6
         },
         "mode": "lines",
         "text": "2.00",
         "type": "scatter3d",
         "x": [
          447,
          447
         ],
         "y": [
          253,
          255
         ],
         "z": [
          438,
          438
         ]
        },
        {
         "hoverinfo": "text",
         "line": {
          "color": "rgba(255, 0, 0, 0.8)",
          "width": 6
         },
         "mode": "lines",
         "text": "1.41",
         "type": "scatter3d",
         "x": [
          447,
          447
         ],
         "y": [
          255,
          256
         ],
         "z": [
          438,
          439
         ]
        },
        {
         "hoverinfo": "text",
         "line": {
          "color": "rgba(255, 0, 0, 0.8)",
          "width": 6
         },
         "mode": "lines",
         "text": "1.73",
         "type": "scatter3d",
         "x": [
          447,
          448
         ],
         "y": [
          255,
          256
         ],
         "z": [
          438,
          439
         ]
        },
        {
         "hoverinfo": "text",
         "line": {
          "color": "rgba(255, 0, 0, 0.8)",
          "width": 6
         },
         "mode": "lines",
         "text": "1.00",
         "type": "scatter3d",
         "x": [
          447,
          447
         ],
         "y": [
          256,
          257
         ],
         "z": [
          439,
          439
         ]
        },
        {
         "hoverinfo": "text",
         "line": {
          "color": "rgba(255, 0, 0, 0.8)",
          "width": 6
         },
         "mode": "lines",
         "text": "1.00",
         "type": "scatter3d",
         "x": [
          447,
          448
         ],
         "y": [
          256,
          256
         ],
         "z": [
          439,
          439
         ]
        },
        {
         "hoverinfo": "text",
         "line": {
          "color": "rgba(255, 0, 0, 0.8)",
          "width": 6
         },
         "mode": "lines",
         "text": "1.41",
         "type": "scatter3d",
         "x": [
          447,
          448
         ],
         "y": [
          257,
          256
         ],
         "z": [
          439,
          439
         ]
        },
        {
         "hoverinfo": "text",
         "line": {
          "color": "rgba(128, 128, 128, 0.8)",
          "width": 6
         },
         "mode": "lines",
         "text": "7.81",
         "type": "scatter3d",
         "x": [
          447,
          450
         ],
         "y": [
          257,
          263
         ],
         "z": [
          439,
          443
         ]
        },
        {
         "hoverinfo": "text",
         "line": {
          "color": "rgba(128, 128, 128, 0.8)",
          "width": 6
         },
         "mode": "lines",
         "text": "1.41",
         "type": "scatter3d",
         "x": [
          448,
          449
         ],
         "y": [
          234,
          234
         ],
         "z": [
          426,
          427
         ]
        },
        {
         "hoverinfo": "text",
         "line": {
          "color": "rgba(128, 128, 128, 0.8)",
          "width": 6
         },
         "mode": "lines",
         "text": "12.41",
         "type": "scatter3d",
         "x": [
          448,
          457
         ],
         "y": [
          256,
          248
         ],
         "z": [
          439,
          442
         ]
        },
        {
         "hoverinfo": "text",
         "line": {
          "color": "rgba(128, 128, 128, 0.8)",
          "width": 6
         },
         "mode": "lines",
         "text": "3.00",
         "type": "scatter3d",
         "x": [
          448,
          450
         ],
         "y": [
          265,
          263
         ],
         "z": [
          442,
          443
         ]
        },
        {
         "hoverinfo": "text",
         "line": {
          "color": "rgba(128, 128, 128, 0.8)",
          "width": 6
         },
         "mode": "lines",
         "text": "1.41",
         "type": "scatter3d",
         "x": [
          449,
          450
         ],
         "y": [
          236,
          236
         ],
         "z": [
          430,
          431
         ]
        },
        {
         "hoverinfo": "text",
         "line": {
          "color": "rgba(128, 128, 128, 0.8)",
          "width": 6
         },
         "mode": "lines",
         "text": "3.61",
         "type": "scatter3d",
         "x": [
          449,
          449
         ],
         "y": [
          236,
          234
         ],
         "z": [
          430,
          427
         ]
        },
        {
         "hoverinfo": "text",
         "line": {
          "color": "rgba(128, 128, 128, 0.8)",
          "width": 6
         },
         "mode": "lines",
         "text": "4.58",
         "type": "scatter3d",
         "x": [
          449,
          448
         ],
         "y": [
          236,
          240
         ],
         "z": [
          430,
          432
         ]
        },
        {
         "hoverinfo": "text",
         "line": {
          "color": "rgba(128, 128, 128, 0.8)",
          "width": 6
         },
         "mode": "lines",
         "text": "2.24",
         "type": "scatter3d",
         "x": [
          449,
          447
         ],
         "y": [
          245,
          245
         ],
         "z": [
          435,
          434
         ]
        },
        {
         "hoverinfo": "text",
         "line": {
          "color": "rgba(128, 128, 128, 0.8)",
          "width": 6
         },
         "mode": "lines",
         "text": "76.96",
         "type": "scatter3d",
         "x": [
          450,
          467
         ],
         "y": [
          263,
          338
         ],
         "z": [
          443,
          446
         ]
        },
        {
         "hoverinfo": "text",
         "line": {
          "color": "rgba(128, 128, 128, 0.8)",
          "width": 6
         },
         "mode": "lines",
         "text": "3.74",
         "type": "scatter3d",
         "x": [
          451,
          448
         ],
         "y": [
          238,
          240
         ],
         "z": [
          433,
          432
         ]
        },
        {
         "hoverinfo": "text",
         "line": {
          "color": "rgba(128, 128, 128, 0.8)",
          "width": 6
         },
         "mode": "lines",
         "text": "1.41",
         "type": "scatter3d",
         "x": [
          454,
          455
         ],
         "y": [
          223,
          223
         ],
         "z": [
          419,
          420
         ]
        },
        {
         "hoverinfo": "text",
         "line": {
          "color": "rgba(128, 128, 128, 0.8)",
          "width": 6
         },
         "mode": "lines",
         "text": "43.93",
         "type": "scatter3d",
         "x": [
          455,
          480
         ],
         "y": [
          223,
          196
         ],
         "z": [
          420,
          396
         ]
        },
        {
         "hoverinfo": "text",
         "line": {
          "color": "rgba(128, 128, 128, 0.8)",
          "width": 6
         },
         "mode": "lines",
         "text": "8.37",
         "type": "scatter3d",
         "x": [
          455,
          452
         ],
         "y": [
          223,
          229
         ],
         "z": [
          420,
          425
         ]
        },
        {
         "hoverinfo": "text",
         "line": {
          "color": "rgba(128, 128, 128, 0.8)",
          "width": 6
         },
         "mode": "lines",
         "text": "7.48",
         "type": "scatter3d",
         "x": [
          456,
          452
         ],
         "y": [
          231,
          229
         ],
         "z": [
          431,
          425
         ]
        },
        {
         "hoverinfo": "text",
         "line": {
          "color": "rgba(128, 128, 128, 0.8)",
          "width": 6
         },
         "mode": "lines",
         "text": "56.36",
         "type": "scatter3d",
         "x": [
          478,
          502
         ],
         "y": [
          410,
          388
         ],
         "z": [
          534,
          488
         ]
        },
        {
         "hoverinfo": "text",
         "line": {
          "color": "rgba(128, 128, 128, 0.8)",
          "width": 6
         },
         "mode": "lines",
         "text": "107.43",
         "type": "scatter3d",
         "x": [
          483,
          509
         ],
         "y": [
          454,
          405
         ],
         "z": [
          329,
          421
         ]
        },
        {
         "hoverinfo": "text",
         "line": {
          "color": "rgba(128, 128, 128, 0.8)",
          "width": 6
         },
         "mode": "lines",
         "text": "79.66",
         "type": "scatter3d",
         "x": [
          489,
          516
         ],
         "y": [
          306,
          330
         ],
         "z": [
          569,
          498
         ]
        },
        {
         "hoverinfo": "text",
         "line": {
          "color": "rgba(128, 128, 128, 0.8)",
          "width": 6
         },
         "mode": "lines",
         "text": "42.94",
         "type": "scatter3d",
         "x": [
          492,
          502
         ],
         "y": [
          151,
          191
         ],
         "z": [
          508,
          520
         ]
        },
        {
         "hoverinfo": "text",
         "line": {
          "color": "rgba(128, 128, 128, 0.8)",
          "width": 6
         },
         "mode": "lines",
         "text": "27.46",
         "type": "scatter3d",
         "x": [
          493,
          502
         ],
         "y": [
          179,
          191
         ],
         "z": [
          543,
          520
         ]
        },
        {
         "hoverinfo": "text",
         "line": {
          "color": "rgba(128, 128, 128, 0.8)",
          "width": 6
         },
         "mode": "lines",
         "text": "21.75",
         "type": "scatter3d",
         "x": [
          496,
          503
         ],
         "y": [
          204,
          194
         ],
         "z": [
          501,
          519
         ]
        },
        {
         "hoverinfo": "text",
         "line": {
          "color": "rgba(128, 128, 128, 0.8)",
          "width": 6
         },
         "mode": "lines",
         "text": "21.93",
         "type": "scatter3d",
         "x": [
          496,
          511
         ],
         "y": [
          345,
          345
         ],
         "z": [
          512,
          496
         ]
        },
        {
         "hoverinfo": "text",
         "line": {
          "color": "rgba(128, 128, 128, 0.8)",
          "width": 6
         },
         "mode": "lines",
         "text": "7.81",
         "type": "scatter3d",
         "x": [
          496,
          502
         ],
         "y": [
          382,
          386
         ],
         "z": [
          427,
          424
         ]
        },
        {
         "hoverinfo": "text",
         "line": {
          "color": "rgba(128, 128, 128, 0.8)",
          "width": 6
         },
         "mode": "lines",
         "text": "61.52",
         "type": "scatter3d",
         "x": [
          496,
          531
         ],
         "y": [
          382,
          398
         ],
         "z": [
          427,
          475
         ]
        },
        {
         "hoverinfo": "text",
         "line": {
          "color": "rgba(128, 128, 128, 0.8)",
          "width": 6
         },
         "mode": "lines",
         "text": "32.20",
         "type": "scatter3d",
         "x": [
          496,
          476
         ],
         "y": [
          382,
          361
         ],
         "z": [
          427,
          441
         ]
        },
        {
         "hoverinfo": "text",
         "line": {
          "color": "rgba(128, 128, 128, 0.8)",
          "width": 6
         },
         "mode": "lines",
         "text": "25.34",
         "type": "scatter3d",
         "x": [
          499,
          510
         ],
         "y": [
          364,
          353
         ],
         "z": [
          574,
          554
         ]
        },
        {
         "hoverinfo": "text",
         "line": {
          "color": "rgba(128, 128, 128, 0.8)",
          "width": 6
         },
         "mode": "lines",
         "text": "45.88",
         "type": "scatter3d",
         "x": [
          501,
          542
         ],
         "y": [
          330,
          312
         ],
         "z": [
          453,
          443
         ]
        },
        {
         "hoverinfo": "text",
         "line": {
          "color": "rgba(128, 128, 128, 0.8)",
          "width": 6
         },
         "mode": "lines",
         "text": "36.99",
         "type": "scatter3d",
         "x": [
          501,
          515
         ],
         "y": [
          330,
          334
         ],
         "z": [
          453,
          487
         ]
        },
        {
         "hoverinfo": "text",
         "line": {
          "color": "rgba(128, 128, 128, 0.8)",
          "width": 6
         },
         "mode": "lines",
         "text": "35.62",
         "type": "scatter3d",
         "x": [
          501,
          467
         ],
         "y": [
          330,
          338
         ],
         "z": [
          453,
          446
         ]
        },
        {
         "hoverinfo": "text",
         "line": {
          "color": "rgba(128, 128, 128, 0.8)",
          "width": 6
         },
         "mode": "lines",
         "text": "3.32",
         "type": "scatter3d",
         "x": [
          502,
          503
         ],
         "y": [
          191,
          194
         ],
         "z": [
          520,
          519
         ]
        },
        {
         "hoverinfo": "text",
         "line": {
          "color": "rgba(128, 128, 128, 0.8)",
          "width": 6
         },
         "mode": "lines",
         "text": "20.47",
         "type": "scatter3d",
         "x": [
          502,
          509
         ],
         "y": [
          386,
          405
         ],
         "z": [
          424,
          421
         ]
        },
        {
         "hoverinfo": "text",
         "line": {
          "color": "rgba(128, 128, 128, 0.8)",
          "width": 6
         },
         "mode": "lines",
         "text": "15.30",
         "type": "scatter3d",
         "x": [
          502,
          515
         ],
         "y": [
          386,
          385
         ],
         "z": [
          424,
          416
         ]
        },
        {
         "hoverinfo": "text",
         "line": {
          "color": "rgba(128, 128, 128, 0.8)",
          "width": 6
         },
         "mode": "lines",
         "text": "26.48",
         "type": "scatter3d",
         "x": [
          502,
          502
         ],
         "y": [
          414,
          388
         ],
         "z": [
          493,
          488
         ]
        },
        {
         "hoverinfo": "text",
         "line": {
          "color": "rgba(128, 128, 128, 0.8)",
          "width": 6
         },
         "mode": "lines",
         "text": "57.62",
         "type": "scatter3d",
         "x": [
          503,
          523
         ],
         "y": [
          194,
          248
         ],
         "z": [
          519,
          517
         ]
        },
        {
         "hoverinfo": "text",
         "line": {
          "color": "rgba(128, 128, 128, 0.8)",
          "width": 6
         },
         "mode": "lines",
         "text": "27.29",
         "type": "scatter3d",
         "x": [
          504,
          504
         ],
         "y": [
          492,
          479
         ],
         "z": [
          464,
          440
         ]
        },
        {
         "hoverinfo": "text",
         "line": {
          "color": "rgba(128, 128, 128, 0.8)",
          "width": 6
         },
         "mode": "lines",
         "text": "56.09",
         "type": "scatter3d",
         "x": [
          508,
          540
         ],
         "y": [
          464,
          443
         ],
         "z": [
          223,
          264
         ]
        },
        {
         "hoverinfo": "text",
         "line": {
          "color": "rgba(128, 128, 128, 0.8)",
          "width": 6
         },
         "mode": "lines",
         "text": "6.48",
         "type": "scatter3d",
         "x": [
          509,
          513
         ],
         "y": [
          405,
          410
         ],
         "z": [
          421,
          420
         ]
        },
        {
         "hoverinfo": "text",
         "line": {
          "color": "rgba(128, 128, 128, 0.8)",
          "width": 6
         },
         "mode": "lines",
         "text": "10.44",
         "type": "scatter3d",
         "x": [
          509,
          517
         ],
         "y": [
          478,
          472
         ],
         "z": [
          382,
          385
         ]
        },
        {
         "hoverinfo": "text",
         "line": {
          "color": "rgba(128, 128, 128, 0.8)",
          "width": 6
         },
         "mode": "lines",
         "text": "28.60",
         "type": "scatter3d",
         "x": [
          510,
          531
         ],
         "y": [
          353,
          349
         ],
         "z": [
          554,
          573
         ]
        },
        {
         "hoverinfo": "text",
         "line": {
          "color": "rgba(128, 128, 128, 0.8)",
          "width": 6
         },
         "mode": "lines",
         "text": "58.56",
         "type": "scatter3d",
         "x": [
          510,
          511
         ],
         "y": [
          353,
          345
         ],
         "z": [
          554,
          496
         ]
        },
        {
         "hoverinfo": "text",
         "line": {
          "color": "rgba(128, 128, 128, 0.8)",
          "width": 6
         },
         "mode": "lines",
         "text": "2.45",
         "type": "scatter3d",
         "x": [
          514,
          516
         ],
         "y": [
          333,
          332
         ],
         "z": [
          493,
          492
         ]
        },
        {
         "hoverinfo": "text",
         "line": {
          "color": "rgba(128, 128, 128, 0.8)",
          "width": 6
         },
         "mode": "lines",
         "text": "12.33",
         "type": "scatter3d",
         "x": [
          514,
          504
         ],
         "y": [
          485,
          479
         ],
         "z": [
          444,
          440
         ]
        },
        {
         "hoverinfo": "text",
         "line": {
          "color": "rgba(128, 128, 128, 0.8)",
          "width": 6
         },
         "mode": "lines",
         "text": "14.35",
         "type": "scatter3d",
         "x": [
          515,
          524
         ],
         "y": [
          385,
          387
         ],
         "z": [
          416,
          405
         ]
        },
        {
         "hoverinfo": "text",
         "line": {
          "color": "rgba(128, 128, 128, 0.8)",
          "width": 6
         },
         "mode": "lines",
         "text": "29.88",
         "type": "scatter3d",
         "x": [
          515,
          543
         ],
         "y": [
          385,
          382
         ],
         "z": [
          416,
          426
         ]
        },
        {
         "hoverinfo": "text",
         "line": {
          "color": "rgba(128, 128, 128, 0.8)",
          "width": 6
         },
         "mode": "lines",
         "text": "13.75",
         "type": "scatter3d",
         "x": [
          516,
          521
         ],
         "y": [
          330,
          320
         ],
         "z": [
          498,
          506
         ]
        },
        {
         "hoverinfo": "text",
         "line": {
          "color": "rgba(128, 128, 128, 0.8)",
          "width": 6
         },
         "mode": "lines",
         "text": "6.32",
         "type": "scatter3d",
         "x": [
          516,
          516
         ],
         "y": [
          330,
          332
         ],
         "z": [
          498,
          492
         ]
        },
        {
         "hoverinfo": "text",
         "line": {
          "color": "rgba(128, 128, 128, 0.8)",
          "width": 6
         },
         "mode": "lines",
         "text": "34.84",
         "type": "scatter3d",
         "x": [
          517,
          519
         ],
         "y": [
          397,
          430
         ],
         "z": [
          509,
          520
         ]
        },
        {
         "hoverinfo": "text",
         "line": {
          "color": "rgba(128, 128, 128, 0.8)",
          "width": 6
         },
         "mode": "lines",
         "text": "25.42",
         "type": "scatter3d",
         "x": [
          517,
          526
         ],
         "y": [
          397,
          403
         ],
         "z": [
          509,
          532
         ]
        },
        {
         "hoverinfo": "text",
         "line": {
          "color": "rgba(128, 128, 128, 0.8)",
          "width": 6
         },
         "mode": "lines",
         "text": "35.13",
         "type": "scatter3d",
         "x": [
          517,
          514
         ],
         "y": [
          397,
          376
         ],
         "z": [
          509,
          481
         ]
        },
        {
         "hoverinfo": "text",
         "line": {
          "color": "rgba(128, 128, 128, 0.8)",
          "width": 6
         },
         "mode": "lines",
         "text": "15.56",
         "type": "scatter3d",
         "x": [
          517,
          520
         ],
         "y": [
          472,
          459
         ],
         "z": [
          385,
          393
         ]
        },
        {
         "hoverinfo": "text",
         "line": {
          "color": "rgba(128, 128, 128, 0.8)",
          "width": 6
         },
         "mode": "lines",
         "text": "17.69",
         "type": "scatter3d",
         "x": [
          517,
          522
         ],
         "y": [
          472,
          484
         ],
         "z": [
          385,
          373
         ]
        },
        {
         "hoverinfo": "text",
         "line": {
          "color": "rgba(128, 128, 128, 0.8)",
          "width": 6
         },
         "mode": "lines",
         "text": "26.19",
         "type": "scatter3d",
         "x": [
          520,
          543
         ],
         "y": [
          459,
          470
         ],
         "z": [
          393,
          399
         ]
        },
        {
         "hoverinfo": "text",
         "line": {
          "color": "rgba(128, 128, 128, 0.8)",
          "width": 6
         },
         "mode": "lines",
         "text": "56.38",
         "type": "scatter3d",
         "x": [
          520,
          513
         ],
         "y": [
          459,
          410
         ],
         "z": [
          393,
          420
         ]
        },
        {
         "hoverinfo": "text",
         "line": {
          "color": "rgba(128, 128, 128, 0.8)",
          "width": 6
         },
         "mode": "lines",
         "text": "29.15",
         "type": "scatter3d",
         "x": [
          521,
          530
         ],
         "y": [
          223,
          235
         ],
         "z": [
          554,
          529
         ]
        },
        {
         "hoverinfo": "text",
         "line": {
          "color": "rgba(128, 128, 128, 0.8)",
          "width": 6
         },
         "mode": "lines",
         "text": "33.51",
         "type": "scatter3d",
         "x": [
          521,
          524
         ],
         "y": [
          320,
          287
         ],
         "z": [
          506,
          511
         ]
        },
        {
         "hoverinfo": "text",
         "line": {
          "color": "rgba(128, 128, 128, 0.8)",
          "width": 6
         },
         "mode": "lines",
         "text": "40.46",
         "type": "scatter3d",
         "x": [
          521,
          549
         ],
         "y": [
          320,
          302
         ],
         "z": [
          506,
          529
         ]
        },
        {
         "hoverinfo": "text",
         "line": {
          "color": "rgba(128, 128, 128, 0.8)",
          "width": 6
         },
         "mode": "lines",
         "text": "39.47",
         "type": "scatter3d",
         "x": [
          523,
          524
         ],
         "y": [
          248,
          287
         ],
         "z": [
          517,
          511
         ]
        },
        {
         "hoverinfo": "text",
         "line": {
          "color": "rgba(128, 128, 128, 0.8)",
          "width": 6
         },
         "mode": "lines",
         "text": "19.03",
         "type": "scatter3d",
         "x": [
          523,
          530
         ],
         "y": [
          248,
          235
         ],
         "z": [
          517,
          529
         ]
        },
        {
         "hoverinfo": "text",
         "line": {
          "color": "rgba(128, 128, 128, 0.8)",
          "width": 6
         },
         "mode": "lines",
         "text": "41.22",
         "type": "scatter3d",
         "x": [
          523,
          526
         ],
         "y": [
          416,
          403
         ],
         "z": [
          571,
          532
         ]
        },
        {
         "hoverinfo": "text",
         "line": {
          "color": "rgba(128, 128, 128, 0.8)",
          "width": 6
         },
         "mode": "lines",
         "text": "29.70",
         "type": "scatter3d",
         "x": [
          524,
          531
         ],
         "y": [
          287,
          280
         ],
         "z": [
          511,
          539
         ]
        },
        {
         "hoverinfo": "text",
         "line": {
          "color": "rgba(128, 128, 128, 0.8)",
          "width": 6
         },
         "mode": "lines",
         "text": "61.59",
         "type": "scatter3d",
         "x": [
          524,
          548
         ],
         "y": [
          387,
          396
         ],
         "z": [
          405,
          349
         ]
        },
        {
         "hoverinfo": "text",
         "line": {
          "color": "rgba(128, 128, 128, 0.8)",
          "width": 6
         },
         "mode": "lines",
         "text": "65.98",
         "type": "scatter3d",
         "x": [
          524,
          572
         ],
         "y": [
          387,
          348
         ],
         "z": [
          405,
          382
         ]
        },
        {
         "hoverinfo": "text",
         "line": {
          "color": "rgba(128, 128, 128, 0.8)",
          "width": 6
         },
         "mode": "lines",
         "text": "77.52",
         "type": "scatter3d",
         "x": [
          525,
          534
         ],
         "y": [
          447,
          447
         ],
         "z": [
          170,
          247
         ]
        },
        {
         "hoverinfo": "text",
         "line": {
          "color": "rgba(128, 128, 128, 0.8)",
          "width": 6
         },
         "mode": "lines",
         "text": "43.30",
         "type": "scatter3d",
         "x": [
          526,
          557
         ],
         "y": [
          403,
          420
         ],
         "z": [
          532,
          557
         ]
        },
        {
         "hoverinfo": "text",
         "line": {
          "color": "rgba(128, 128, 128, 0.8)",
          "width": 6
         },
         "mode": "lines",
         "text": "19.34",
         "type": "scatter3d",
         "x": [
          531,
          533
         ],
         "y": [
          398,
          417
         ],
         "z": [
          475,
          472
         ]
        },
        {
         "hoverinfo": "text",
         "line": {
          "color": "rgba(128, 128, 128, 0.8)",
          "width": 6
         },
         "mode": "lines",
         "text": "14.35",
         "type": "scatter3d",
         "x": [
          531,
          540
         ],
         "y": [
          398,
          403
         ],
         "z": [
          475,
          485
         ]
        },
        {
         "hoverinfo": "text",
         "line": {
          "color": "rgba(128, 128, 128, 0.8)",
          "width": 6
         },
         "mode": "lines",
         "text": "7.35",
         "type": "scatter3d",
         "x": [
          534,
          537
         ],
         "y": [
          447,
          444
         ],
         "z": [
          247,
          253
         ]
        },
        {
         "hoverinfo": "text",
         "line": {
          "color": "rgba(128, 128, 128, 0.8)",
          "width": 6
         },
         "mode": "lines",
         "text": "50.32",
         "type": "scatter3d",
         "x": [
          534,
          538
         ],
         "y": [
          447,
          493
         ],
         "z": [
          247,
          227
         ]
        },
        {
         "hoverinfo": "text",
         "line": {
          "color": "rgba(128, 128, 128, 0.8)",
          "width": 6
         },
         "mode": "lines",
         "text": "41.24",
         "type": "scatter3d",
         "x": [
          537,
          547
         ],
         "y": [
          174,
          214
         ],
         "z": [
          446,
          447
         ]
        },
        {
         "hoverinfo": "text",
         "line": {
          "color": "rgba(128, 128, 128, 0.8)",
          "width": 6
         },
         "mode": "lines",
         "text": "65.03",
         "type": "scatter3d",
         "x": [
          537,
          561
         ],
         "y": [
          444,
          461
         ],
         "z": [
          253,
          195
         ]
        },
        {
         "hoverinfo": "text",
         "line": {
          "color": "rgba(128, 128, 128, 0.8)",
          "width": 6
         },
         "mode": "lines",
         "text": "11.45",
         "type": "scatter3d",
         "x": [
          537,
          540
         ],
         "y": [
          444,
          443
         ],
         "z": [
          253,
          264
         ]
        },
        {
         "hoverinfo": "text",
         "line": {
          "color": "rgba(128, 128, 128, 0.8)",
          "width": 6
         },
         "mode": "lines",
         "text": "27.73",
         "type": "scatter3d",
         "x": [
          541,
          547
         ],
         "y": [
          217,
          190
         ],
         "z": [
          532,
          530
         ]
        },
        {
         "hoverinfo": "text",
         "line": {
          "color": "rgba(128, 128, 128, 0.8)",
          "width": 6
         },
         "mode": "lines",
         "text": "21.68",
         "type": "scatter3d",
         "x": [
          541,
          551
         ],
         "y": [
          217,
          220
         ],
         "z": [
          532,
          551
         ]
        },
        {
         "hoverinfo": "text",
         "line": {
          "color": "rgba(128, 128, 128, 0.8)",
          "width": 6
         },
         "mode": "lines",
         "text": "21.31",
         "type": "scatter3d",
         "x": [
          541,
          530
         ],
         "y": [
          217,
          235
         ],
         "z": [
          532,
          529
         ]
        },
        {
         "hoverinfo": "text",
         "line": {
          "color": "rgba(128, 128, 128, 0.8)",
          "width": 6
         },
         "mode": "lines",
         "text": "15.00",
         "type": "scatter3d",
         "x": [
          542,
          544
         ],
         "y": [
          312,
          298
         ],
         "z": [
          443,
          448
         ]
        },
        {
         "hoverinfo": "text",
         "line": {
          "color": "rgba(128, 128, 128, 0.8)",
          "width": 6
         },
         "mode": "lines",
         "text": "21.56",
         "type": "scatter3d",
         "x": [
          542,
          562
         ],
         "y": [
          312,
          305
         ],
         "z": [
          443,
          439
         ]
        },
        {
         "hoverinfo": "text",
         "line": {
          "color": "rgba(128, 128, 128, 0.8)",
          "width": 6
         },
         "mode": "lines",
         "text": "36.40",
         "type": "scatter3d",
         "x": [
          543,
          578
         ],
         "y": [
          382,
          390
         ],
         "z": [
          426,
          432
         ]
        },
        {
         "hoverinfo": "text",
         "line": {
          "color": "rgba(128, 128, 128, 0.8)",
          "width": 6
         },
         "mode": "lines",
         "text": "55.04",
         "type": "scatter3d",
         "x": [
          543,
          581
         ],
         "y": [
          382,
          374
         ],
         "z": [
          426,
          465
         ]
        },
        {
         "hoverinfo": "text",
         "line": {
          "color": "rgba(128, 128, 128, 0.8)",
          "width": 6
         },
         "mode": "lines",
         "text": "19.10",
         "type": "scatter3d",
         "x": [
          544,
          556
         ],
         "y": [
          298,
          288
         ],
         "z": [
          448,
          459
         ]
        },
        {
         "hoverinfo": "text",
         "line": {
          "color": "rgba(128, 128, 128, 0.8)",
          "width": 6
         },
         "mode": "lines",
         "text": "84.06",
         "type": "scatter3d",
         "x": [
          544,
          547
         ],
         "y": [
          298,
          214
         ],
         "z": [
          448,
          447
         ]
        },
        {
         "hoverinfo": "text",
         "line": {
          "color": "rgba(128, 128, 128, 0.8)",
          "width": 6
         },
         "mode": "lines",
         "text": "117.34",
         "type": "scatter3d",
         "x": [
          545,
          617
         ],
         "y": [
          436,
          465
         ],
         "z": [
          275,
          187
         ]
        },
        {
         "hoverinfo": "text",
         "line": {
          "color": "rgba(128, 128, 128, 0.8)",
          "width": 6
         },
         "mode": "lines",
         "text": "12.04",
         "type": "scatter3d",
         "x": [
          545,
          542
         ],
         "y": [
          436,
          442
         ],
         "z": [
          275,
          265
         ]
        },
        {
         "hoverinfo": "text",
         "line": {
          "color": "rgba(128, 128, 128, 0.8)",
          "width": 6
         },
         "mode": "lines",
         "text": "9.22",
         "type": "scatter3d",
         "x": [
          545,
          547
         ],
         "y": [
          436,
          436
         ],
         "z": [
          275,
          284
         ]
        },
        {
         "hoverinfo": "text",
         "line": {
          "color": "rgba(128, 128, 128, 0.8)",
          "width": 6
         },
         "mode": "lines",
         "text": "6.40",
         "type": "scatter3d",
         "x": [
          548,
          549
         ],
         "y": [
          396,
          398
         ],
         "z": [
          349,
          343
         ]
        },
        {
         "hoverinfo": "text",
         "line": {
          "color": "rgba(128, 128, 128, 0.8)",
          "width": 6
         },
         "mode": "lines",
         "text": "71.70",
         "type": "scatter3d",
         "x": [
          548,
          602
         ],
         "y": [
          396,
          436
         ],
         "z": [
          349,
          374
         ]
        },
        {
         "hoverinfo": "text",
         "line": {
          "color": "rgba(128, 128, 128, 0.8)",
          "width": 6
         },
         "mode": "lines",
         "text": "21.95",
         "type": "scatter3d",
         "x": [
          549,
          550
         ],
         "y": [
          398,
          413
         ],
         "z": [
          343,
          327
         ]
        },
        {
         "hoverinfo": "text",
         "line": {
          "color": "rgba(128, 128, 128, 0.8)",
          "width": 6
         },
         "mode": "lines",
         "text": "9.00",
         "type": "scatter3d",
         "x": [
          549,
          552
         ],
         "y": [
          398,
          392
         ],
         "z": [
          343,
          337
         ]
        },
        {
         "hoverinfo": "text",
         "line": {
          "color": "rgba(128, 128, 128, 0.8)",
          "width": 6
         },
         "mode": "lines",
         "text": "26.68",
         "type": "scatter3d",
         "x": [
          550,
          556
         ],
         "y": [
          413,
          437
         ],
         "z": [
          327,
          337
         ]
        },
        {
         "hoverinfo": "text",
         "line": {
          "color": "rgba(128, 128, 128, 0.8)",
          "width": 6
         },
         "mode": "lines",
         "text": "48.86",
         "type": "scatter3d",
         "x": [
          550,
          547
         ],
         "y": [
          413,
          436
         ],
         "z": [
          327,
          284
         ]
        },
        {
         "hoverinfo": "text",
         "line": {
          "color": "rgba(128, 128, 128, 0.8)",
          "width": 6
         },
         "mode": "lines",
         "text": "37.80",
         "type": "scatter3d",
         "x": [
          556,
          542
         ],
         "y": [
          475,
          442
         ],
         "z": [
          253,
          265
         ]
        },
        {
         "hoverinfo": "text",
         "line": {
          "color": "rgba(128, 128, 128, 0.8)",
          "width": 6
         },
         "mode": "lines",
         "text": "13.15",
         "type": "scatter3d",
         "x": [
          558,
          547
         ],
         "y": [
          208,
          214
         ],
         "z": [
          451,
          447
         ]
        },
        {
         "hoverinfo": "text",
         "line": {
          "color": "rgba(128, 128, 128, 0.8)",
          "width": 6
         },
         "mode": "lines",
         "text": "76.35",
         "type": "scatter3d",
         "x": [
          558,
          552
         ],
         "y": [
          379,
          392
         ],
         "z": [
          262,
          337
         ]
        },
        {
         "hoverinfo": "text",
         "line": {
          "color": "rgba(128, 128, 128, 0.8)",
          "width": 6
         },
         "mode": "lines",
         "text": "70.38",
         "type": "scatter3d",
         "x": [
          559,
          514
         ],
         "y": [
          361,
          376
         ],
         "z": [
          533,
          481
         ]
        },
        {
         "hoverinfo": "text",
         "line": {
          "color": "rgba(128, 128, 128, 0.8)",
          "width": 6
         },
         "mode": "lines",
         "text": "49.04",
         "type": "scatter3d",
         "x": [
          561,
          547
         ],
         "y": [
          483,
          436
         ],
         "z": [
          284,
          284
         ]
        },
        {
         "hoverinfo": "text",
         "line": {
          "color": "rgba(128, 128, 128, 0.8)",
          "width": 6
         },
         "mode": "lines",
         "text": "55.01",
         "type": "scatter3d",
         "x": [
          572,
          627
         ],
         "y": [
          348,
          349
         ],
         "z": [
          382,
          382
         ]
        },
        {
         "hoverinfo": "text",
         "line": {
          "color": "rgba(128, 128, 128, 0.8)",
          "width": 6
         },
         "mode": "lines",
         "text": "109.27",
         "type": "scatter3d",
         "x": [
          572,
          638
         ],
         "y": [
          348,
          267
         ],
         "z": [
          382,
          350
         ]
        },
        {
         "hoverinfo": "text",
         "line": {
          "color": "rgba(128, 128, 128, 0.8)",
          "width": 6
         },
         "mode": "lines",
         "text": "46.05",
         "type": "scatter3d",
         "x": [
          575,
          562
         ],
         "y": [
          261,
          305
         ],
         "z": [
          435,
          439
         ]
        },
        {
         "hoverinfo": "text",
         "line": {
          "color": "rgba(128, 128, 128, 0.8)",
          "width": 6
         },
         "mode": "lines",
         "text": "40.01",
         "type": "scatter3d",
         "x": [
          578,
          589
         ],
         "y": [
          390,
          424
         ],
         "z": [
          432,
          450
         ]
        },
        {
         "hoverinfo": "text",
         "line": {
          "color": "rgba(128, 128, 128, 0.8)",
          "width": 6
         },
         "mode": "lines",
         "text": "41.39",
         "type": "scatter3d",
         "x": [
          578,
          616
         ],
         "y": [
          390,
          403
         ],
         "z": [
          432,
          422
         ]
        },
        {
         "hoverinfo": "text",
         "line": {
          "color": "rgba(128, 128, 128, 0.8)",
          "width": 6
         },
         "mode": "lines",
         "text": "105.95",
         "type": "scatter3d",
         "x": [
          578,
          649
         ],
         "y": [
          395,
          405
         ],
         "z": [
          306,
          228
         ]
        },
        {
         "hoverinfo": "text",
         "line": {
          "color": "rgba(128, 128, 128, 0.8)",
          "width": 6
         },
         "mode": "lines",
         "text": "17.83",
         "type": "scatter3d",
         "x": [
          578,
          567
         ],
         "y": [
          395,
          396
         ],
         "z": [
          306,
          320
         ]
        },
        {
         "hoverinfo": "text",
         "line": {
          "color": "rgba(128, 128, 128, 0.8)",
          "width": 6
         },
         "mode": "lines",
         "text": "48.52",
         "type": "scatter3d",
         "x": [
          578,
          615
         ],
         "y": [
          395,
          368
         ],
         "z": [
          306,
          290
         ]
        },
        {
         "hoverinfo": "text",
         "line": {
          "color": "rgba(128, 128, 128, 0.8)",
          "width": 6
         },
         "mode": "lines",
         "text": "32.83",
         "type": "scatter3d",
         "x": [
          581,
          599
         ],
         "y": [
          374,
          389
         ],
         "z": [
          465,
          488
         ]
        },
        {
         "hoverinfo": "text",
         "line": {
          "color": "rgba(128, 128, 128, 0.8)",
          "width": 6
         },
         "mode": "lines",
         "text": "37.07",
         "type": "scatter3d",
         "x": [
          581,
          604
         ],
         "y": [
          374,
          361
         ],
         "z": [
          465,
          491
         ]
        },
        {
         "hoverinfo": "text",
         "line": {
          "color": "rgba(128, 128, 128, 0.8)",
          "width": 6
         },
         "mode": "lines",
         "text": "42.68",
         "type": "scatter3d",
         "x": [
          583,
          556
         ],
         "y": [
          286,
          288
         ],
         "z": [
          492,
          459
         ]
        },
        {
         "hoverinfo": "text",
         "line": {
          "color": "rgba(128, 128, 128, 0.8)",
          "width": 6
         },
         "mode": "lines",
         "text": "25.65",
         "type": "scatter3d",
         "x": [
          584,
          601
         ],
         "y": [
          300,
          315
         ],
         "z": [
          434,
          446
         ]
        },
        {
         "hoverinfo": "text",
         "line": {
          "color": "rgba(128, 128, 128, 0.8)",
          "width": 6
         },
         "mode": "lines",
         "text": "67.27",
         "type": "scatter3d",
         "x": [
          584,
          629
         ],
         "y": [
          300,
          260
         ],
         "z": [
          434,
          404
         ]
        },
        {
         "hoverinfo": "text",
         "line": {
          "color": "rgba(128, 128, 128, 0.8)",
          "width": 6
         },
         "mode": "lines",
         "text": "23.11",
         "type": "scatter3d",
         "x": [
          584,
          562
         ],
         "y": [
          300,
          305
         ],
         "z": [
          434,
          439
         ]
        },
        {
         "hoverinfo": "text",
         "line": {
          "color": "rgba(128, 128, 128, 0.8)",
          "width": 6
         },
         "mode": "lines",
         "text": "27.20",
         "type": "scatter3d",
         "x": [
          599,
          611
         ],
         "y": [
          389,
          403
         ],
         "z": [
          488,
          508
         ]
        },
        {
         "hoverinfo": "text",
         "line": {
          "color": "rgba(128, 128, 128, 0.8)",
          "width": 6
         },
         "mode": "lines",
         "text": "30.53",
         "type": "scatter3d",
         "x": [
          599,
          629
         ],
         "y": [
          389,
          393
         ],
         "z": [
          488,
          484
         ]
        },
        {
         "hoverinfo": "text",
         "line": {
          "color": "rgba(128, 128, 128, 0.8)",
          "width": 6
         },
         "mode": "lines",
         "text": "60.56",
         "type": "scatter3d",
         "x": [
          602,
          556
         ],
         "y": [
          252,
          288
         ],
         "z": [
          475,
          459
         ]
        },
        {
         "hoverinfo": "text",
         "line": {
          "color": "rgba(128, 128, 128, 0.8)",
          "width": 6
         },
         "mode": "lines",
         "text": "61.62",
         "type": "scatter3d",
         "x": [
          614,
          584
         ],
         "y": [
          460,
          416
         ],
         "z": [
          292,
          323
         ]
        },
        {
         "hoverinfo": "text",
         "line": {
          "color": "rgba(128, 128, 128, 0.8)",
          "width": 6
         },
         "mode": "lines",
         "text": "46.20",
         "type": "scatter3d",
         "x": [
          626,
          584
         ],
         "y": [
          433,
          416
         ],
         "z": [
          332,
          323
         ]
        },
        {
         "hoverinfo": "text",
         "line": {
          "color": "rgba(128, 128, 128, 0.8)",
          "width": 6
         },
         "mode": "lines",
         "text": "40.06",
         "type": "scatter3d",
         "x": [
          641,
          615
         ],
         "y": [
          348,
          368
         ],
         "z": [
          267,
          290
         ]
        },
        {
         "hoverinfo": "text",
         "line": {
          "color": "rgba(128, 128, 128, 0.8)",
          "width": 6
         },
         "mode": "lines",
         "text": "35.23",
         "type": "scatter3d",
         "x": [
          649,
          615
         ],
         "y": [
          366,
          368
         ],
         "z": [
          299,
          290
         ]
        },
        {
         "hoverinfo": "text",
         "line": {
          "color": "rgba(128, 128, 128, 0.8)",
          "width": 6
         },
         "mode": "lines",
         "text": "6.16",
         "type": "scatter3d",
         "x": [
          449,
          452
         ],
         "y": [
          234,
          229
         ],
         "z": [
          427,
          425
         ]
        },
        {
         "hoverinfo": "text",
         "line": {
          "color": "rgba(128, 128, 128, 0.8)",
          "width": 6
         },
         "mode": "lines",
         "text": "13.75",
         "type": "scatter3d",
         "x": [
          239,
          235
         ],
         "y": [
          391,
          378
         ],
         "z": [
          342,
          340
         ]
        },
        {
         "hoverinfo": "text",
         "line": {
          "color": "rgba(128, 128, 128, 0.8)",
          "width": 6
         },
         "mode": "lines",
         "text": "20.35",
         "type": "scatter3d",
         "x": [
          164,
          155
         ],
         "y": [
          328,
          331
         ],
         "z": [
          324,
          306
         ]
        },
        {
         "hoverinfo": "text",
         "line": {
          "color": "rgba(128, 128, 128, 0.8)",
          "width": 6
         },
         "mode": "lines",
         "text": "28.46",
         "type": "scatter3d",
         "x": [
          181,
          205
         ],
         "y": [
          453,
          438
         ],
         "z": [
          354,
          351
         ]
        },
        {
         "hoverinfo": "text",
         "line": {
          "color": "rgba(128, 128, 128, 0.8)",
          "width": 6
         },
         "mode": "lines",
         "text": "26.42",
         "type": "scatter3d",
         "x": [
          567,
          584
         ],
         "y": [
          396,
          416
         ],
         "z": [
          320,
          323
         ]
        },
        {
         "hoverinfo": "text",
         "line": {
          "color": "rgba(128, 128, 128, 0.8)",
          "width": 6
         },
         "mode": "lines",
         "text": "23.02",
         "type": "scatter3d",
         "x": [
          567,
          552
         ],
         "y": [
          396,
          392
         ],
         "z": [
          320,
          337
         ]
        },
        {
         "hoverinfo": "text",
         "line": {
          "color": "rgba(128, 128, 128, 0.8)",
          "width": 6
         },
         "mode": "lines",
         "text": "34.13",
         "type": "scatter3d",
         "x": [
          229,
          235
         ],
         "y": [
          351,
          378
         ],
         "z": [
          360,
          340
         ]
        },
        {
         "hoverinfo": "text",
         "line": {
          "color": "rgba(128, 128, 128, 0.8)",
          "width": 6
         },
         "mode": "lines",
         "text": "5.48",
         "type": "scatter3d",
         "x": [
          448,
          447
         ],
         "y": [
          240,
          245
         ],
         "z": [
          432,
          434
         ]
        },
        {
         "hoverinfo": "text",
         "line": {
          "color": "rgba(128, 128, 128, 0.8)",
          "width": 6
         },
         "mode": "lines",
         "text": "5.48",
         "type": "scatter3d",
         "x": [
          514,
          509
         ],
         "y": [
          376,
          377
         ],
         "z": [
          481,
          479
         ]
        },
        {
         "hoverinfo": "text",
         "line": {
          "color": "rgba(128, 128, 128, 0.8)",
          "width": 6
         },
         "mode": "lines",
         "text": "14.76",
         "type": "scatter3d",
         "x": [
          515,
          511
         ],
         "y": [
          334,
          345
         ],
         "z": [
          487,
          496
         ]
        },
        {
         "hoverinfo": "text",
         "line": {
          "color": "rgba(128, 128, 128, 0.8)",
          "width": 6
         },
         "mode": "lines",
         "text": "5.48",
         "type": "scatter3d",
         "x": [
          515,
          516
         ],
         "y": [
          334,
          332
         ],
         "z": [
          487,
          492
         ]
        },
        {
         "hoverinfo": "text",
         "line": {
          "color": "rgba(128, 128, 128, 0.8)",
          "width": 6
         },
         "mode": "lines",
         "text": "2.45",
         "type": "scatter3d",
         "x": [
          542,
          540
         ],
         "y": [
          442,
          443
         ],
         "z": [
          265,
          264
         ]
        },
        {
         "hoverinfo": "text",
         "line": {
          "color": "rgba(128, 128, 128, 0.8)",
          "width": 6
         },
         "mode": "lines",
         "text": "72.40",
         "type": "scatter3d",
         "x": [
          504,
          513
         ],
         "y": [
          479,
          410
         ],
         "z": [
          440,
          420
         ]
        },
        {
         "hoverinfo": "text",
         "line": {
          "color": "rgba(128, 128, 128, 0.8)",
          "width": 6
         },
         "mode": "lines",
         "text": "57.02",
         "type": "scatter3d",
         "x": [
          259,
          220
         ],
         "y": [
          316,
          353
         ],
         "z": [
          406,
          425
         ]
        },
        {
         "hoverinfo": "text",
         "line": {
          "color": "rgba(128, 128, 128, 0.8)",
          "width": 6
         },
         "mode": "lines",
         "text": "36.12",
         "type": "scatter3d",
         "x": [
          297,
          302
         ],
         "y": [
          172,
          140
         ],
         "z": [
          417,
          401
         ]
        },
        {
         "hoverinfo": "text",
         "line": {
          "color": "rgba(128, 128, 128, 0.8)",
          "width": 6
         },
         "mode": "lines",
         "text": "25.69",
         "type": "scatter3d",
         "x": [
          295,
          297
         ],
         "y": [
          278,
          258
         ],
         "z": [
          505,
          521
         ]
        },
        {
         "hoverinfo": "text",
         "line": {
          "color": "rgba(128, 128, 128, 0.8)",
          "width": 6
         },
         "mode": "lines",
         "text": "15.84",
         "type": "scatter3d",
         "x": [
          502,
          509
         ],
         "y": [
          388,
          377
         ],
         "z": [
          488,
          479
         ]
        },
        {
         "hoverinfo": "text",
         "line": {
          "color": "rgba(128, 128, 128, 0.8)",
          "width": 6
         },
         "mode": "lines",
         "text": "10.63",
         "type": "scatter3d",
         "x": [
          445,
          447
         ],
         "y": [
          255,
          245
         ],
         "z": [
          437,
          434
         ]
        },
        {
         "hoverinfo": "text",
         "line": {
          "color": "rgba(128, 128, 128, 0.8)",
          "width": 6
         },
         "mode": "lines",
         "text": "25.20",
         "type": "scatter3d",
         "x": [
          467,
          476
         ],
         "y": [
          338,
          361
         ],
         "z": [
          446,
          441
         ]
        },
        {
         "hoverinfo": "text",
         "line": {
          "color": "rgba(128, 128, 128, 0.8)",
          "width": 6
         },
         "mode": "lines",
         "text": "52.81",
         "type": "scatter3d",
         "x": [
          476,
          509
         ],
         "y": [
          361,
          377
         ],
         "z": [
          441,
          479
         ]
        }
       ],
       "layout": {
        "margin": {
         "b": 0,
         "l": 0,
         "r": 0,
         "t": 0
        },
        "scene": {
         "domain": {
          "x": [
           0,
           1
          ],
          "y": [
           0,
           1
          ]
         },
         "xaxis": {
          "range": [
           0,
           650
          ]
         },
         "yaxis": {
          "range": [
           0,
           494
          ]
         },
         "zaxis": {
          "range": [
           0,
           575
          ]
         }
        },
        "template": {
         "data": {
          "bar": [
           {
            "error_x": {
             "color": "#2a3f5f"
            },
            "error_y": {
             "color": "#2a3f5f"
            },
            "marker": {
             "line": {
              "color": "#E5ECF6",
              "width": 0.5
             },
             "pattern": {
              "fillmode": "overlay",
              "size": 10,
              "solidity": 0.2
             }
            },
            "type": "bar"
           }
          ],
          "barpolar": [
           {
            "marker": {
             "line": {
              "color": "#E5ECF6",
              "width": 0.5
             },
             "pattern": {
              "fillmode": "overlay",
              "size": 10,
              "solidity": 0.2
             }
            },
            "type": "barpolar"
           }
          ],
          "carpet": [
           {
            "aaxis": {
             "endlinecolor": "#2a3f5f",
             "gridcolor": "white",
             "linecolor": "white",
             "minorgridcolor": "white",
             "startlinecolor": "#2a3f5f"
            },
            "baxis": {
             "endlinecolor": "#2a3f5f",
             "gridcolor": "white",
             "linecolor": "white",
             "minorgridcolor": "white",
             "startlinecolor": "#2a3f5f"
            },
            "type": "carpet"
           }
          ],
          "choropleth": [
           {
            "colorbar": {
             "outlinewidth": 0,
             "ticks": ""
            },
            "type": "choropleth"
           }
          ],
          "contour": [
           {
            "colorbar": {
             "outlinewidth": 0,
             "ticks": ""
            },
            "colorscale": [
             [
              0,
              "#0d0887"
             ],
             [
              0.1111111111111111,
              "#46039f"
             ],
             [
              0.2222222222222222,
              "#7201a8"
             ],
             [
              0.3333333333333333,
              "#9c179e"
             ],
             [
              0.4444444444444444,
              "#bd3786"
             ],
             [
              0.5555555555555556,
              "#d8576b"
             ],
             [
              0.6666666666666666,
              "#ed7953"
             ],
             [
              0.7777777777777778,
              "#fb9f3a"
             ],
             [
              0.8888888888888888,
              "#fdca26"
             ],
             [
              1,
              "#f0f921"
             ]
            ],
            "type": "contour"
           }
          ],
          "contourcarpet": [
           {
            "colorbar": {
             "outlinewidth": 0,
             "ticks": ""
            },
            "type": "contourcarpet"
           }
          ],
          "heatmap": [
           {
            "colorbar": {
             "outlinewidth": 0,
             "ticks": ""
            },
            "colorscale": [
             [
              0,
              "#0d0887"
             ],
             [
              0.1111111111111111,
              "#46039f"
             ],
             [
              0.2222222222222222,
              "#7201a8"
             ],
             [
              0.3333333333333333,
              "#9c179e"
             ],
             [
              0.4444444444444444,
              "#bd3786"
             ],
             [
              0.5555555555555556,
              "#d8576b"
             ],
             [
              0.6666666666666666,
              "#ed7953"
             ],
             [
              0.7777777777777778,
              "#fb9f3a"
             ],
             [
              0.8888888888888888,
              "#fdca26"
             ],
             [
              1,
              "#f0f921"
             ]
            ],
            "type": "heatmap"
           }
          ],
          "heatmapgl": [
           {
            "colorbar": {
             "outlinewidth": 0,
             "ticks": ""
            },
            "colorscale": [
             [
              0,
              "#0d0887"
             ],
             [
              0.1111111111111111,
              "#46039f"
             ],
             [
              0.2222222222222222,
              "#7201a8"
             ],
             [
              0.3333333333333333,
              "#9c179e"
             ],
             [
              0.4444444444444444,
              "#bd3786"
             ],
             [
              0.5555555555555556,
              "#d8576b"
             ],
             [
              0.6666666666666666,
              "#ed7953"
             ],
             [
              0.7777777777777778,
              "#fb9f3a"
             ],
             [
              0.8888888888888888,
              "#fdca26"
             ],
             [
              1,
              "#f0f921"
             ]
            ],
            "type": "heatmapgl"
           }
          ],
          "histogram": [
           {
            "marker": {
             "pattern": {
              "fillmode": "overlay",
              "size": 10,
              "solidity": 0.2
             }
            },
            "type": "histogram"
           }
          ],
          "histogram2d": [
           {
            "colorbar": {
             "outlinewidth": 0,
             "ticks": ""
            },
            "colorscale": [
             [
              0,
              "#0d0887"
             ],
             [
              0.1111111111111111,
              "#46039f"
             ],
             [
              0.2222222222222222,
              "#7201a8"
             ],
             [
              0.3333333333333333,
              "#9c179e"
             ],
             [
              0.4444444444444444,
              "#bd3786"
             ],
             [
              0.5555555555555556,
              "#d8576b"
             ],
             [
              0.6666666666666666,
              "#ed7953"
             ],
             [
              0.7777777777777778,
              "#fb9f3a"
             ],
             [
              0.8888888888888888,
              "#fdca26"
             ],
             [
              1,
              "#f0f921"
             ]
            ],
            "type": "histogram2d"
           }
          ],
          "histogram2dcontour": [
           {
            "colorbar": {
             "outlinewidth": 0,
             "ticks": ""
            },
            "colorscale": [
             [
              0,
              "#0d0887"
             ],
             [
              0.1111111111111111,
              "#46039f"
             ],
             [
              0.2222222222222222,
              "#7201a8"
             ],
             [
              0.3333333333333333,
              "#9c179e"
             ],
             [
              0.4444444444444444,
              "#bd3786"
             ],
             [
              0.5555555555555556,
              "#d8576b"
             ],
             [
              0.6666666666666666,
              "#ed7953"
             ],
             [
              0.7777777777777778,
              "#fb9f3a"
             ],
             [
              0.8888888888888888,
              "#fdca26"
             ],
             [
              1,
              "#f0f921"
             ]
            ],
            "type": "histogram2dcontour"
           }
          ],
          "mesh3d": [
           {
            "colorbar": {
             "outlinewidth": 0,
             "ticks": ""
            },
            "type": "mesh3d"
           }
          ],
          "parcoords": [
           {
            "line": {
             "colorbar": {
              "outlinewidth": 0,
              "ticks": ""
             }
            },
            "type": "parcoords"
           }
          ],
          "pie": [
           {
            "automargin": true,
            "type": "pie"
           }
          ],
          "scatter": [
           {
            "fillpattern": {
             "fillmode": "overlay",
             "size": 10,
             "solidity": 0.2
            },
            "type": "scatter"
           }
          ],
          "scatter3d": [
           {
            "line": {
             "colorbar": {
              "outlinewidth": 0,
              "ticks": ""
             }
            },
            "marker": {
             "colorbar": {
              "outlinewidth": 0,
              "ticks": ""
             }
            },
            "type": "scatter3d"
           }
          ],
          "scattercarpet": [
           {
            "marker": {
             "colorbar": {
              "outlinewidth": 0,
              "ticks": ""
             }
            },
            "type": "scattercarpet"
           }
          ],
          "scattergeo": [
           {
            "marker": {
             "colorbar": {
              "outlinewidth": 0,
              "ticks": ""
             }
            },
            "type": "scattergeo"
           }
          ],
          "scattergl": [
           {
            "marker": {
             "colorbar": {
              "outlinewidth": 0,
              "ticks": ""
             }
            },
            "type": "scattergl"
           }
          ],
          "scattermapbox": [
           {
            "marker": {
             "colorbar": {
              "outlinewidth": 0,
              "ticks": ""
             }
            },
            "type": "scattermapbox"
           }
          ],
          "scatterpolar": [
           {
            "marker": {
             "colorbar": {
              "outlinewidth": 0,
              "ticks": ""
             }
            },
            "type": "scatterpolar"
           }
          ],
          "scatterpolargl": [
           {
            "marker": {
             "colorbar": {
              "outlinewidth": 0,
              "ticks": ""
             }
            },
            "type": "scatterpolargl"
           }
          ],
          "scatterternary": [
           {
            "marker": {
             "colorbar": {
              "outlinewidth": 0,
              "ticks": ""
             }
            },
            "type": "scatterternary"
           }
          ],
          "surface": [
           {
            "colorbar": {
             "outlinewidth": 0,
             "ticks": ""
            },
            "colorscale": [
             [
              0,
              "#0d0887"
             ],
             [
              0.1111111111111111,
              "#46039f"
             ],
             [
              0.2222222222222222,
              "#7201a8"
             ],
             [
              0.3333333333333333,
              "#9c179e"
             ],
             [
              0.4444444444444444,
              "#bd3786"
             ],
             [
              0.5555555555555556,
              "#d8576b"
             ],
             [
              0.6666666666666666,
              "#ed7953"
             ],
             [
              0.7777777777777778,
              "#fb9f3a"
             ],
             [
              0.8888888888888888,
              "#fdca26"
             ],
             [
              1,
              "#f0f921"
             ]
            ],
            "type": "surface"
           }
          ],
          "table": [
           {
            "cells": {
             "fill": {
              "color": "#EBF0F8"
             },
             "line": {
              "color": "white"
             }
            },
            "header": {
             "fill": {
              "color": "#C8D4E3"
             },
             "line": {
              "color": "white"
             }
            },
            "type": "table"
           }
          ]
         },
         "layout": {
          "annotationdefaults": {
           "arrowcolor": "#2a3f5f",
           "arrowhead": 0,
           "arrowwidth": 1
          },
          "autotypenumbers": "strict",
          "coloraxis": {
           "colorbar": {
            "outlinewidth": 0,
            "ticks": ""
           }
          },
          "colorscale": {
           "diverging": [
            [
             0,
             "#8e0152"
            ],
            [
             0.1,
             "#c51b7d"
            ],
            [
             0.2,
             "#de77ae"
            ],
            [
             0.3,
             "#f1b6da"
            ],
            [
             0.4,
             "#fde0ef"
            ],
            [
             0.5,
             "#f7f7f7"
            ],
            [
             0.6,
             "#e6f5d0"
            ],
            [
             0.7,
             "#b8e186"
            ],
            [
             0.8,
             "#7fbc41"
            ],
            [
             0.9,
             "#4d9221"
            ],
            [
             1,
             "#276419"
            ]
           ],
           "sequential": [
            [
             0,
             "#0d0887"
            ],
            [
             0.1111111111111111,
             "#46039f"
            ],
            [
             0.2222222222222222,
             "#7201a8"
            ],
            [
             0.3333333333333333,
             "#9c179e"
            ],
            [
             0.4444444444444444,
             "#bd3786"
            ],
            [
             0.5555555555555556,
             "#d8576b"
            ],
            [
             0.6666666666666666,
             "#ed7953"
            ],
            [
             0.7777777777777778,
             "#fb9f3a"
            ],
            [
             0.8888888888888888,
             "#fdca26"
            ],
            [
             1,
             "#f0f921"
            ]
           ],
           "sequentialminus": [
            [
             0,
             "#0d0887"
            ],
            [
             0.1111111111111111,
             "#46039f"
            ],
            [
             0.2222222222222222,
             "#7201a8"
            ],
            [
             0.3333333333333333,
             "#9c179e"
            ],
            [
             0.4444444444444444,
             "#bd3786"
            ],
            [
             0.5555555555555556,
             "#d8576b"
            ],
            [
             0.6666666666666666,
             "#ed7953"
            ],
            [
             0.7777777777777778,
             "#fb9f3a"
            ],
            [
             0.8888888888888888,
             "#fdca26"
            ],
            [
             1,
             "#f0f921"
            ]
           ]
          },
          "colorway": [
           "#636efa",
           "#EF553B",
           "#00cc96",
           "#ab63fa",
           "#FFA15A",
           "#19d3f3",
           "#FF6692",
           "#B6E880",
           "#FF97FF",
           "#FECB52"
          ],
          "font": {
           "color": "#2a3f5f"
          },
          "geo": {
           "bgcolor": "white",
           "lakecolor": "white",
           "landcolor": "#E5ECF6",
           "showlakes": true,
           "showland": true,
           "subunitcolor": "white"
          },
          "hoverlabel": {
           "align": "left"
          },
          "hovermode": "closest",
          "mapbox": {
           "style": "light"
          },
          "paper_bgcolor": "white",
          "plot_bgcolor": "#E5ECF6",
          "polar": {
           "angularaxis": {
            "gridcolor": "white",
            "linecolor": "white",
            "ticks": ""
           },
           "bgcolor": "#E5ECF6",
           "radialaxis": {
            "gridcolor": "white",
            "linecolor": "white",
            "ticks": ""
           }
          },
          "scene": {
           "xaxis": {
            "backgroundcolor": "#E5ECF6",
            "gridcolor": "white",
            "gridwidth": 2,
            "linecolor": "white",
            "showbackground": true,
            "ticks": "",
            "zerolinecolor": "white"
           },
           "yaxis": {
            "backgroundcolor": "#E5ECF6",
            "gridcolor": "white",
            "gridwidth": 2,
            "linecolor": "white",
            "showbackground": true,
            "ticks": "",
            "zerolinecolor": "white"
           },
           "zaxis": {
            "backgroundcolor": "#E5ECF6",
            "gridcolor": "white",
            "gridwidth": 2,
            "linecolor": "white",
            "showbackground": true,
            "ticks": "",
            "zerolinecolor": "white"
           }
          },
          "shapedefaults": {
           "line": {
            "color": "#2a3f5f"
           }
          },
          "ternary": {
           "aaxis": {
            "gridcolor": "white",
            "linecolor": "white",
            "ticks": ""
           },
           "baxis": {
            "gridcolor": "white",
            "linecolor": "white",
            "ticks": ""
           },
           "bgcolor": "#E5ECF6",
           "caxis": {
            "gridcolor": "white",
            "linecolor": "white",
            "ticks": ""
           }
          },
          "title": {
           "x": 0.05
          },
          "xaxis": {
           "automargin": true,
           "gridcolor": "white",
           "linecolor": "white",
           "ticks": "",
           "title": {
            "standoff": 15
           },
           "zerolinecolor": "white",
           "zerolinewidth": 2
          },
          "yaxis": {
           "automargin": true,
           "gridcolor": "white",
           "linecolor": "white",
           "ticks": "",
           "title": {
            "standoff": 15
           },
           "zerolinecolor": "white",
           "zerolinewidth": 2
          }
         }
        }
       }
      }
     },
     "metadata": {},
     "output_type": "display_data"
    }
   ],
   "source": [
    "#16 Plot-2 Interactive 3D-2! Show Cycles in Red >> Edges: {Red=InCycle, Grey=Else}, Nodes: {Grey}#{Red=Leaf, Blue=Else}\n",
    "\n",
    "fig = make_subplots(rows=1, cols=1, specs=[[{'type': 'scatter3d'}]])\n",
    "x, y, z = zip(*graph.nodes)\n",
    "\n",
    "leaf_nodes = [node for node, degree in graph.degree if degree == 1]\n",
    "\n",
    "node_trace = go.Scatter3d(\n",
    "    x=x,\n",
    "    y=y,\n",
    "    z=z,\n",
    "    mode='markers',\n",
    "    marker=dict(\n",
    "        size=3,\n",
    "        color='grey', #['red' if node in leaf_nodes else 'blue' for node in graph.nodes()], # 'grey',\n",
    "        opacity=0.4 #0.8\n",
    "    )\n",
    ")\n",
    "fig.add_trace(node_trace)\n",
    "\n",
    "for edge in graph.edges():\n",
    "    x0, y0, z0 = edge[0]\n",
    "    x1, y1, z1 = edge[1]\n",
    "    \n",
    "    edge_length = graph.edges[edge]['edge_length']\n",
    "    edge_text = f'{edge_length:.2f}'  # Display the edge length as text\n",
    "    \n",
    "    edge_is_in_a_cycle = [edge[0],edge[1]] in EdgesInCycles or [edge[1],edge[0]] in EdgesInCycles\n",
    "    \n",
    "    edge_trace = go.Scatter3d(\n",
    "        x=[x0, x1],\n",
    "        y=[y0, y1],\n",
    "        z=[z0, z1],\n",
    "        mode='lines',\n",
    "        line=dict(color='rgba(255, 0, 0, 0.8)' if edge_is_in_a_cycle else 'rgba(128, 128, 128, 0.8)',\n",
    "            width=6),\n",
    "        hoverinfo='text',\n",
    "        text=edge_text\n",
    "    )\n",
    "    fig.add_trace(edge_trace)\n",
    "\n",
    "fig.update_layout(\n",
    "    margin=dict(l=0, r=0, b=0, t=0),\n",
    "    scene=dict(\n",
    "        xaxis=dict(range=[0, max(x) + 1]),\n",
    "        yaxis=dict(range=[0, max(y) + 1]),\n",
    "        zaxis=dict(range=[0, max(z) + 1])\n",
    "    )\n",
    ")\n",
    "\n",
    "fig.show()\n",
    "\n",
    "\n",
    "winsound.Beep(frequency, duration)\n"
   ]
  },
  {
   "cell_type": "code",
   "execution_count": 24,
   "metadata": {},
   "outputs": [
    {
     "name": "stdout",
     "output_type": "stream",
     "text": [
      "Node[0]: Appended (290, 333, 410) to CxNodesList\n",
      "Node[1]: Appended (290, 334, 409) to CxNodesList\n",
      "Node[2]: Appended (291, 333, 409) to CxNodesList\n",
      "Node[3]: Appended (289, 333, 409) to CxNodesList\n",
      "Node[4]: Appended (290, 333, 408) to CxNodesList\n",
      "Node[5]: Appended (447, 255, 438) to CxNodesList\n",
      "Node[6]: Appended (447, 256, 439) to CxNodesList\n",
      "Node[7]: Appended (448, 256, 439) to CxNodesList\n",
      "Node[8]: Appended (289, 332, 409) to CxNodesList\n",
      "Node[9]: Appended (290, 332, 409) to CxNodesList\n",
      "Node[10]: Appended (291, 334, 408) to CxNodesList\n",
      "Node[11]: Appended (447, 257, 439) to CxNodesList\n",
      "Node[12]: Appended (446, 256, 438) to CxNodesList\n",
      "Node[13]: Appended (238, 407, 294) to CxNodesList\n",
      "Node[14]: Appended (239, 407, 294) to CxNodesList\n",
      "Node[15]: Appended (239, 407, 295) to CxNodesList\n",
      "\n",
      "Overall 16 nodes in CxNodesList\n"
     ]
    }
   ],
   "source": [
    "#17 Create the nodes list of the complex cycle: Works only for one complex cluster! 480, 196 , 396\n",
    "\n",
    "CxNodesList = [] # Complex nodes list\n",
    "NodeIndex = 0\n",
    "for edge in EdgesInCycles: ############### EdgesInCycles should be adjusted for other scenarios! ***\n",
    "    for i in [0,1]:\n",
    "        CurrentNode = edge[i]\n",
    "        if CurrentNode not in CxNodesList:\n",
    "            CxNodesList.append(CurrentNode)\n",
    "            print(f'Node[{NodeIndex}]: Appended {CurrentNode} to CxNodesList')\n",
    "            NodeIndex += 1\n",
    "print(f'\\nOverall {len(CxNodesList)} nodes in CxNodesList')"
   ]
  },
  {
   "cell_type": "code",
   "execution_count": 25,
   "metadata": {},
   "outputs": [
    {
     "name": "stdout",
     "output_type": "stream",
     "text": [
      "Cluster 1: [(290, 333, 410), (290, 334, 409), (291, 333, 409), (289, 333, 409), (290, 333, 408), (289, 332, 409), (290, 332, 409), (291, 334, 408)]\n",
      "Cluster 2: [(447, 255, 438), (447, 256, 439), (448, 256, 439), (447, 257, 439), (446, 256, 438)]\n",
      "Cluster 3: [(238, 407, 294), (239, 407, 294), (239, 407, 295)]\n"
     ]
    }
   ],
   "source": [
    "#18 Specify n_clusters and get the clusters as separate lists $$$ n_clusters (judge visually and from code block above)\n",
    "# NO NEED TO RUN CODE BLOCK 18-20 IF 0 NODES IN \"CxNodesList\"\n",
    "\n",
    "from sklearn.cluster import KMeans # pip install scikit-learn\n",
    "\n",
    "# Convert the list of 3-tuples to a NumPy array for K-Means clustering\n",
    "data = np.array(CxNodesList)\n",
    "\n",
    "# Specify the number of clusters (in this case, 3 clusters)\n",
    "# n_clusters = 1\n",
    "winsound.Beep(frequency, duration)\n",
    "n_clusters = int(input(\"Please enter the number of clusters: \"))\n",
    "\n",
    "# Perform K-Means clustering\n",
    "kmeans = KMeans(n_clusters=n_clusters, n_init=10)  # You can set n_init to any desired value\n",
    "kmeans.fit(data)\n",
    "\n",
    "# Get the cluster labels for each data point\n",
    "cluster_labels = kmeans.labels_\n",
    "\n",
    "# Initialize empty lists for each cluster\n",
    "clusters = [[] for _ in range(n_clusters)]\n",
    "\n",
    "# Organize data points into clusters based on labels\n",
    "for i, label in enumerate(cluster_labels):\n",
    "    clusters[label].append(CxNodesList[i])\n",
    "\n",
    "# Print the clusters\n",
    "for i, cluster in enumerate(clusters):\n",
    "    print(f\"Cluster {i + 1}:\", cluster)"
   ]
  },
  {
   "cell_type": "code",
   "execution_count": 26,
   "metadata": {},
   "outputs": [],
   "source": [
    "#19 Resolves the complex cycles for one cluster: Changes the graph! Works only once!\n",
    "def ResolveComplexCluster(CxNodesCluster, graph):\n",
    "\n",
    "    # List the neighbors that lie outside the cx-cycle\n",
    "    OuterNeighbors = []\n",
    "    print(\"Outer Neighbors:\")\n",
    "    for node in CxNodesCluster:\n",
    "        for neighbor in graph.neighbors(node):\n",
    "            if neighbor not in CxNodesCluster and neighbor not in OuterNeighbors:\n",
    "                OuterNeighbors.append(neighbor)\n",
    "                print(neighbor)\n",
    "\n",
    "    # Print the cx-cycle\n",
    "    print(\"\\nCx-Cycle:\")\n",
    "    for node in CxNodesCluster:\n",
    "        print(node)\n",
    "\n",
    "    # Takes the Cx-Nodes and forms their average\n",
    "    # CxNodesList: List of n 3-tuples  # n: Number of Cx Nodes  # After zip becomes 3 x ntuple\n",
    "    NewAverageNode = tuple([round(sum(ntuple)/len(ntuple)) for ntuple in zip(*CxNodesCluster)])\n",
    "    print('\\nNewAverageNode:')\n",
    "    print(NewAverageNode)\n",
    "\n",
    "    # If NewAverageNode not on the skeleton, go to its neighborhood and find the nearest voxel that lies on the skeleton:\n",
    "    if skeleton[*NewAverageNode] == 0:\n",
    "        print(f\"NewAverageNode {NewAverageNode} not on the skeleton.\")\n",
    "        xxna, yyna, zzna = NewAverageNode\n",
    "        success = False\n",
    "        NeighbrhdSize = 3\n",
    "        while success == False:\n",
    "            print(f\"Searching neighborhood {NeighbrhdSize}\")\n",
    "            lowerbnd = -(NeighbrhdSize//2)\n",
    "            upperbnd =  (NeighbrhdSize//2) + 1\n",
    "            neighbors = [(i, j, k) for i in range(lowerbnd, upperbnd) for j in range(lowerbnd, upperbnd) for k in range(lowerbnd, upperbnd)]\n",
    "            neighbors.remove((0,0,0))\n",
    "            for neighbor_offset in neighbors:\n",
    "                nnx, nny, nnz = xxna + neighbor_offset[0], yyna + neighbor_offset[1], zzna + neighbor_offset[2]\n",
    "                if 0 <= nnx < skeleton.shape[0] and 0 <= nny < skeleton.shape[1] and 0 <= nnz < skeleton.shape[2]:\n",
    "                    if skeleton[nnx, nny, nnz] != 0:\n",
    "                        NewAverageNode = (nnx, nny, nnz)\n",
    "                        print(f\"Adjusted the NewAverageNode to {NewAverageNode}\")\n",
    "                        success = True\n",
    "                        break            \n",
    "            NeighbrhdSize += 2\n",
    "\n",
    "    # Now remove the old nodes in cx-cycle\n",
    "    for node in CxNodesCluster:\n",
    "        graph.remove_node(node)\n",
    "    print(f'\\nRemoved the {len(CxNodesCluster)} nodes in cx-cycle')\n",
    "\n",
    "    # Add the new average node\n",
    "    graph.add_node(NewAverageNode)\n",
    "    print('Added new average node')\n",
    "\n",
    "    # Make the new edges/connections\n",
    "    for node in OuterNeighbors:\n",
    "        graph.add_edge(node, NewAverageNode)\n",
    "    print('Added the final edges\\n')\n",
    "\n",
    "    UpdateEdgeLengths(graph)\n",
    "    print_stats(graph)\n",
    "    print()\n",
    "\n",
    "    ReFindAndPrintLength3Cycles(graph)"
   ]
  },
  {
   "cell_type": "code",
   "execution_count": 27,
   "metadata": {},
   "outputs": [
    {
     "name": "stdout",
     "output_type": "stream",
     "text": [
      "Outer Neighbors:\n",
      "(282, 328, 409)\n",
      "(301, 346, 416)\n",
      "\n",
      "Cx-Cycle:\n",
      "(290, 333, 410)\n",
      "(290, 334, 409)\n",
      "(291, 333, 409)\n",
      "(289, 333, 409)\n",
      "(290, 333, 408)\n",
      "(289, 332, 409)\n",
      "(290, 332, 409)\n",
      "(291, 334, 408)\n",
      "\n",
      "NewAverageNode:\n",
      "(290, 333, 409)\n",
      "NewAverageNode (290, 333, 409) not on the skeleton.\n",
      "Searching neighborhood 3\n",
      "Adjusted the NewAverageNode to (289, 332, 409)\n",
      "\n",
      "Removed the 8 nodes in cx-cycle\n",
      "Added new average node\n",
      "Added the final edges\n",
      "\n",
      "Number of Nodes: 296\n",
      "Number of Edges: 300\n",
      "\n",
      "Outer Neighbors:\n",
      "(447, 253, 438)\n",
      "(457, 248, 442)\n",
      "(450, 263, 443)\n",
      "(445, 255, 437)\n",
      "\n",
      "Cx-Cycle:\n",
      "(447, 255, 438)\n",
      "(447, 256, 439)\n",
      "(448, 256, 439)\n",
      "(447, 257, 439)\n",
      "(446, 256, 438)\n",
      "\n",
      "NewAverageNode:\n",
      "(447, 256, 439)\n",
      "\n",
      "Removed the 5 nodes in cx-cycle\n",
      "Added new average node\n",
      "Added the final edges\n",
      "\n",
      "Number of Nodes: 292\n",
      "Number of Edges: 292\n",
      "\n",
      "Outer Neighbors:\n",
      "(170, 423, 261)\n",
      "(220, 424, 292)\n",
      "(260, 417, 268)\n",
      "(235, 378, 340)\n",
      "\n",
      "Cx-Cycle:\n",
      "(238, 407, 294)\n",
      "(239, 407, 294)\n",
      "(239, 407, 295)\n",
      "\n",
      "NewAverageNode:\n",
      "(239, 407, 294)\n",
      "\n",
      "Removed the 3 nodes in cx-cycle\n",
      "Added new average node\n",
      "Added the final edges\n",
      "\n",
      "Number of Nodes: 290\n",
      "Number of Edges: 289\n",
      "\n"
     ]
    }
   ],
   "source": [
    "#20\n",
    "for cluster in clusters:\n",
    "    ResolveComplexCluster(cluster, graph)"
   ]
  },
  {
   "cell_type": "code",
   "execution_count": 28,
   "metadata": {},
   "outputs": [
    {
     "name": "stdout",
     "output_type": "stream",
     "text": [
      "Number of Nodes: 290\n",
      "Number of Edges: 289\n",
      "\n",
      "This could be a tree.\n"
     ]
    }
   ],
   "source": [
    "#21 Check if it could be a tree:\n",
    "\n",
    "def CheckBeingATree():\n",
    "\n",
    "    num_nodes = nx.number_of_nodes(graph)\n",
    "    num_edges = nx.number_of_edges(graph)\n",
    "\n",
    "    print(\"Number of Nodes:\", num_nodes)\n",
    "    print(\"Number of Edges:\", num_edges)\n",
    "\n",
    "    if num_nodes != num_edges + 1: print(\"\\nThis is not a tree: #nodes != #edges + 1\")\n",
    "    if num_nodes == num_edges + 1: print(\"\\nThis could be a tree.\")\n",
    "\n",
    "CheckBeingATree()"
   ]
  },
  {
   "cell_type": "code",
   "execution_count": 29,
   "metadata": {},
   "outputs": [],
   "source": [
    "#22 Function: Traverse edge and calculate average diameter, given endpoint indices and skeleton *\n",
    "\n",
    "import numpy as np\n",
    "import copy\n",
    "import random\n",
    "import time\n",
    "\n",
    "def traverse_edge_and_average(skeletonn, edt, index1, index2, EdgeNum): # edt: eucledean distance transform\n",
    "\n",
    "    global verbose\n",
    "    global StartTime\n",
    "    \n",
    "    # normalize_vector = lambda vec: vec / np.linalg.norm(vec)\n",
    "    if verbose: print(f\"Trying to go from {index1} to {index2}\")\n",
    "\n",
    "    # Define the neighborhood offsets for 3D traversal (26-connected)\n",
    "    neighbors = [(i, j, k) for i in range(-1, 2) for j in range(-1, 2) for k in range(-1, 2)]\n",
    "    neighbors.remove((0,0,0))\n",
    "    \n",
    "    average_diameter = None\n",
    "    timestried = 0\n",
    "    while average_diameter == None and timestried < 60:\n",
    "\n",
    "        # Initialize variables to store diameter values and count\n",
    "        if verbose: print(f\"Attempt {timestried+1}: \", end='')\n",
    "        skeletonnn = copy.deepcopy(skeletonn)\n",
    "        diameter_sum = 0.0\n",
    "        count = 0\n",
    "\n",
    "        # Start traversal at index1\n",
    "        current_index = index1\n",
    "        visitedvoxels = []\n",
    "\n",
    "        while current_index != index2:\n",
    "\n",
    "            if current_index == None: break\n",
    "            visitedvoxels.append(current_index)\n",
    "\n",
    "            # Get the current voxel's coordinates\n",
    "            x, y, z = current_index\n",
    "\n",
    "            # Check if the current voxel is within the skeleton and within bounds\n",
    "            if 0 <= x < skeletonnn.shape[0] and 0 <= y < skeletonnn.shape[1] and 0 <= z < skeletonnn.shape[2]:\n",
    "                if skeletonnn[x, y, z] != 0:\n",
    "                    # If the current voxel is part of the skeleton, add its diameter to the sum\n",
    "                    diameter_sum += edt[x, y, z]\n",
    "                    count += 1\n",
    "\n",
    "                    # Mark the current voxel as visited (you can set it to 0 if necessary)\n",
    "                    skeletonnn[x, y, z] = 0  # Uncomment this line if you want to mark visited voxels\n",
    "                    \n",
    "                    max_alignment = float('-inf')\n",
    "                    next_index = None\n",
    "\n",
    "\n",
    "                    ## Logic to choose next voxel:\n",
    "\n",
    "                    # Logic-1: Deterministic:\n",
    "                    # for neighbor_offset in neighbors:\n",
    "                    #     nx, ny, nz = x + neighbor_offset[0], y + neighbor_offset[1], z + neighbor_offset[2]\n",
    "\n",
    "                    #     strghtdirectiont = tuple(np.array(index2) - np.array(current_index))\n",
    "                    #     strghtdirectionu = normalize_vector(strghtdirectiont)\n",
    "                    #     neighbor_offsetu = normalize_vector(neighbor_offset )\n",
    "                    #     currentalignment = np.dot(neighbor_offsetu, strghtdirectionu)\n",
    "                        \n",
    "                    #     if 0 <= nx < skeletonn.shape[0] and 0 <= ny < skeletonn.shape[1] and 0 <= nz < skeletonn.shape[2]:\n",
    "                    #         if skeletonn[nx, ny, nz] != 0 and currentalignment > max_alignment:\n",
    "                    #             max_alignment = currentalignment\n",
    "                    #             next_index = (nx, ny, nz)\n",
    "\n",
    "                    # Logic-2: Random walk:\n",
    "                    while True:\n",
    "                        if not any([skeletonnn[*tuple(np.array(current_index)+np.array(neigh))] for neigh in neighbors]): break\n",
    "                        neighbor_offset = random.choice(neighbors)\n",
    "                        nnx, nny, nnz = x + neighbor_offset[0], y + neighbor_offset[1], z + neighbor_offset[2]\n",
    "                        if 0 <= nnx < skeletonnn.shape[0] and 0 <= nny < skeletonnn.shape[1] and 0 <= nnz < skeletonnn.shape[2]:\n",
    "                            if skeletonnn[nnx, nny, nnz] != 0:\n",
    "                                next_index = (nnx, nny, nnz)\n",
    "                                break\n",
    "\n",
    "\n",
    "                    # Update the current index to the next voxel in the skeleton\n",
    "                    current_index = next_index\n",
    "                else:\n",
    "                    # If the current voxel is not part of the skeleton, stop the traversal\n",
    "                    break\n",
    "            else:\n",
    "                # If the current index is out of bounds, stop the traversal\n",
    "                break\n",
    "        \n",
    "        if current_index != index2:\n",
    "            if verbose: print(f\"Error! Couldn't get from {index1} to {index2}! Returned None.\")\n",
    "            pass\n",
    "\n",
    "        # Set the output\n",
    "        if count > 0 and current_index == index2:\n",
    "            average_diameter = diameter_sum / count\n",
    "\n",
    "        del skeletonnn\n",
    "        timestried += 1\n",
    "\n",
    "    if current_index == index2:\n",
    "        if verbose: print(f\"\\nDone. Got to {index2}\\n\")\n",
    "        pass\n",
    "\n",
    "    num_edges = nx.number_of_edges(graph)\n",
    "    print(f\"Edge # {EdgeNum:3}/{num_edges}: AvgDiam: {average_diameter:010.7f}: TimeElapsed: {(time.time() - StartTime):07.2f}\" + (\"\\n\" if verbose else \"\"))\n",
    "\n",
    "    return average_diameter, visitedvoxels"
   ]
  },
  {
   "cell_type": "code",
   "execution_count": 31,
   "metadata": {},
   "outputs": [],
   "source": [
    "##23-2 Only test: traverse_edge_and_average for two points:\n",
    "\n",
    "# index1 = (490, 326, 291) # (471, 301, 385) # (404, 136, 313) # index1 = (384, 202, 342)\n",
    "# index2 = (493, 353, 254) # (438, 316, 481) # (384, 202, 342) # index2 = (304, 282, 320)\n",
    "\n",
    "# skeletonn = copy.deepcopy(skeleton)\n",
    "# avgdiam, visitedvoxels = traverse_edge_and_average(skeletonn, distance_transform, index1, index2, 5)\n",
    "# del skeletonn\n",
    "\n",
    "# if avgdiam is not None:\n",
    "#     print(f\"Average Diameter between {index1} and {index2}: {avgdiam:.2f}\")\n",
    "# else:\n",
    "#     print(\"No skeleton found between the specified indices.\")"
   ]
  },
  {
   "cell_type": "code",
   "execution_count": null,
   "metadata": {},
   "outputs": [],
   "source": [
    "##23-3 Test: Use mayavi to visualize the intended start and end points, plus the taken route, from the above test cell:\n",
    "\n",
    "# import mayavi.mlab as mlab\n",
    "# import numpy as np\n",
    "\n",
    "# # Create a figure\n",
    "# fig = mlab.figure(size=(800, 800), bgcolor=(1, 1, 1))\n",
    "\n",
    "# # Plot the skeleton in blue (0 values will be transparent)\n",
    "# mlab.contour3d(skeleton, color=(0, 0, 1), opacity=0.4)\n",
    "\n",
    "# # Highlight the visited voxels in red\n",
    "# for voxel in visitedvoxels:\n",
    "#     # print(voxel)\n",
    "#     x, y, z = voxel\n",
    "#     mlab.points3d(x, y, z, color=(1, 0, 0), scale_factor=1.0) # , mode='sphere'\n",
    "\n",
    "# for voxel in [index1, index2]:\n",
    "#     # print(voxel)\n",
    "#     x, y, z = voxel\n",
    "#     mlab.points3d(x, y, z, color=(1, 0, 0), scale_factor=4.0) # , mode='sphere'    \n",
    "\n",
    "# # Customize the view and axes as needed\n",
    "# mlab.view(azimuth=45, elevation=45, distance=20)\n",
    "# # mlab.axes()\n",
    "\n",
    "# # Show the visualization\n",
    "# mlab.show()"
   ]
  },
  {
   "cell_type": "code",
   "execution_count": 35,
   "metadata": {},
   "outputs": [
    {
     "name": "stdout",
     "output_type": "stream",
     "text": [
      "Edge #   1/289: AvgDiam: 33.4612959: TimeElapsed: 0000.24\n",
      "Edge #   2/289: AvgDiam: 31.1287648: TimeElapsed: 0000.41\n",
      "Edge #   3/289: AvgDiam: 31.8178193: TimeElapsed: 0000.59\n",
      "Edge #   4/289: AvgDiam: 33.8401273: TimeElapsed: 0000.88\n",
      "Edge #   5/289: AvgDiam: 33.9705755: TimeElapsed: 0001.32\n",
      "Edge #   6/289: AvgDiam: 34.0733915: TimeElapsed: 0001.49\n",
      "Edge #   7/289: AvgDiam: 33.7490741: TimeElapsed: 0002.88\n",
      "Edge #   8/289: AvgDiam: 33.7153732: TimeElapsed: 0003.06\n",
      "Edge #   9/289: AvgDiam: 33.2052693: TimeElapsed: 0003.23\n",
      "Edge #  10/289: AvgDiam: 33.7630524: TimeElapsed: 0003.50\n",
      "Edge #  11/289: AvgDiam: 33.5773063: TimeElapsed: 0003.71\n",
      "Edge #  12/289: AvgDiam: 26.2370733: TimeElapsed: 0004.25\n",
      "Edge #  13/289: AvgDiam: 18.7074117: TimeElapsed: 0004.80\n",
      "Edge #  14/289: AvgDiam: 19.7742077: TimeElapsed: 0005.00\n",
      "Edge #  15/289: AvgDiam: 17.6086392: TimeElapsed: 0005.36\n",
      "Edge #  16/289: AvgDiam: 08.8554131: TimeElapsed: 0007.58\n",
      "Edge #  17/289: AvgDiam: 03.3384666: TimeElapsed: 0008.12\n",
      "Edge #  18/289: AvgDiam: 03.8073409: TimeElapsed: 0009.50\n",
      "Edge #  19/289: AvgDiam: 18.3738213: TimeElapsed: 0011.89\n",
      "Edge #  20/289: AvgDiam: 07.8828850: TimeElapsed: 0013.34\n",
      "Edge #  21/289: AvgDiam: 03.8910651: TimeElapsed: 0013.78\n",
      "Edge #  22/289: AvgDiam: 02.3902405: TimeElapsed: 0014.24\n",
      "Edge #  23/289: AvgDiam: 03.0142324: TimeElapsed: 0014.87\n",
      "Edge #  24/289: AvgDiam: 02.7983863: TimeElapsed: 0015.15\n",
      "Edge #  25/289: AvgDiam: 03.1622777: TimeElapsed: 0015.32\n",
      "Edge #  26/289: AvgDiam: 03.3114393: TimeElapsed: 0015.61\n",
      "Edge #  27/289: AvgDiam: 16.9849140: TimeElapsed: 0018.52\n",
      "Edge #  28/289: AvgDiam: 09.4440059: TimeElapsed: 0019.32\n",
      "Edge #  29/289: AvgDiam: 04.4359574: TimeElapsed: 0019.54\n",
      "Edge #  30/289: AvgDiam: 02.5678077: TimeElapsed: 0020.03\n",
      "Edge #  31/289: AvgDiam: 02.8131104: TimeElapsed: 0020.96\n",
      "Edge #  32/289: AvgDiam: 01.9449214: TimeElapsed: 0021.15\n",
      "Edge #  33/289: AvgDiam: 07.0779966: TimeElapsed: 0023.99\n",
      "Edge #  34/289: AvgDiam: 04.9459957: TimeElapsed: 0025.06\n",
      "Edge #  35/289: AvgDiam: 02.8250325: TimeElapsed: 0026.41\n",
      "Edge #  36/289: AvgDiam: 03.5325407: TimeElapsed: 0026.98\n",
      "Edge #  37/289: AvgDiam: 05.4781126: TimeElapsed: 0027.91\n",
      "Edge #  38/289: AvgDiam: 02.6746014: TimeElapsed: 0028.52\n",
      "Edge #  39/289: AvgDiam: 03.6120041: TimeElapsed: 0029.03\n",
      "Edge #  40/289: AvgDiam: 03.1303275: TimeElapsed: 0029.32\n",
      "Edge #  41/289: AvgDiam: 02.3823232: TimeElapsed: 0030.69\n",
      "Edge #  42/289: AvgDiam: 02.3904020: TimeElapsed: 0030.87\n",
      "Edge #  43/289: AvgDiam: 02.5364588: TimeElapsed: 0031.37\n",
      "Edge #  44/289: AvgDiam: 12.4646750: TimeElapsed: 0031.88\n",
      "Edge #  45/289: AvgDiam: 09.5067484: TimeElapsed: 0034.52\n",
      "Edge #  46/289: AvgDiam: 09.2195445: TimeElapsed: 0036.04\n",
      "Edge #  47/289: AvgDiam: 06.0330383: TimeElapsed: 0036.73\n",
      "Edge #  48/289: AvgDiam: 03.9906547: TimeElapsed: 0037.69\n",
      "Edge #  49/289: AvgDiam: 02.6746372: TimeElapsed: 0037.91\n",
      "Edge #  50/289: AvgDiam: 03.1521468: TimeElapsed: 0038.25\n",
      "Edge #  51/289: AvgDiam: 05.5846632: TimeElapsed: 0038.92\n",
      "Edge #  52/289: AvgDiam: 04.8989795: TimeElapsed: 0039.08\n",
      "Edge #  53/289: AvgDiam: 04.7946976: TimeElapsed: 0039.80\n",
      "Edge #  54/289: AvgDiam: 03.3919466: TimeElapsed: 0041.85\n",
      "Edge #  55/289: AvgDiam: 02.4750053: TimeElapsed: 0042.49\n",
      "Edge #  56/289: AvgDiam: 02.5712035: TimeElapsed: 0043.30\n",
      "Edge #  57/289: AvgDiam: 02.7454509: TimeElapsed: 0043.70\n",
      "Edge #  58/289: AvgDiam: 05.2325797: TimeElapsed: 0044.89\n",
      "Edge #  59/289: AvgDiam: 03.4096070: TimeElapsed: 0045.50\n",
      "Edge #  60/289: AvgDiam: 02.5264588: TimeElapsed: 0045.98\n",
      "Edge #  61/289: AvgDiam: 02.3996549: TimeElapsed: 0048.38\n",
      "Edge #  62/289: AvgDiam: 03.6286748: TimeElapsed: 0050.24\n",
      "Edge #  63/289: AvgDiam: 02.6410546: TimeElapsed: 0052.12\n",
      "Edge #  64/289: AvgDiam: 02.1213172: TimeElapsed: 0052.62\n",
      "Edge #  65/289: AvgDiam: 09.2195445: TimeElapsed: 0053.40\n",
      "Edge #  66/289: AvgDiam: 10.7843518: TimeElapsed: 0054.14\n",
      "Edge #  67/289: AvgDiam: 04.9822484: TimeElapsed: 0054.52\n",
      "Edge #  68/289: AvgDiam: 03.9220962: TimeElapsed: 0054.89\n",
      "Edge #  69/289: AvgDiam: 02.3112032: TimeElapsed: 0055.20\n",
      "Edge #  70/289: AvgDiam: 02.6481142: TimeElapsed: 0055.49\n",
      "Edge #  71/289: AvgDiam: 03.9975909: TimeElapsed: 0056.60\n",
      "Edge #  72/289: AvgDiam: 03.1446595: TimeElapsed: 0056.78\n",
      "Edge #  73/289: AvgDiam: 03.0762698: TimeElapsed: 0057.69\n",
      "Edge #  74/289: AvgDiam: 08.7338354: TimeElapsed: 0057.97\n",
      "Edge #  75/289: AvgDiam: 03.9297821: TimeElapsed: 0058.28\n",
      "Edge #  76/289: AvgDiam: 02.3596971: TimeElapsed: 0059.65\n",
      "Edge #  77/289: AvgDiam: 02.3281416: TimeElapsed: 0061.16\n",
      "Edge #  78/289: AvgDiam: 08.2676897: TimeElapsed: 0061.43\n",
      "Edge #  79/289: AvgDiam: 05.7151384: TimeElapsed: 0062.61\n",
      "Edge #  80/289: AvgDiam: 03.3179544: TimeElapsed: 0063.31\n",
      "Edge #  81/289: AvgDiam: 02.5206838: TimeElapsed: 0064.95\n",
      "Edge #  82/289: AvgDiam: 02.1287644: TimeElapsed: 0065.16\n",
      "Edge #  83/289: AvgDiam: 02.0437163: TimeElapsed: 0065.67\n",
      "Edge #  84/289: AvgDiam: 02.1180340: TimeElapsed: 0066.84\n",
      "Edge #  85/289: AvgDiam: 02.1573787: TimeElapsed: 0068.58\n",
      "Edge #  86/289: AvgDiam: 02.1271135: TimeElapsed: 0068.79\n",
      "Edge #  87/289: AvgDiam: 02.1218495: TimeElapsed: 0069.41\n",
      "Edge #  88/289: AvgDiam: 02.1573787: TimeElapsed: 0069.64\n",
      "Edge #  89/289: AvgDiam: 02.0291695: TimeElapsed: 0070.12\n",
      "Edge #  90/289: AvgDiam: 03.2866614: TimeElapsed: 0071.32\n",
      "Edge #  91/289: AvgDiam: 02.1403103: TimeElapsed: 0072.93\n",
      "Edge #  92/289: AvgDiam: 02.2043222: TimeElapsed: 0073.21\n",
      "Edge #  93/289: AvgDiam: 02.0609312: TimeElapsed: 0075.18\n",
      "Edge #  94/289: AvgDiam: 02.0576016: TimeElapsed: 0075.74\n",
      "Edge #  95/289: AvgDiam: 03.3334583: TimeElapsed: 0076.25\n",
      "Edge #  96/289: AvgDiam: 02.4889676: TimeElapsed: 0076.49\n",
      "Edge #  97/289: AvgDiam: 02.3561565: TimeElapsed: 0076.77\n",
      "Edge #  98/289: AvgDiam: 02.6096652: TimeElapsed: 0077.82\n",
      "Edge #  99/289: AvgDiam: 02.5191291: TimeElapsed: 0080.25\n",
      "Edge # 100/289: AvgDiam: 02.0750542: TimeElapsed: 0080.46\n",
      "Edge # 101/289: AvgDiam: 01.8491063: TimeElapsed: 0081.31\n",
      "Edge # 102/289: AvgDiam: 06.8894870: TimeElapsed: 0085.44\n",
      "Edge # 103/289: AvgDiam: 03.0909440: TimeElapsed: 0087.41\n",
      "Edge # 104/289: AvgDiam: 04.8093125: TimeElapsed: 0087.87\n",
      "Edge # 105/289: AvgDiam: 02.3610939: TimeElapsed: 0088.09\n",
      "Edge # 106/289: AvgDiam: 03.8870386: TimeElapsed: 0089.25\n",
      "Edge # 107/289: AvgDiam: 03.2922222: TimeElapsed: 0089.70\n",
      "Edge # 108/289: AvgDiam: 02.5889359: TimeElapsed: 0090.67\n",
      "Edge # 109/289: AvgDiam: 05.4949875: TimeElapsed: 0091.18\n",
      "Edge # 110/289: AvgDiam: 03.0153974: TimeElapsed: 0091.42\n",
      "Edge # 111/289: AvgDiam: 03.7620166: TimeElapsed: 0091.67\n",
      "Edge # 112/289: AvgDiam: 03.2181802: TimeElapsed: 0091.90\n",
      "Edge # 113/289: AvgDiam: 02.7422191: TimeElapsed: 0092.60\n",
      "Edge # 114/289: AvgDiam: 02.5893844: TimeElapsed: 0094.62\n",
      "Edge # 115/289: AvgDiam: 03.5840834: TimeElapsed: 0095.97\n",
      "Edge # 116/289: AvgDiam: 02.2486883: TimeElapsed: 0096.16\n",
      "Edge # 117/289: AvgDiam: 02.5339170: TimeElapsed: 0096.37\n",
      "Edge # 118/289: AvgDiam: 18.1366601: TimeElapsed: 0100.08\n",
      "Edge # 119/289: AvgDiam: 20.6181330: TimeElapsed: 0101.55\n",
      "Edge # 120/289: AvgDiam: 14.5375473: TimeElapsed: 0102.93\n",
      "Edge # 121/289: AvgDiam: 09.5018507: TimeElapsed: 0103.16\n",
      "Edge # 122/289: AvgDiam: 06.6582970: TimeElapsed: 0103.38\n",
      "Edge # 123/289: AvgDiam: 03.6502802: TimeElapsed: 0103.71\n",
      "Edge # 124/289: AvgDiam: 02.4711062: TimeElapsed: 0105.54\n",
      "Edge # 125/289: AvgDiam: 02.5066376: TimeElapsed: 0107.18\n",
      "Edge # 126/289: AvgDiam: 03.4030258: TimeElapsed: 0110.23\n",
      "Edge # 127/289: AvgDiam: 07.9959392: TimeElapsed: 0111.38\n",
      "Edge # 128/289: AvgDiam: 04.1100055: TimeElapsed: 0112.29\n",
      "Edge # 129/289: AvgDiam: 02.3871552: TimeElapsed: 0112.55\n",
      "Edge # 130/289: AvgDiam: 02.5715960: TimeElapsed: 0112.88\n",
      "Edge # 131/289: AvgDiam: 02.5076185: TimeElapsed: 0113.81\n",
      "Edge # 132/289: AvgDiam: 02.1110908: TimeElapsed: 0114.07\n",
      "Edge # 133/289: AvgDiam: 02.1709458: TimeElapsed: 0115.09\n",
      "Edge # 134/289: AvgDiam: 02.0104402: TimeElapsed: 0115.54\n",
      "Edge # 135/289: AvgDiam: 06.7500721: TimeElapsed: 0116.89\n",
      "Edge # 136/289: AvgDiam: 04.2512037: TimeElapsed: 0118.15\n",
      "Edge # 137/289: AvgDiam: 02.6905029: TimeElapsed: 0118.42\n",
      "Edge # 138/289: AvgDiam: 03.2486437: TimeElapsed: 0118.85\n",
      "Edge # 139/289: AvgDiam: 04.1778824: TimeElapsed: 0121.74\n",
      "Edge # 140/289: AvgDiam: 02.7807726: TimeElapsed: 0122.98\n",
      "Edge # 141/289: AvgDiam: 03.2288616: TimeElapsed: 0123.92\n",
      "Edge # 142/289: AvgDiam: 02.4941994: TimeElapsed: 0124.62\n",
      "Edge # 143/289: AvgDiam: 02.2912391: TimeElapsed: 0124.84\n",
      "Edge # 144/289: AvgDiam: 12.3832139: TimeElapsed: 0125.54\n",
      "Edge # 145/289: AvgDiam: 09.6527833: TimeElapsed: 0125.95\n",
      "Edge # 146/289: AvgDiam: 06.8614859: TimeElapsed: 0126.14\n",
      "Edge # 147/289: AvgDiam: 04.5264248: TimeElapsed: 0129.57\n",
      "Edge # 148/289: AvgDiam: 02.9748124: TimeElapsed: 0130.08\n",
      "Edge # 149/289: AvgDiam: 02.2050893: TimeElapsed: 0130.39\n",
      "Edge # 150/289: AvgDiam: 02.6690656: TimeElapsed: 0130.91\n",
      "Edge # 151/289: AvgDiam: 03.2261082: TimeElapsed: 0131.45\n",
      "Edge # 152/289: AvgDiam: 02.2857862: TimeElapsed: 0131.72\n",
      "Edge # 153/289: AvgDiam: 02.4022702: TimeElapsed: 0131.94\n",
      "Edge # 154/289: AvgDiam: 02.9584890: TimeElapsed: 0132.24\n",
      "Edge # 155/289: AvgDiam: 05.9964482: TimeElapsed: 0133.06\n",
      "Edge # 156/289: AvgDiam: 03.7451769: TimeElapsed: 0134.51\n",
      "Edge # 157/289: AvgDiam: 02.8651785: TimeElapsed: 0136.21\n",
      "Edge # 158/289: AvgDiam: 02.6331540: TimeElapsed: 0136.57\n",
      "Edge # 159/289: AvgDiam: 02.8162421: TimeElapsed: 0137.37\n",
      "Edge # 160/289: AvgDiam: 08.8176769: TimeElapsed: 0137.64\n",
      "Edge # 161/289: AvgDiam: 03.2249572: TimeElapsed: 0139.10\n",
      "Edge # 162/289: AvgDiam: 05.6595346: TimeElapsed: 0140.42\n",
      "Edge # 163/289: AvgDiam: 02.9004246: TimeElapsed: 0141.33\n",
      "Edge # 164/289: AvgDiam: 02.7521484: TimeElapsed: 0142.00\n",
      "Edge # 165/289: AvgDiam: 07.4082512: TimeElapsed: 0142.21\n",
      "Edge # 166/289: AvgDiam: 04.2793327: TimeElapsed: 0142.64\n",
      "Edge # 167/289: AvgDiam: 02.4818383: TimeElapsed: 0144.10\n",
      "Edge # 168/289: AvgDiam: 02.9834796: TimeElapsed: 0144.36\n",
      "Edge # 169/289: AvgDiam: 04.3700235: TimeElapsed: 0144.57\n",
      "Edge # 170/289: AvgDiam: 02.8359632: TimeElapsed: 0144.81\n",
      "Edge # 171/289: AvgDiam: 03.2069764: TimeElapsed: 0146.44\n",
      "Edge # 172/289: AvgDiam: 33.1587015: TimeElapsed: 0147.51\n",
      "Edge # 173/289: AvgDiam: 33.1711440: TimeElapsed: 0148.48\n",
      "Edge # 174/289: AvgDiam: 30.9974527: TimeElapsed: 0150.30\n",
      "Edge # 175/289: AvgDiam: 33.1447968: TimeElapsed: 0150.58\n",
      "Edge # 176/289: AvgDiam: 33.2394130: TimeElapsed: 0150.88\n",
      "Edge # 177/289: AvgDiam: 32.3286595: TimeElapsed: 0151.69\n",
      "Edge # 178/289: AvgDiam: 21.4298814: TimeElapsed: 0151.99\n",
      "Edge # 179/289: AvgDiam: 09.6765352: TimeElapsed: 0152.78\n",
      "Edge # 180/289: AvgDiam: 07.1710618: TimeElapsed: 0152.99\n",
      "Edge # 181/289: AvgDiam: 03.8333829: TimeElapsed: 0153.19\n",
      "Edge # 182/289: AvgDiam: 02.2652076: TimeElapsed: 0154.27\n",
      "Edge # 183/289: AvgDiam: 02.6672564: TimeElapsed: 0155.40\n",
      "Edge # 184/289: AvgDiam: 04.2233178: TimeElapsed: 0156.24\n",
      "Edge # 185/289: AvgDiam: 02.4403978: TimeElapsed: 0156.52\n",
      "Edge # 186/289: AvgDiam: 03.3937936: TimeElapsed: 0157.25\n",
      "Edge # 187/289: AvgDiam: 06.3031121: TimeElapsed: 0160.58\n",
      "Edge # 188/289: AvgDiam: 03.4455461: TimeElapsed: 0161.50\n",
      "Edge # 189/289: AvgDiam: 05.0278309: TimeElapsed: 0163.22\n",
      "Edge # 190/289: AvgDiam: 03.1871757: TimeElapsed: 0165.83\n",
      "Edge # 191/289: AvgDiam: 03.0775770: TimeElapsed: 0166.21\n",
      "Edge # 192/289: AvgDiam: 09.4675842: TimeElapsed: 0168.08\n",
      "Edge # 193/289: AvgDiam: 04.2250896: TimeElapsed: 0168.78\n",
      "Edge # 194/289: AvgDiam: 02.5892422: TimeElapsed: 0169.00\n",
      "Edge # 195/289: AvgDiam: 03.2101994: TimeElapsed: 0169.77\n",
      "Edge # 196/289: AvgDiam: 02.3662073: TimeElapsed: 0170.30\n",
      "Edge # 197/289: AvgDiam: 02.4311681: TimeElapsed: 0170.52\n",
      "Edge # 198/289: AvgDiam: 07.0405830: TimeElapsed: 0172.38\n",
      "Edge # 199/289: AvgDiam: 06.9266989: TimeElapsed: 0172.54\n",
      "Edge # 200/289: AvgDiam: 06.3379120: TimeElapsed: 0173.08\n",
      "Edge # 201/289: AvgDiam: 03.5926539: TimeElapsed: 0173.49\n",
      "Edge # 202/289: AvgDiam: 05.6699668: TimeElapsed: 0174.71\n",
      "Edge # 203/289: AvgDiam: 03.6119119: TimeElapsed: 0175.69\n",
      "Edge # 204/289: AvgDiam: 02.9335892: TimeElapsed: 0176.72\n",
      "Edge # 205/289: AvgDiam: 02.4157446: TimeElapsed: 0177.05\n",
      "Edge # 206/289: AvgDiam: 02.1062306: TimeElapsed: 0180.52\n",
      "Edge # 207/289: AvgDiam: 02.3548317: TimeElapsed: 0181.16\n",
      "Edge # 208/289: AvgDiam: 02.1210396: TimeElapsed: 0183.03\n",
      "Edge # 209/289: AvgDiam: 02.1694483: TimeElapsed: 0183.46\n",
      "Edge # 210/289: AvgDiam: 02.6226254: TimeElapsed: 0183.68\n",
      "Edge # 211/289: AvgDiam: 02.4922770: TimeElapsed: 0184.45\n",
      "Edge # 212/289: AvgDiam: 02.0884125: TimeElapsed: 0185.17\n",
      "Edge # 213/289: AvgDiam: 02.0786893: TimeElapsed: 0185.91\n",
      "Edge # 214/289: AvgDiam: 02.0869724: TimeElapsed: 0187.54\n",
      "Edge # 215/289: AvgDiam: 02.7282191: TimeElapsed: 0188.61\n",
      "Edge # 216/289: AvgDiam: 03.0951623: TimeElapsed: 0188.90\n",
      "Edge # 217/289: AvgDiam: 24.9378664: TimeElapsed: 0191.19\n",
      "Edge # 218/289: AvgDiam: 22.5038202: TimeElapsed: 0191.44\n",
      "Edge # 219/289: AvgDiam: 21.5797960: TimeElapsed: 0192.29\n",
      "Edge # 220/289: AvgDiam: 16.2939450: TimeElapsed: 0193.15\n",
      "Edge # 221/289: AvgDiam: 04.1594337: TimeElapsed: 0195.26\n",
      "Edge # 222/289: AvgDiam: 10.2638794: TimeElapsed: 0195.84\n",
      "Edge # 223/289: AvgDiam: 03.9284639: TimeElapsed: 0199.32\n",
      "Edge # 224/289: AvgDiam: 02.1839346: TimeElapsed: 0199.56\n",
      "Edge # 225/289: AvgDiam: 02.3665621: TimeElapsed: 0202.66\n",
      "Edge # 226/289: AvgDiam: 04.8325344: TimeElapsed: 0203.70\n",
      "Edge # 227/289: AvgDiam: 03.6536036: TimeElapsed: 0205.31\n",
      "Edge # 228/289: AvgDiam: 02.1557886: TimeElapsed: 0205.50\n",
      "Edge # 229/289: AvgDiam: 02.8568824: TimeElapsed: 0208.20\n",
      "Edge # 230/289: AvgDiam: 03.3373084: TimeElapsed: 0208.41\n",
      "Edge # 231/289: AvgDiam: 20.4601050: TimeElapsed: 0209.98\n",
      "Edge # 232/289: AvgDiam: 16.1580233: TimeElapsed: 0210.19\n",
      "Edge # 233/289: AvgDiam: 12.1466080: TimeElapsed: 0210.52\n",
      "Edge # 234/289: AvgDiam: 11.1742268: TimeElapsed: 0211.31\n",
      "Edge # 235/289: AvgDiam: 09.1569476: TimeElapsed: 0211.53\n",
      "Edge # 236/289: AvgDiam: 03.9111249: TimeElapsed: 0211.78\n",
      "Edge # 237/289: AvgDiam: 08.1601422: TimeElapsed: 0212.83\n",
      "Edge # 238/289: AvgDiam: 09.1213069: TimeElapsed: 0213.03\n",
      "Edge # 239/289: AvgDiam: 03.9267821: TimeElapsed: 0213.51\n",
      "Edge # 240/289: AvgDiam: 08.3651445: TimeElapsed: 0214.42\n",
      "Edge # 241/289: AvgDiam: 02.8979293: TimeElapsed: 0215.35\n",
      "Edge # 242/289: AvgDiam: 08.3333333: TimeElapsed: 0215.70\n",
      "Edge # 243/289: AvgDiam: 03.1431139: TimeElapsed: 0216.81\n",
      "Edge # 244/289: AvgDiam: 06.5922568: TimeElapsed: 0217.01\n",
      "Edge # 245/289: AvgDiam: 05.4553221: TimeElapsed: 0217.21\n",
      "Edge # 246/289: AvgDiam: 03.1406827: TimeElapsed: 0218.09\n",
      "Edge # 247/289: AvgDiam: 02.8975184: TimeElapsed: 0218.64\n",
      "Edge # 248/289: AvgDiam: 02.6128623: TimeElapsed: 0218.97\n",
      "Edge # 249/289: AvgDiam: 03.6720620: TimeElapsed: 0220.30\n",
      "Edge # 250/289: AvgDiam: 09.3476589: TimeElapsed: 0220.49\n",
      "Edge # 251/289: AvgDiam: 03.6162385: TimeElapsed: 0222.37\n",
      "Edge # 252/289: AvgDiam: 06.8906108: TimeElapsed: 0222.92\n",
      "Edge # 253/289: AvgDiam: 05.9438007: TimeElapsed: 0224.53\n",
      "Edge # 254/289: AvgDiam: 03.7937670: TimeElapsed: 0225.27\n",
      "Edge # 255/289: AvgDiam: 04.1640109: TimeElapsed: 0225.57\n",
      "Edge # 256/289: AvgDiam: 02.9792202: TimeElapsed: 0225.83\n",
      "Edge # 257/289: AvgDiam: 02.8048188: TimeElapsed: 0226.08\n",
      "Edge # 258/289: AvgDiam: 04.6160444: TimeElapsed: 0228.26\n",
      "Edge # 259/289: AvgDiam: 02.5374632: TimeElapsed: 0229.57\n",
      "Edge # 260/289: AvgDiam: 02.4699102: TimeElapsed: 0231.28\n",
      "Edge # 261/289: AvgDiam: 03.6896259: TimeElapsed: 0233.21\n",
      "Edge # 262/289: AvgDiam: 06.3151969: TimeElapsed: 0234.18\n",
      "Edge # 263/289: AvgDiam: 03.1753732: TimeElapsed: 0235.14\n",
      "Edge # 264/289: AvgDiam: 02.6472868: TimeElapsed: 0235.58\n",
      "Edge # 265/289: AvgDiam: 10.1240142: TimeElapsed: 0237.01\n",
      "Edge # 266/289: AvgDiam: 04.2954373: TimeElapsed: 0238.60\n",
      "Edge # 267/289: AvgDiam: 02.8045805: TimeElapsed: 0239.88\n",
      "Edge # 268/289: AvgDiam: 03.1803620: TimeElapsed: 0240.18\n",
      "Edge # 269/289: AvgDiam: 03.7895895: TimeElapsed: 0240.80\n",
      "Edge # 270/289: AvgDiam: 02.6282711: TimeElapsed: 0241.04\n",
      "Edge # 271/289: AvgDiam: 02.5771286: TimeElapsed: 0242.45\n",
      "Edge # 272/289: AvgDiam: 02.5782993: TimeElapsed: 0243.27\n",
      "Edge # 273/289: AvgDiam: 02.7220982: TimeElapsed: 0245.38\n",
      "Edge # 274/289: AvgDiam: 08.6793862: TimeElapsed: 0245.72\n",
      "Edge # 275/289: AvgDiam: 02.6514096: TimeElapsed: 0246.04\n",
      "Edge # 276/289: AvgDiam: 02.7186214: TimeElapsed: 0246.25\n",
      "Edge # 277/289: AvgDiam: 10.4165233: TimeElapsed: 0246.86\n",
      "Edge # 278/289: AvgDiam: 04.9297880: TimeElapsed: 0247.51\n",
      "Edge # 279/289: AvgDiam: 02.5534677: TimeElapsed: 0250.31\n",
      "Edge # 280/289: AvgDiam: 02.4931720: TimeElapsed: 0250.70\n",
      "Edge # 281/289: AvgDiam: 05.6766165: TimeElapsed: 0252.86\n",
      "Edge # 282/289: AvgDiam: 03.0773391: TimeElapsed: 0254.59\n",
      "Edge # 283/289: AvgDiam: 04.0465667: TimeElapsed: 0259.22\n",
      "Edge # 284/289: AvgDiam: 02.7534069: TimeElapsed: 0261.38\n",
      "Edge # 285/289: AvgDiam: 03.1884488: TimeElapsed: 0261.82\n",
      "Edge # 286/289: AvgDiam: 02.2994527: TimeElapsed: 0263.03\n",
      "Edge # 287/289: AvgDiam: 02.3263975: TimeElapsed: 0264.34\n",
      "Edge # 288/289: AvgDiam: 33.8818341: TimeElapsed: 0264.51\n",
      "Edge # 289/289: AvgDiam: 32.0049594: TimeElapsed: 0264.70\n",
      "\n",
      "Done.\n"
     ]
    }
   ],
   "source": [
    "#24 Main function calling the traverse function: $$$ root = () \n",
    "\n",
    "# input_string = '(480, 196, 396)'\n",
    "\n",
    "\n",
    "# Fucntion: fully traverse the directed tree visiting all edges:\n",
    "def traverse_full_tree(digraph, current_node):\n",
    "    global EdgeNum\n",
    "    # Find and process the outgoing edges from the current node\n",
    "    for successor in digraph.successors(current_node):\n",
    "        # Run the FindDiameter function for the current edge\n",
    "        digraph[current_node][successor]['AvgDiameter'] = FindDiameter(current_node, successor, EdgeNum)\n",
    "        EdgeNum += 1\n",
    "        # Recursively traverse the tree from the successor node\n",
    "        traverse_full_tree(digraph, successor)\n",
    "\n",
    "def FindDiameter(node1, node2, EdgeNum):\n",
    "    # print(f\"Finding avg diameter btw nodes {node1} and {node2}\")\n",
    "    skeletonn = copy.deepcopy(skeleton)\n",
    "    avgdiam, visitedvoxels = traverse_edge_and_average(skeletonn, distance_transform, node1, node2, EdgeNum)\n",
    "    del skeletonn\n",
    "    return avgdiam\n",
    "\n",
    "# Main: Start the traversal from a specified root node:\n",
    "import time\n",
    "winsound.Beep(frequency, duration)\n",
    "# root = (436, 69, 207) # For Case-53!\n",
    "root = eval(input(\"Please enter the root as a 3-tuple: (x,y,z): \"))\n",
    "digraph = nx.dfs_tree(graph, source=root) # Create a directed graph starting from the specified root node\n",
    "StartTime = time.time()\n",
    "EdgeNum = 1\n",
    "verbose = False\n",
    "traverse_full_tree(digraph, root)\n",
    "print('\\nDone.')\n",
    "\n",
    "# Attempt 60: Error! Couldn't get from (477, 282, 383) to (466, 270, 425)! Returned None.\n",
    "# Attempt 60: Error! Couldn't get from (466, 270, 425) to (473, 247, 434)! Returned None.\n",
    "# Attempt 60: Error! Couldn't get from (466, 270, 425) to (450, 248, 441)! Returned None."
   ]
  },
  {
   "cell_type": "code",
   "execution_count": 36,
   "metadata": {},
   "outputs": [
    {
     "name": "stdout",
     "output_type": "stream",
     "text": [
      "Edge ((480, 196, 396) -> (455, 223, 420)):\n",
      "  AvgDiameter: 33.46129586968588\n",
      "\n",
      "Edge ((455, 223, 420) -> (454, 223, 419)):\n",
      "  AvgDiameter: 31.12876483254676\n",
      "\n",
      "Edge ((455, 223, 420) -> (452, 229, 425)):\n",
      "  AvgDiameter: 31.817819292921317\n",
      "\n"
     ]
    }
   ],
   "source": [
    "#25 Get the first three edges and their properties as a reality check:\n",
    "\n",
    "first_three_edges = list(digraph.edges(data=True))[:3]\n",
    "# Iterate through the first three edges and print their properties\n",
    "for edge in first_three_edges:\n",
    "    source, target, attributes = edge\n",
    "    print(f\"Edge ({source} -> {target}):\")\n",
    "    for key, value in attributes.items():\n",
    "        print(f\"  {key}: {value}\")\n",
    "    print(\"\")"
   ]
  },
  {
   "cell_type": "code",
   "execution_count": 37,
   "metadata": {},
   "outputs": [],
   "source": [
    "#26 Save the graph and its properties to a file $$$ update filepath\n",
    "nx.write_graphml(digraph, f\"./GraphOutputNate/Case-{CaseNumber}-DiGraph.graphml\")"
   ]
  },
  {
   "cell_type": "code",
   "execution_count": 38,
   "metadata": {},
   "outputs": [
    {
     "name": "stdout",
     "output_type": "stream",
     "text": [
      "Edge: (480, 196, 396) -> (455, 223, 420), Order: 6\n",
      "Edge: (455, 223, 420) -> (454, 223, 419), Order: 1\n",
      "Edge: (455, 223, 420) -> (452, 229, 425), Order: 6\n",
      "Edge: (452, 229, 425) -> (449, 234, 427), Order: 6\n",
      "Edge: (452, 229, 425) -> (456, 231, 431), Order: 1\n",
      "Edge: (449, 234, 427) -> (448, 234, 426), Order: 1\n",
      "Edge: (449, 234, 427) -> (449, 236, 430), Order: 6\n",
      "Edge: (449, 236, 430) -> (450, 236, 431), Order: 1\n",
      "Edge: (449, 236, 430) -> (448, 240, 432), Order: 6\n",
      "Edge: (448, 240, 432) -> (451, 238, 433), Order: 1\n",
      "Edge: (448, 240, 432) -> (447, 245, 434), Order: 6\n",
      "Edge: (447, 245, 434) -> (445, 255, 437), Order: 6\n",
      "Edge: (447, 245, 434) -> (449, 245, 435), Order: 1\n",
      "Edge: (445, 255, 437) -> (354, 284, 407), Order: 5\n",
      "Edge: (445, 255, 437) -> (447, 256, 439), Order: 5\n",
      "Edge: (354, 284, 407) -> (349, 285, 400), Order: 5\n",
      "Edge: (354, 284, 407) -> (314, 276, 439), Order: 4\n",
      "Edge: (349, 285, 400) -> (333, 287, 392), Order: 5\n",
      "Edge: (349, 285, 400) -> (348, 290, 395), Order: 1\n",
      "Edge: (333, 287, 392) -> (293, 281, 386), Order: 5\n",
      "Edge: (333, 287, 392) -> (333, 289, 390), Order: 1\n",
      "Edge: (293, 281, 386) -> (277, 237, 359), Order: 2\n",
      "Edge: (293, 281, 386) -> (283, 282, 387), Order: 5\n",
      "Edge: (277, 237, 359) -> (272, 158, 323), Order: 1\n",
      "Edge: (277, 237, 359) -> (267, 231, 312), Order: 1\n",
      "Edge: (283, 282, 387) -> (249, 249, 381), Order: 2\n",
      "Edge: (283, 282, 387) -> (278, 285, 387), Order: 5\n",
      "Edge: (249, 249, 381) -> (213, 219, 375), Order: 2\n",
      "Edge: (249, 249, 381) -> (240, 212, 355), Order: 1\n",
      "Edge: (213, 219, 375) -> (206, 191, 374), Order: 1\n",
      "Edge: (213, 219, 375) -> (189, 211, 379), Order: 2\n",
      "Edge: (189, 211, 379) -> (177, 203, 373), Order: 1\n",
      "Edge: (189, 211, 379) -> (188, 212, 380), Order: 1\n",
      "Edge: (278, 285, 387) -> (265, 307, 406), Order: 3\n",
      "Edge: (278, 285, 387) -> (254, 297, 374), Order: 5\n",
      "Edge: (265, 307, 406) -> (282, 328, 409), Order: 2\n",
      "Edge: (265, 307, 406) -> (259, 316, 406), Order: 3\n",
      "Edge: (282, 328, 409) -> (272, 403, 449), Order: 1\n",
      "Edge: (282, 328, 409) -> (289, 332, 409), Order: 1\n",
      "Edge: (289, 332, 409) -> (301, 346, 416), Order: 1\n",
      "Edge: (259, 316, 406) -> (275, 357, 401), Order: 2\n",
      "Edge: (259, 316, 406) -> (220, 353, 425), Order: 2\n",
      "Edge: (275, 357, 401) -> (249, 441, 411), Order: 1\n",
      "Edge: (275, 357, 401) -> (288, 368, 389), Order: 1\n",
      "Edge: (220, 353, 425) -> (171, 398, 458), Order: 1\n",
      "Edge: (220, 353, 425) -> (212, 385, 429), Order: 2\n",
      "Edge: (212, 385, 429) -> (191, 416, 424), Order: 2\n",
      "Edge: (212, 385, 429) -> (203, 428, 467), Order: 1\n",
      "Edge: (191, 416, 424) -> (184, 415, 425), Order: 1\n",
      "Edge: (191, 416, 424) -> (190, 422, 424), Order: 1\n",
      "Edge: (254, 297, 374) -> (247, 291, 367), Order: 4\n",
      "Edge: (254, 297, 374) -> (234, 325, 368), Order: 4\n",
      "Edge: (247, 291, 367) -> (246, 292, 366), Order: 4\n",
      "Edge: (247, 291, 367) -> (248, 290, 367), Order: 1\n",
      "Edge: (246, 292, 366) -> (199, 280, 354), Order: 3\n",
      "Edge: (246, 292, 366) -> (259, 299, 339), Order: 3\n",
      "Edge: (199, 280, 354) -> (173, 286, 370), Order: 2\n",
      "Edge: (199, 280, 354) -> (193, 273, 349), Order: 2\n",
      "Edge: (173, 286, 370) -> (158, 289, 368), Order: 1\n",
      "Edge: (173, 286, 370) -> (170, 288, 376), Order: 1\n",
      "Edge: (193, 273, 349) -> (192, 273, 350), Order: 1\n",
      "Edge: (193, 273, 349) -> (191, 271, 347), Order: 2\n",
      "Edge: (191, 271, 347) -> (155, 257, 344), Order: 2\n",
      "Edge: (191, 271, 347) -> (117, 220, 307), Order: 1\n",
      "Edge: (155, 257, 344) -> (147, 248, 344), Order: 1\n",
      "Edge: (155, 257, 344) -> (104, 263, 334), Order: 1\n",
      "Edge: (259, 299, 339) -> (253, 301, 305), Order: 2\n",
      "Edge: (259, 299, 339) -> (304, 337, 297), Order: 2\n",
      "Edge: (253, 301, 305) -> (243, 296, 307), Order: 1\n",
      "Edge: (253, 301, 305) -> (250, 312, 296), Order: 1\n",
      "Edge: (304, 337, 297) -> (319, 339, 270), Order: 1\n",
      "Edge: (304, 337, 297) -> (327, 359, 284), Order: 1\n",
      "Edge: (234, 325, 368) -> (164, 328, 324), Order: 3\n",
      "Edge: (234, 325, 368) -> (229, 351, 360), Order: 4\n",
      "Edge: (164, 328, 324) -> (146, 343, 324), Order: 2\n",
      "Edge: (164, 328, 324) -> (155, 331, 306), Order: 2\n",
      "Edge: (146, 343, 324) -> (95, 333, 317), Order: 1\n",
      "Edge: (146, 343, 324) -> (130, 376, 320), Order: 1\n",
      "Edge: (155, 331, 306) -> (152, 329, 305), Order: 1\n",
      "Edge: (155, 331, 306) -> (115, 353, 277), Order: 1\n",
      "Edge: (229, 351, 360) -> (163, 377, 368), Order: 2\n",
      "Edge: (229, 351, 360) -> (235, 378, 340), Order: 4\n",
      "Edge: (163, 377, 368) -> (139, 394, 360), Order: 1\n",
      "Edge: (163, 377, 368) -> (144, 393, 386), Order: 1\n",
      "Edge: (235, 378, 340) -> (239, 391, 342), Order: 3\n",
      "Edge: (235, 378, 340) -> (239, 407, 294), Order: 3\n",
      "Edge: (239, 391, 342) -> (225, 424, 353), Order: 3\n",
      "Edge: (239, 391, 342) -> (245, 395, 337), Order: 2\n",
      "Edge: (225, 424, 353) -> (208, 440, 351), Order: 3\n",
      "Edge: (225, 424, 353) -> (220, 427, 358), Order: 2\n",
      "Edge: (208, 440, 351) -> (206, 462, 345), Order: 2\n",
      "Edge: (208, 440, 351) -> (205, 438, 351), Order: 2\n",
      "Edge: (206, 462, 345) -> (205, 487, 348), Order: 1\n",
      "Edge: (206, 462, 345) -> (209, 466, 343), Order: 1\n",
      "Edge: (205, 438, 351) -> (195, 430, 355), Order: 1\n",
      "Edge: (205, 438, 351) -> (181, 453, 354), Order: 2\n",
      "Edge: (181, 453, 354) -> (160, 469, 347), Order: 1\n",
      "Edge: (181, 453, 354) -> (176, 455, 360), Order: 1\n",
      "Edge: (220, 427, 358) -> (190, 430, 378), Order: 1\n",
      "Edge: (220, 427, 358) -> (210, 468, 373), Order: 2\n",
      "Edge: (210, 468, 373) -> (191, 474, 377), Order: 1\n",
      "Edge: (210, 468, 373) -> (218, 483, 375), Order: 1\n",
      "Edge: (245, 395, 337) -> (258, 423, 330), Order: 2\n",
      "Edge: (245, 395, 337) -> (283, 438, 340), Order: 1\n",
      "Edge: (258, 423, 330) -> (251, 465, 329), Order: 1\n",
      "Edge: (258, 423, 330) -> (273, 433, 318), Order: 2\n",
      "Edge: (273, 433, 318) -> (279, 449, 305), Order: 1\n",
      "Edge: (273, 433, 318) -> (287, 437, 318), Order: 1\n",
      "Edge: (239, 407, 294) -> (170, 423, 261), Order: 1\n",
      "Edge: (239, 407, 294) -> (220, 424, 292), Order: 2\n",
      "Edge: (239, 407, 294) -> (260, 417, 268), Order: 3\n",
      "Edge: (220, 424, 292) -> (213, 438, 299), Order: 1\n",
      "Edge: (220, 424, 292) -> (214, 424, 289), Order: 2\n",
      "Edge: (214, 424, 289) -> (210, 428, 283), Order: 1\n",
      "Edge: (214, 424, 289) -> (201, 422, 298), Order: 1\n",
      "Edge: (260, 417, 268) -> (283, 416, 258), Order: 1\n",
      "Edge: (260, 417, 268) -> (256, 431, 236), Order: 3\n",
      "Edge: (256, 431, 236) -> (242, 443, 226), Order: 2\n",
      "Edge: (256, 431, 236) -> (260, 427, 230), Order: 2\n",
      "Edge: (242, 443, 226) -> (229, 446, 217), Order: 1\n",
      "Edge: (242, 443, 226) -> (243, 452, 223), Order: 1\n",
      "Edge: (260, 427, 230) -> (261, 420, 229), Order: 1\n",
      "Edge: (260, 427, 230) -> (268, 429, 224), Order: 1\n",
      "Edge: (314, 276, 439) -> (298, 250, 433), Order: 3\n",
      "Edge: (314, 276, 439) -> (305, 282, 464), Order: 4\n",
      "Edge: (298, 250, 433) -> (282, 250, 446), Order: 2\n",
      "Edge: (298, 250, 433) -> (292, 233, 430), Order: 3\n",
      "Edge: (282, 250, 446) -> (221, 231, 463), Order: 2\n",
      "Edge: (282, 250, 446) -> (138, 247, 447), Order: 1\n",
      "Edge: (221, 231, 463) -> (209, 217, 475), Order: 1\n",
      "Edge: (221, 231, 463) -> (203, 239, 475), Order: 1\n",
      "Edge: (292, 233, 430) -> (250, 186, 416), Order: 2\n",
      "Edge: (292, 233, 430) -> (291, 229, 431), Order: 3\n",
      "Edge: (250, 186, 416) -> (216, 168, 424), Order: 1\n",
      "Edge: (250, 186, 416) -> (242, 136, 396), Order: 2\n",
      "Edge: (242, 136, 396) -> (238, 127, 387), Order: 2\n",
      "Edge: (242, 136, 396) -> (237, 96, 396), Order: 1\n",
      "Edge: (238, 127, 387) -> (222, 93, 373), Order: 1\n",
      "Edge: (238, 127, 387) -> (250, 98, 366), Order: 1\n",
      "Edge: (291, 229, 431) -> (280, 202, 451), Order: 2\n",
      "Edge: (291, 229, 431) -> (297, 172, 417), Order: 2\n",
      "Edge: (280, 202, 451) -> (273, 193, 449), Order: 1\n",
      "Edge: (280, 202, 451) -> (280, 175, 476), Order: 1\n",
      "Edge: (297, 172, 417) -> (299, 165, 425), Order: 1\n",
      "Edge: (297, 172, 417) -> (302, 140, 401), Order: 2\n",
      "Edge: (302, 140, 401) -> (301, 129, 392), Order: 1\n",
      "Edge: (302, 140, 401) -> (308, 131, 401), Order: 1\n",
      "Edge: (305, 282, 464) -> (277, 319, 479), Order: 3\n",
      "Edge: (305, 282, 464) -> (297, 282, 499), Order: 3\n",
      "Edge: (277, 319, 479) -> (277, 329, 483), Order: 3\n",
      "Edge: (277, 319, 479) -> (257, 317, 481), Order: 2\n",
      "Edge: (277, 329, 483) -> (243, 368, 505), Order: 3\n",
      "Edge: (277, 329, 483) -> (285, 383, 506), Order: 1\n",
      "Edge: (243, 368, 505) -> (232, 384, 538), Order: 2\n",
      "Edge: (243, 368, 505) -> (235, 378, 505), Order: 2\n",
      "Edge: (232, 384, 538) -> (214, 390, 542), Order: 1\n",
      "Edge: (232, 384, 538) -> (231, 389, 546), Order: 1\n",
      "Edge: (235, 378, 505) -> (199, 390, 506), Order: 1\n",
      "Edge: (235, 378, 505) -> (233, 396, 509), Order: 1\n",
      "Edge: (257, 317, 481) -> (238, 317, 491), Order: 2\n",
      "Edge: (257, 317, 481) -> (129, 306, 485), Order: 1\n",
      "Edge: (238, 317, 491) -> (210, 311, 516), Order: 1\n",
      "Edge: (238, 317, 491) -> (182, 333, 518), Order: 1\n",
      "Edge: (297, 282, 499) -> (202, 266, 538), Order: 1\n",
      "Edge: (297, 282, 499) -> (296, 301, 509), Order: 2\n",
      "Edge: (297, 282, 499) -> (295, 278, 505), Order: 3\n",
      "Edge: (296, 301, 509) -> (268, 331, 570), Order: 1\n",
      "Edge: (296, 301, 509) -> (309, 338, 543), Order: 1\n",
      "Edge: (295, 278, 505) -> (282, 276, 521), Order: 2\n",
      "Edge: (295, 278, 505) -> (297, 258, 521), Order: 2\n",
      "Edge: (282, 276, 521) -> (262, 252, 534), Order: 1\n",
      "Edge: (282, 276, 521) -> (269, 283, 563), Order: 1\n",
      "Edge: (297, 258, 521) -> (292, 239, 528), Order: 1\n",
      "Edge: (297, 258, 521) -> (303, 260, 530), Order: 1\n",
      "Edge: (447, 256, 439) -> (447, 253, 438), Order: 1\n",
      "Edge: (447, 256, 439) -> (457, 248, 442), Order: 1\n",
      "Edge: (447, 256, 439) -> (450, 263, 443), Order: 5\n",
      "Edge: (450, 263, 443) -> (448, 265, 442), Order: 1\n",
      "Edge: (450, 263, 443) -> (467, 338, 446), Order: 5\n",
      "Edge: (467, 338, 446) -> (501, 330, 453), Order: 4\n",
      "Edge: (467, 338, 446) -> (476, 361, 441), Order: 4\n",
      "Edge: (501, 330, 453) -> (542, 312, 443), Order: 3\n",
      "Edge: (501, 330, 453) -> (515, 334, 487), Order: 3\n",
      "Edge: (542, 312, 443) -> (544, 298, 448), Order: 3\n",
      "Edge: (542, 312, 443) -> (562, 305, 439), Order: 2\n",
      "Edge: (544, 298, 448) -> (556, 288, 459), Order: 2\n",
      "Edge: (544, 298, 448) -> (547, 214, 447), Order: 2\n",
      "Edge: (556, 288, 459) -> (602, 252, 475), Order: 1\n",
      "Edge: (556, 288, 459) -> (583, 286, 492), Order: 1\n",
      "Edge: (547, 214, 447) -> (537, 174, 446), Order: 1\n",
      "Edge: (547, 214, 447) -> (558, 208, 451), Order: 1\n",
      "Edge: (562, 305, 439) -> (575, 261, 435), Order: 1\n",
      "Edge: (562, 305, 439) -> (584, 300, 434), Order: 2\n",
      "Edge: (584, 300, 434) -> (601, 315, 446), Order: 1\n",
      "Edge: (584, 300, 434) -> (629, 260, 404), Order: 1\n",
      "Edge: (515, 334, 487) -> (511, 345, 496), Order: 2\n",
      "Edge: (515, 334, 487) -> (516, 332, 492), Order: 3\n",
      "Edge: (511, 345, 496) -> (496, 345, 512), Order: 1\n",
      "Edge: (511, 345, 496) -> (510, 353, 554), Order: 2\n",
      "Edge: (510, 353, 554) -> (499, 364, 574), Order: 1\n",
      "Edge: (510, 353, 554) -> (531, 349, 573), Order: 1\n",
      "Edge: (516, 332, 492) -> (514, 333, 493), Order: 1\n",
      "Edge: (516, 332, 492) -> (516, 330, 498), Order: 3\n",
      "Edge: (516, 330, 498) -> (489, 306, 569), Order: 1\n",
      "Edge: (516, 330, 498) -> (521, 320, 506), Order: 3\n",
      "Edge: (521, 320, 506) -> (524, 287, 511), Order: 3\n",
      "Edge: (521, 320, 506) -> (549, 302, 529), Order: 1\n",
      "Edge: (524, 287, 511) -> (523, 248, 517), Order: 3\n",
      "Edge: (524, 287, 511) -> (531, 280, 539), Order: 1\n",
      "Edge: (523, 248, 517) -> (503, 194, 519), Order: 2\n",
      "Edge: (523, 248, 517) -> (530, 235, 529), Order: 2\n",
      "Edge: (503, 194, 519) -> (496, 204, 501), Order: 1\n",
      "Edge: (503, 194, 519) -> (502, 191, 520), Order: 2\n",
      "Edge: (502, 191, 520) -> (492, 151, 508), Order: 1\n",
      "Edge: (502, 191, 520) -> (493, 179, 543), Order: 1\n",
      "Edge: (530, 235, 529) -> (521, 223, 554), Order: 1\n",
      "Edge: (530, 235, 529) -> (541, 217, 532), Order: 2\n",
      "Edge: (541, 217, 532) -> (547, 190, 530), Order: 1\n",
      "Edge: (541, 217, 532) -> (551, 220, 551), Order: 1\n",
      "Edge: (476, 361, 441) -> (496, 382, 427), Order: 4\n",
      "Edge: (476, 361, 441) -> (509, 377, 479), Order: 3\n",
      "Edge: (496, 382, 427) -> (502, 386, 424), Order: 4\n",
      "Edge: (496, 382, 427) -> (531, 398, 475), Order: 2\n",
      "Edge: (502, 386, 424) -> (509, 405, 421), Order: 3\n",
      "Edge: (502, 386, 424) -> (515, 385, 416), Order: 4\n",
      "Edge: (509, 405, 421) -> (483, 454, 329), Order: 1\n",
      "Edge: (509, 405, 421) -> (513, 410, 420), Order: 3\n",
      "Edge: (513, 410, 420) -> (504, 479, 440), Order: 2\n",
      "Edge: (513, 410, 420) -> (520, 459, 393), Order: 2\n",
      "Edge: (504, 479, 440) -> (504, 492, 464), Order: 1\n",
      "Edge: (504, 479, 440) -> (514, 485, 444), Order: 1\n",
      "Edge: (520, 459, 393) -> (517, 472, 385), Order: 2\n",
      "Edge: (520, 459, 393) -> (543, 470, 399), Order: 1\n",
      "Edge: (517, 472, 385) -> (509, 478, 382), Order: 1\n",
      "Edge: (517, 472, 385) -> (522, 484, 373), Order: 1\n",
      "Edge: (515, 385, 416) -> (524, 387, 405), Order: 3\n",
      "Edge: (515, 385, 416) -> (543, 382, 426), Order: 3\n",
      "Edge: (524, 387, 405) -> (548, 396, 349), Order: 3\n",
      "Edge: (524, 387, 405) -> (572, 348, 382), Order: 2\n",
      "Edge: (548, 396, 349) -> (549, 398, 343), Order: 3\n",
      "Edge: (548, 396, 349) -> (602, 436, 374), Order: 1\n",
      "Edge: (549, 398, 343) -> (550, 413, 327), Order: 2\n",
      "Edge: (549, 398, 343) -> (552, 392, 337), Order: 3\n",
      "Edge: (550, 413, 327) -> (556, 437, 337), Order: 1\n",
      "Edge: (550, 413, 327) -> (547, 436, 284), Order: 2\n",
      "Edge: (547, 436, 284) -> (545, 436, 275), Order: 2\n",
      "Edge: (547, 436, 284) -> (561, 483, 284), Order: 1\n",
      "Edge: (545, 436, 275) -> (617, 465, 187), Order: 1\n",
      "Edge: (545, 436, 275) -> (542, 442, 265), Order: 2\n",
      "Edge: (542, 442, 265) -> (556, 475, 253), Order: 1\n",
      "Edge: (542, 442, 265) -> (540, 443, 264), Order: 2\n",
      "Edge: (540, 443, 264) -> (508, 464, 223), Order: 1\n",
      "Edge: (540, 443, 264) -> (537, 444, 253), Order: 2\n",
      "Edge: (537, 444, 253) -> (534, 447, 247), Order: 2\n",
      "Edge: (537, 444, 253) -> (561, 461, 195), Order: 1\n",
      "Edge: (534, 447, 247) -> (525, 447, 170), Order: 1\n",
      "Edge: (534, 447, 247) -> (538, 493, 227), Order: 1\n",
      "Edge: (552, 392, 337) -> (558, 379, 262), Order: 1\n",
      "Edge: (552, 392, 337) -> (567, 396, 320), Order: 3\n",
      "Edge: (567, 396, 320) -> (578, 395, 306), Order: 2\n",
      "Edge: (567, 396, 320) -> (584, 416, 323), Order: 2\n",
      "Edge: (578, 395, 306) -> (649, 405, 228), Order: 1\n",
      "Edge: (578, 395, 306) -> (615, 368, 290), Order: 2\n",
      "Edge: (615, 368, 290) -> (641, 348, 267), Order: 1\n",
      "Edge: (615, 368, 290) -> (649, 366, 299), Order: 1\n",
      "Edge: (584, 416, 323) -> (614, 460, 292), Order: 1\n",
      "Edge: (584, 416, 323) -> (626, 433, 332), Order: 1\n",
      "Edge: (572, 348, 382) -> (627, 349, 382), Order: 1\n",
      "Edge: (572, 348, 382) -> (638, 267, 350), Order: 1\n",
      "Edge: (543, 382, 426) -> (578, 390, 432), Order: 2\n",
      "Edge: (543, 382, 426) -> (581, 374, 465), Order: 2\n",
      "Edge: (578, 390, 432) -> (589, 424, 450), Order: 1\n",
      "Edge: (578, 390, 432) -> (616, 403, 422), Order: 1\n",
      "Edge: (581, 374, 465) -> (599, 389, 488), Order: 2\n",
      "Edge: (581, 374, 465) -> (604, 361, 491), Order: 1\n",
      "Edge: (599, 389, 488) -> (611, 403, 508), Order: 1\n",
      "Edge: (599, 389, 488) -> (629, 393, 484), Order: 1\n",
      "Edge: (531, 398, 475) -> (533, 417, 472), Order: 1\n",
      "Edge: (531, 398, 475) -> (540, 403, 485), Order: 1\n",
      "Edge: (509, 377, 479) -> (502, 388, 488), Order: 2\n",
      "Edge: (509, 377, 479) -> (514, 376, 481), Order: 2\n",
      "Edge: (502, 388, 488) -> (502, 414, 493), Order: 1\n",
      "Edge: (502, 388, 488) -> (478, 410, 534), Order: 1\n",
      "Edge: (514, 376, 481) -> (559, 361, 533), Order: 1\n",
      "Edge: (514, 376, 481) -> (517, 397, 509), Order: 2\n",
      "Edge: (517, 397, 509) -> (519, 430, 520), Order: 1\n",
      "Edge: (517, 397, 509) -> (526, 403, 532), Order: 2\n",
      "Edge: (526, 403, 532) -> (523, 416, 571), Order: 1\n",
      "Edge: (526, 403, 532) -> (557, 420, 557), Order: 1\n"
     ]
    }
   ],
   "source": [
    "#27 Strahler Analysis: Using DiGraphs: *\n",
    "\n",
    "import networkx as nx\n",
    "\n",
    "def StrahlerAnalysis(G): # G: The Tree DiGraph. Returns the edges.\n",
    "    \n",
    "    # Find the terminal edges (edges with no successors)\n",
    "    terminal_edges = [edge for edge in G.edges() if not any(G.successors(edge[1]))]\n",
    "    # Initialize the order for terminal edges as 1\n",
    "    for edge in G.edges():\n",
    "        if edge in terminal_edges: G[edge[0]][edge[1]]['order'] = 1\n",
    "        else: G[edge[0]][edge[1]]['order'] = 0\n",
    "\n",
    "    # Perform Strahler analysis starting from terminal edges\n",
    "    while True:\n",
    "\n",
    "        # Find all edges with the same order\n",
    "        edges_by_order = {}\n",
    "        for edge in G.edges():\n",
    "            order = G[edge[0]][edge[1]].get('order', 0)\n",
    "            if order not in edges_by_order:\n",
    "                edges_by_order[order] = []\n",
    "            edges_by_order[order].append(edge)\n",
    "\n",
    "        # If no more order 0, break\n",
    "        if 0 not in edges_by_order: break\n",
    "\n",
    "        # Only process edges with order = 0\n",
    "        for edge in edges_by_order[0]:\n",
    "            successors = list(G.successors(edge[1]))\n",
    "            SuccessorOrders = [G[edge[1]][successor]['order'] for successor in successors]\n",
    "            if not all(SuccessorOrders): continue # If any successor order is 0, skip to next edge\n",
    "            if len(successors) == 1: # If only one successor, inherit its order\n",
    "                G[edge[0]][edge[1]]['order'] = G[edge[1]][successors[0]]['order']\n",
    "            else: # So it's a bifurcation\n",
    "                MaxOrder = max(SuccessorOrders)\n",
    "                BinaryComparison = [int(ordr == MaxOrder) for ordr in SuccessorOrders]\n",
    "                # If more than 2 of the max then increment order\n",
    "                if sum(BinaryComparison)>=2: NextOrder = MaxOrder + 1\n",
    "                else: NextOrder = MaxOrder\n",
    "                G[edge[0]][edge[1]]['order'] = NextOrder\n",
    "\n",
    "    return G.edges(data=True)\n",
    "\n",
    "# Main:\n",
    "edgesresult = StrahlerAnalysis(digraph)\n",
    "for edge in edgesresult:\n",
    "    print(f\"Edge: {edge[0]} -> {edge[1]}, Order: {edge[2]['order']}\")"
   ]
  },
  {
   "cell_type": "code",
   "execution_count": 39,
   "metadata": {},
   "outputs": [
    {
     "data": {
      "application/vnd.plotly.v1+json": {
       "config": {
        "plotlyServerURL": "https://plot.ly"
       },
       "data": [
        {
         "hoverinfo": "none",
         "line": {
          "color": "blue",
          "width": 2
         },
         "mode": "lines+text",
         "text": "6",
         "textposition": "top left",
         "type": "scatter3d",
         "x": [
          480,
          455
         ],
         "y": [
          196,
          223
         ],
         "z": [
          396,
          420
         ]
        },
        {
         "hoverinfo": "none",
         "line": {
          "color": "blue",
          "width": 2
         },
         "mode": "lines+text",
         "text": "1",
         "textposition": "top left",
         "type": "scatter3d",
         "x": [
          455,
          454
         ],
         "y": [
          223,
          223
         ],
         "z": [
          420,
          419
         ]
        },
        {
         "hoverinfo": "none",
         "line": {
          "color": "blue",
          "width": 2
         },
         "mode": "lines+text",
         "text": "6",
         "textposition": "top left",
         "type": "scatter3d",
         "x": [
          455,
          452
         ],
         "y": [
          223,
          229
         ],
         "z": [
          420,
          425
         ]
        },
        {
         "hoverinfo": "none",
         "line": {
          "color": "blue",
          "width": 2
         },
         "mode": "lines+text",
         "text": "6",
         "textposition": "top left",
         "type": "scatter3d",
         "x": [
          452,
          449
         ],
         "y": [
          229,
          234
         ],
         "z": [
          425,
          427
         ]
        },
        {
         "hoverinfo": "none",
         "line": {
          "color": "blue",
          "width": 2
         },
         "mode": "lines+text",
         "text": "1",
         "textposition": "top left",
         "type": "scatter3d",
         "x": [
          452,
          456
         ],
         "y": [
          229,
          231
         ],
         "z": [
          425,
          431
         ]
        },
        {
         "hoverinfo": "none",
         "line": {
          "color": "blue",
          "width": 2
         },
         "mode": "lines+text",
         "text": "1",
         "textposition": "top left",
         "type": "scatter3d",
         "x": [
          449,
          448
         ],
         "y": [
          234,
          234
         ],
         "z": [
          427,
          426
         ]
        },
        {
         "hoverinfo": "none",
         "line": {
          "color": "blue",
          "width": 2
         },
         "mode": "lines+text",
         "text": "6",
         "textposition": "top left",
         "type": "scatter3d",
         "x": [
          449,
          449
         ],
         "y": [
          234,
          236
         ],
         "z": [
          427,
          430
         ]
        },
        {
         "hoverinfo": "none",
         "line": {
          "color": "blue",
          "width": 2
         },
         "mode": "lines+text",
         "text": "1",
         "textposition": "top left",
         "type": "scatter3d",
         "x": [
          449,
          450
         ],
         "y": [
          236,
          236
         ],
         "z": [
          430,
          431
         ]
        },
        {
         "hoverinfo": "none",
         "line": {
          "color": "blue",
          "width": 2
         },
         "mode": "lines+text",
         "text": "6",
         "textposition": "top left",
         "type": "scatter3d",
         "x": [
          449,
          448
         ],
         "y": [
          236,
          240
         ],
         "z": [
          430,
          432
         ]
        },
        {
         "hoverinfo": "none",
         "line": {
          "color": "blue",
          "width": 2
         },
         "mode": "lines+text",
         "text": "1",
         "textposition": "top left",
         "type": "scatter3d",
         "x": [
          448,
          451
         ],
         "y": [
          240,
          238
         ],
         "z": [
          432,
          433
         ]
        },
        {
         "hoverinfo": "none",
         "line": {
          "color": "blue",
          "width": 2
         },
         "mode": "lines+text",
         "text": "6",
         "textposition": "top left",
         "type": "scatter3d",
         "x": [
          448,
          447
         ],
         "y": [
          240,
          245
         ],
         "z": [
          432,
          434
         ]
        },
        {
         "hoverinfo": "none",
         "line": {
          "color": "blue",
          "width": 2
         },
         "mode": "lines+text",
         "text": "6",
         "textposition": "top left",
         "type": "scatter3d",
         "x": [
          447,
          445
         ],
         "y": [
          245,
          255
         ],
         "z": [
          434,
          437
         ]
        },
        {
         "hoverinfo": "none",
         "line": {
          "color": "blue",
          "width": 2
         },
         "mode": "lines+text",
         "text": "1",
         "textposition": "top left",
         "type": "scatter3d",
         "x": [
          447,
          449
         ],
         "y": [
          245,
          245
         ],
         "z": [
          434,
          435
         ]
        },
        {
         "hoverinfo": "none",
         "line": {
          "color": "blue",
          "width": 2
         },
         "mode": "lines+text",
         "text": "5",
         "textposition": "top left",
         "type": "scatter3d",
         "x": [
          445,
          354
         ],
         "y": [
          255,
          284
         ],
         "z": [
          437,
          407
         ]
        },
        {
         "hoverinfo": "none",
         "line": {
          "color": "blue",
          "width": 2
         },
         "mode": "lines+text",
         "text": "5",
         "textposition": "top left",
         "type": "scatter3d",
         "x": [
          445,
          447
         ],
         "y": [
          255,
          256
         ],
         "z": [
          437,
          439
         ]
        },
        {
         "hoverinfo": "none",
         "line": {
          "color": "blue",
          "width": 2
         },
         "mode": "lines+text",
         "text": "5",
         "textposition": "top left",
         "type": "scatter3d",
         "x": [
          354,
          349
         ],
         "y": [
          284,
          285
         ],
         "z": [
          407,
          400
         ]
        },
        {
         "hoverinfo": "none",
         "line": {
          "color": "blue",
          "width": 2
         },
         "mode": "lines+text",
         "text": "4",
         "textposition": "top left",
         "type": "scatter3d",
         "x": [
          354,
          314
         ],
         "y": [
          284,
          276
         ],
         "z": [
          407,
          439
         ]
        },
        {
         "hoverinfo": "none",
         "line": {
          "color": "blue",
          "width": 2
         },
         "mode": "lines+text",
         "text": "5",
         "textposition": "top left",
         "type": "scatter3d",
         "x": [
          349,
          333
         ],
         "y": [
          285,
          287
         ],
         "z": [
          400,
          392
         ]
        },
        {
         "hoverinfo": "none",
         "line": {
          "color": "blue",
          "width": 2
         },
         "mode": "lines+text",
         "text": "1",
         "textposition": "top left",
         "type": "scatter3d",
         "x": [
          349,
          348
         ],
         "y": [
          285,
          290
         ],
         "z": [
          400,
          395
         ]
        },
        {
         "hoverinfo": "none",
         "line": {
          "color": "blue",
          "width": 2
         },
         "mode": "lines+text",
         "text": "5",
         "textposition": "top left",
         "type": "scatter3d",
         "x": [
          333,
          293
         ],
         "y": [
          287,
          281
         ],
         "z": [
          392,
          386
         ]
        },
        {
         "hoverinfo": "none",
         "line": {
          "color": "blue",
          "width": 2
         },
         "mode": "lines+text",
         "text": "1",
         "textposition": "top left",
         "type": "scatter3d",
         "x": [
          333,
          333
         ],
         "y": [
          287,
          289
         ],
         "z": [
          392,
          390
         ]
        },
        {
         "hoverinfo": "none",
         "line": {
          "color": "blue",
          "width": 2
         },
         "mode": "lines+text",
         "text": "2",
         "textposition": "top left",
         "type": "scatter3d",
         "x": [
          293,
          277
         ],
         "y": [
          281,
          237
         ],
         "z": [
          386,
          359
         ]
        },
        {
         "hoverinfo": "none",
         "line": {
          "color": "blue",
          "width": 2
         },
         "mode": "lines+text",
         "text": "5",
         "textposition": "top left",
         "type": "scatter3d",
         "x": [
          293,
          283
         ],
         "y": [
          281,
          282
         ],
         "z": [
          386,
          387
         ]
        },
        {
         "hoverinfo": "none",
         "line": {
          "color": "blue",
          "width": 2
         },
         "mode": "lines+text",
         "text": "1",
         "textposition": "top left",
         "type": "scatter3d",
         "x": [
          277,
          272
         ],
         "y": [
          237,
          158
         ],
         "z": [
          359,
          323
         ]
        },
        {
         "hoverinfo": "none",
         "line": {
          "color": "blue",
          "width": 2
         },
         "mode": "lines+text",
         "text": "1",
         "textposition": "top left",
         "type": "scatter3d",
         "x": [
          277,
          267
         ],
         "y": [
          237,
          231
         ],
         "z": [
          359,
          312
         ]
        },
        {
         "hoverinfo": "none",
         "line": {
          "color": "blue",
          "width": 2
         },
         "mode": "lines+text",
         "text": "2",
         "textposition": "top left",
         "type": "scatter3d",
         "x": [
          283,
          249
         ],
         "y": [
          282,
          249
         ],
         "z": [
          387,
          381
         ]
        },
        {
         "hoverinfo": "none",
         "line": {
          "color": "blue",
          "width": 2
         },
         "mode": "lines+text",
         "text": "5",
         "textposition": "top left",
         "type": "scatter3d",
         "x": [
          283,
          278
         ],
         "y": [
          282,
          285
         ],
         "z": [
          387,
          387
         ]
        },
        {
         "hoverinfo": "none",
         "line": {
          "color": "blue",
          "width": 2
         },
         "mode": "lines+text",
         "text": "2",
         "textposition": "top left",
         "type": "scatter3d",
         "x": [
          249,
          213
         ],
         "y": [
          249,
          219
         ],
         "z": [
          381,
          375
         ]
        },
        {
         "hoverinfo": "none",
         "line": {
          "color": "blue",
          "width": 2
         },
         "mode": "lines+text",
         "text": "1",
         "textposition": "top left",
         "type": "scatter3d",
         "x": [
          249,
          240
         ],
         "y": [
          249,
          212
         ],
         "z": [
          381,
          355
         ]
        },
        {
         "hoverinfo": "none",
         "line": {
          "color": "blue",
          "width": 2
         },
         "mode": "lines+text",
         "text": "1",
         "textposition": "top left",
         "type": "scatter3d",
         "x": [
          213,
          206
         ],
         "y": [
          219,
          191
         ],
         "z": [
          375,
          374
         ]
        },
        {
         "hoverinfo": "none",
         "line": {
          "color": "blue",
          "width": 2
         },
         "mode": "lines+text",
         "text": "2",
         "textposition": "top left",
         "type": "scatter3d",
         "x": [
          213,
          189
         ],
         "y": [
          219,
          211
         ],
         "z": [
          375,
          379
         ]
        },
        {
         "hoverinfo": "none",
         "line": {
          "color": "blue",
          "width": 2
         },
         "mode": "lines+text",
         "text": "1",
         "textposition": "top left",
         "type": "scatter3d",
         "x": [
          189,
          177
         ],
         "y": [
          211,
          203
         ],
         "z": [
          379,
          373
         ]
        },
        {
         "hoverinfo": "none",
         "line": {
          "color": "blue",
          "width": 2
         },
         "mode": "lines+text",
         "text": "1",
         "textposition": "top left",
         "type": "scatter3d",
         "x": [
          189,
          188
         ],
         "y": [
          211,
          212
         ],
         "z": [
          379,
          380
         ]
        },
        {
         "hoverinfo": "none",
         "line": {
          "color": "blue",
          "width": 2
         },
         "mode": "lines+text",
         "text": "3",
         "textposition": "top left",
         "type": "scatter3d",
         "x": [
          278,
          265
         ],
         "y": [
          285,
          307
         ],
         "z": [
          387,
          406
         ]
        },
        {
         "hoverinfo": "none",
         "line": {
          "color": "blue",
          "width": 2
         },
         "mode": "lines+text",
         "text": "5",
         "textposition": "top left",
         "type": "scatter3d",
         "x": [
          278,
          254
         ],
         "y": [
          285,
          297
         ],
         "z": [
          387,
          374
         ]
        },
        {
         "hoverinfo": "none",
         "line": {
          "color": "blue",
          "width": 2
         },
         "mode": "lines+text",
         "text": "2",
         "textposition": "top left",
         "type": "scatter3d",
         "x": [
          265,
          282
         ],
         "y": [
          307,
          328
         ],
         "z": [
          406,
          409
         ]
        },
        {
         "hoverinfo": "none",
         "line": {
          "color": "blue",
          "width": 2
         },
         "mode": "lines+text",
         "text": "3",
         "textposition": "top left",
         "type": "scatter3d",
         "x": [
          265,
          259
         ],
         "y": [
          307,
          316
         ],
         "z": [
          406,
          406
         ]
        },
        {
         "hoverinfo": "none",
         "line": {
          "color": "blue",
          "width": 2
         },
         "mode": "lines+text",
         "text": "1",
         "textposition": "top left",
         "type": "scatter3d",
         "x": [
          282,
          272
         ],
         "y": [
          328,
          403
         ],
         "z": [
          409,
          449
         ]
        },
        {
         "hoverinfo": "none",
         "line": {
          "color": "blue",
          "width": 2
         },
         "mode": "lines+text",
         "text": "1",
         "textposition": "top left",
         "type": "scatter3d",
         "x": [
          282,
          289
         ],
         "y": [
          328,
          332
         ],
         "z": [
          409,
          409
         ]
        },
        {
         "hoverinfo": "none",
         "line": {
          "color": "blue",
          "width": 2
         },
         "mode": "lines+text",
         "text": "1",
         "textposition": "top left",
         "type": "scatter3d",
         "x": [
          289,
          301
         ],
         "y": [
          332,
          346
         ],
         "z": [
          409,
          416
         ]
        },
        {
         "hoverinfo": "none",
         "line": {
          "color": "blue",
          "width": 2
         },
         "mode": "lines+text",
         "text": "2",
         "textposition": "top left",
         "type": "scatter3d",
         "x": [
          259,
          275
         ],
         "y": [
          316,
          357
         ],
         "z": [
          406,
          401
         ]
        },
        {
         "hoverinfo": "none",
         "line": {
          "color": "blue",
          "width": 2
         },
         "mode": "lines+text",
         "text": "2",
         "textposition": "top left",
         "type": "scatter3d",
         "x": [
          259,
          220
         ],
         "y": [
          316,
          353
         ],
         "z": [
          406,
          425
         ]
        },
        {
         "hoverinfo": "none",
         "line": {
          "color": "blue",
          "width": 2
         },
         "mode": "lines+text",
         "text": "1",
         "textposition": "top left",
         "type": "scatter3d",
         "x": [
          275,
          249
         ],
         "y": [
          357,
          441
         ],
         "z": [
          401,
          411
         ]
        },
        {
         "hoverinfo": "none",
         "line": {
          "color": "blue",
          "width": 2
         },
         "mode": "lines+text",
         "text": "1",
         "textposition": "top left",
         "type": "scatter3d",
         "x": [
          275,
          288
         ],
         "y": [
          357,
          368
         ],
         "z": [
          401,
          389
         ]
        },
        {
         "hoverinfo": "none",
         "line": {
          "color": "blue",
          "width": 2
         },
         "mode": "lines+text",
         "text": "1",
         "textposition": "top left",
         "type": "scatter3d",
         "x": [
          220,
          171
         ],
         "y": [
          353,
          398
         ],
         "z": [
          425,
          458
         ]
        },
        {
         "hoverinfo": "none",
         "line": {
          "color": "blue",
          "width": 2
         },
         "mode": "lines+text",
         "text": "2",
         "textposition": "top left",
         "type": "scatter3d",
         "x": [
          220,
          212
         ],
         "y": [
          353,
          385
         ],
         "z": [
          425,
          429
         ]
        },
        {
         "hoverinfo": "none",
         "line": {
          "color": "blue",
          "width": 2
         },
         "mode": "lines+text",
         "text": "2",
         "textposition": "top left",
         "type": "scatter3d",
         "x": [
          212,
          191
         ],
         "y": [
          385,
          416
         ],
         "z": [
          429,
          424
         ]
        },
        {
         "hoverinfo": "none",
         "line": {
          "color": "blue",
          "width": 2
         },
         "mode": "lines+text",
         "text": "1",
         "textposition": "top left",
         "type": "scatter3d",
         "x": [
          212,
          203
         ],
         "y": [
          385,
          428
         ],
         "z": [
          429,
          467
         ]
        },
        {
         "hoverinfo": "none",
         "line": {
          "color": "blue",
          "width": 2
         },
         "mode": "lines+text",
         "text": "1",
         "textposition": "top left",
         "type": "scatter3d",
         "x": [
          191,
          184
         ],
         "y": [
          416,
          415
         ],
         "z": [
          424,
          425
         ]
        },
        {
         "hoverinfo": "none",
         "line": {
          "color": "blue",
          "width": 2
         },
         "mode": "lines+text",
         "text": "1",
         "textposition": "top left",
         "type": "scatter3d",
         "x": [
          191,
          190
         ],
         "y": [
          416,
          422
         ],
         "z": [
          424,
          424
         ]
        },
        {
         "hoverinfo": "none",
         "line": {
          "color": "blue",
          "width": 2
         },
         "mode": "lines+text",
         "text": "4",
         "textposition": "top left",
         "type": "scatter3d",
         "x": [
          254,
          247
         ],
         "y": [
          297,
          291
         ],
         "z": [
          374,
          367
         ]
        },
        {
         "hoverinfo": "none",
         "line": {
          "color": "blue",
          "width": 2
         },
         "mode": "lines+text",
         "text": "4",
         "textposition": "top left",
         "type": "scatter3d",
         "x": [
          254,
          234
         ],
         "y": [
          297,
          325
         ],
         "z": [
          374,
          368
         ]
        },
        {
         "hoverinfo": "none",
         "line": {
          "color": "blue",
          "width": 2
         },
         "mode": "lines+text",
         "text": "4",
         "textposition": "top left",
         "type": "scatter3d",
         "x": [
          247,
          246
         ],
         "y": [
          291,
          292
         ],
         "z": [
          367,
          366
         ]
        },
        {
         "hoverinfo": "none",
         "line": {
          "color": "blue",
          "width": 2
         },
         "mode": "lines+text",
         "text": "1",
         "textposition": "top left",
         "type": "scatter3d",
         "x": [
          247,
          248
         ],
         "y": [
          291,
          290
         ],
         "z": [
          367,
          367
         ]
        },
        {
         "hoverinfo": "none",
         "line": {
          "color": "blue",
          "width": 2
         },
         "mode": "lines+text",
         "text": "3",
         "textposition": "top left",
         "type": "scatter3d",
         "x": [
          246,
          199
         ],
         "y": [
          292,
          280
         ],
         "z": [
          366,
          354
         ]
        },
        {
         "hoverinfo": "none",
         "line": {
          "color": "blue",
          "width": 2
         },
         "mode": "lines+text",
         "text": "3",
         "textposition": "top left",
         "type": "scatter3d",
         "x": [
          246,
          259
         ],
         "y": [
          292,
          299
         ],
         "z": [
          366,
          339
         ]
        },
        {
         "hoverinfo": "none",
         "line": {
          "color": "blue",
          "width": 2
         },
         "mode": "lines+text",
         "text": "2",
         "textposition": "top left",
         "type": "scatter3d",
         "x": [
          199,
          173
         ],
         "y": [
          280,
          286
         ],
         "z": [
          354,
          370
         ]
        },
        {
         "hoverinfo": "none",
         "line": {
          "color": "blue",
          "width": 2
         },
         "mode": "lines+text",
         "text": "2",
         "textposition": "top left",
         "type": "scatter3d",
         "x": [
          199,
          193
         ],
         "y": [
          280,
          273
         ],
         "z": [
          354,
          349
         ]
        },
        {
         "hoverinfo": "none",
         "line": {
          "color": "blue",
          "width": 2
         },
         "mode": "lines+text",
         "text": "1",
         "textposition": "top left",
         "type": "scatter3d",
         "x": [
          173,
          158
         ],
         "y": [
          286,
          289
         ],
         "z": [
          370,
          368
         ]
        },
        {
         "hoverinfo": "none",
         "line": {
          "color": "blue",
          "width": 2
         },
         "mode": "lines+text",
         "text": "1",
         "textposition": "top left",
         "type": "scatter3d",
         "x": [
          173,
          170
         ],
         "y": [
          286,
          288
         ],
         "z": [
          370,
          376
         ]
        },
        {
         "hoverinfo": "none",
         "line": {
          "color": "blue",
          "width": 2
         },
         "mode": "lines+text",
         "text": "1",
         "textposition": "top left",
         "type": "scatter3d",
         "x": [
          193,
          192
         ],
         "y": [
          273,
          273
         ],
         "z": [
          349,
          350
         ]
        },
        {
         "hoverinfo": "none",
         "line": {
          "color": "blue",
          "width": 2
         },
         "mode": "lines+text",
         "text": "2",
         "textposition": "top left",
         "type": "scatter3d",
         "x": [
          193,
          191
         ],
         "y": [
          273,
          271
         ],
         "z": [
          349,
          347
         ]
        },
        {
         "hoverinfo": "none",
         "line": {
          "color": "blue",
          "width": 2
         },
         "mode": "lines+text",
         "text": "2",
         "textposition": "top left",
         "type": "scatter3d",
         "x": [
          191,
          155
         ],
         "y": [
          271,
          257
         ],
         "z": [
          347,
          344
         ]
        },
        {
         "hoverinfo": "none",
         "line": {
          "color": "blue",
          "width": 2
         },
         "mode": "lines+text",
         "text": "1",
         "textposition": "top left",
         "type": "scatter3d",
         "x": [
          191,
          117
         ],
         "y": [
          271,
          220
         ],
         "z": [
          347,
          307
         ]
        },
        {
         "hoverinfo": "none",
         "line": {
          "color": "blue",
          "width": 2
         },
         "mode": "lines+text",
         "text": "1",
         "textposition": "top left",
         "type": "scatter3d",
         "x": [
          155,
          147
         ],
         "y": [
          257,
          248
         ],
         "z": [
          344,
          344
         ]
        },
        {
         "hoverinfo": "none",
         "line": {
          "color": "blue",
          "width": 2
         },
         "mode": "lines+text",
         "text": "1",
         "textposition": "top left",
         "type": "scatter3d",
         "x": [
          155,
          104
         ],
         "y": [
          257,
          263
         ],
         "z": [
          344,
          334
         ]
        },
        {
         "hoverinfo": "none",
         "line": {
          "color": "blue",
          "width": 2
         },
         "mode": "lines+text",
         "text": "2",
         "textposition": "top left",
         "type": "scatter3d",
         "x": [
          259,
          253
         ],
         "y": [
          299,
          301
         ],
         "z": [
          339,
          305
         ]
        },
        {
         "hoverinfo": "none",
         "line": {
          "color": "blue",
          "width": 2
         },
         "mode": "lines+text",
         "text": "2",
         "textposition": "top left",
         "type": "scatter3d",
         "x": [
          259,
          304
         ],
         "y": [
          299,
          337
         ],
         "z": [
          339,
          297
         ]
        },
        {
         "hoverinfo": "none",
         "line": {
          "color": "blue",
          "width": 2
         },
         "mode": "lines+text",
         "text": "1",
         "textposition": "top left",
         "type": "scatter3d",
         "x": [
          253,
          243
         ],
         "y": [
          301,
          296
         ],
         "z": [
          305,
          307
         ]
        },
        {
         "hoverinfo": "none",
         "line": {
          "color": "blue",
          "width": 2
         },
         "mode": "lines+text",
         "text": "1",
         "textposition": "top left",
         "type": "scatter3d",
         "x": [
          253,
          250
         ],
         "y": [
          301,
          312
         ],
         "z": [
          305,
          296
         ]
        },
        {
         "hoverinfo": "none",
         "line": {
          "color": "blue",
          "width": 2
         },
         "mode": "lines+text",
         "text": "1",
         "textposition": "top left",
         "type": "scatter3d",
         "x": [
          304,
          319
         ],
         "y": [
          337,
          339
         ],
         "z": [
          297,
          270
         ]
        },
        {
         "hoverinfo": "none",
         "line": {
          "color": "blue",
          "width": 2
         },
         "mode": "lines+text",
         "text": "1",
         "textposition": "top left",
         "type": "scatter3d",
         "x": [
          304,
          327
         ],
         "y": [
          337,
          359
         ],
         "z": [
          297,
          284
         ]
        },
        {
         "hoverinfo": "none",
         "line": {
          "color": "blue",
          "width": 2
         },
         "mode": "lines+text",
         "text": "3",
         "textposition": "top left",
         "type": "scatter3d",
         "x": [
          234,
          164
         ],
         "y": [
          325,
          328
         ],
         "z": [
          368,
          324
         ]
        },
        {
         "hoverinfo": "none",
         "line": {
          "color": "blue",
          "width": 2
         },
         "mode": "lines+text",
         "text": "4",
         "textposition": "top left",
         "type": "scatter3d",
         "x": [
          234,
          229
         ],
         "y": [
          325,
          351
         ],
         "z": [
          368,
          360
         ]
        },
        {
         "hoverinfo": "none",
         "line": {
          "color": "blue",
          "width": 2
         },
         "mode": "lines+text",
         "text": "2",
         "textposition": "top left",
         "type": "scatter3d",
         "x": [
          164,
          146
         ],
         "y": [
          328,
          343
         ],
         "z": [
          324,
          324
         ]
        },
        {
         "hoverinfo": "none",
         "line": {
          "color": "blue",
          "width": 2
         },
         "mode": "lines+text",
         "text": "2",
         "textposition": "top left",
         "type": "scatter3d",
         "x": [
          164,
          155
         ],
         "y": [
          328,
          331
         ],
         "z": [
          324,
          306
         ]
        },
        {
         "hoverinfo": "none",
         "line": {
          "color": "blue",
          "width": 2
         },
         "mode": "lines+text",
         "text": "1",
         "textposition": "top left",
         "type": "scatter3d",
         "x": [
          146,
          95
         ],
         "y": [
          343,
          333
         ],
         "z": [
          324,
          317
         ]
        },
        {
         "hoverinfo": "none",
         "line": {
          "color": "blue",
          "width": 2
         },
         "mode": "lines+text",
         "text": "1",
         "textposition": "top left",
         "type": "scatter3d",
         "x": [
          146,
          130
         ],
         "y": [
          343,
          376
         ],
         "z": [
          324,
          320
         ]
        },
        {
         "hoverinfo": "none",
         "line": {
          "color": "blue",
          "width": 2
         },
         "mode": "lines+text",
         "text": "1",
         "textposition": "top left",
         "type": "scatter3d",
         "x": [
          155,
          152
         ],
         "y": [
          331,
          329
         ],
         "z": [
          306,
          305
         ]
        },
        {
         "hoverinfo": "none",
         "line": {
          "color": "blue",
          "width": 2
         },
         "mode": "lines+text",
         "text": "1",
         "textposition": "top left",
         "type": "scatter3d",
         "x": [
          155,
          115
         ],
         "y": [
          331,
          353
         ],
         "z": [
          306,
          277
         ]
        },
        {
         "hoverinfo": "none",
         "line": {
          "color": "blue",
          "width": 2
         },
         "mode": "lines+text",
         "text": "2",
         "textposition": "top left",
         "type": "scatter3d",
         "x": [
          229,
          163
         ],
         "y": [
          351,
          377
         ],
         "z": [
          360,
          368
         ]
        },
        {
         "hoverinfo": "none",
         "line": {
          "color": "blue",
          "width": 2
         },
         "mode": "lines+text",
         "text": "4",
         "textposition": "top left",
         "type": "scatter3d",
         "x": [
          229,
          235
         ],
         "y": [
          351,
          378
         ],
         "z": [
          360,
          340
         ]
        },
        {
         "hoverinfo": "none",
         "line": {
          "color": "blue",
          "width": 2
         },
         "mode": "lines+text",
         "text": "1",
         "textposition": "top left",
         "type": "scatter3d",
         "x": [
          163,
          139
         ],
         "y": [
          377,
          394
         ],
         "z": [
          368,
          360
         ]
        },
        {
         "hoverinfo": "none",
         "line": {
          "color": "blue",
          "width": 2
         },
         "mode": "lines+text",
         "text": "1",
         "textposition": "top left",
         "type": "scatter3d",
         "x": [
          163,
          144
         ],
         "y": [
          377,
          393
         ],
         "z": [
          368,
          386
         ]
        },
        {
         "hoverinfo": "none",
         "line": {
          "color": "blue",
          "width": 2
         },
         "mode": "lines+text",
         "text": "3",
         "textposition": "top left",
         "type": "scatter3d",
         "x": [
          235,
          239
         ],
         "y": [
          378,
          391
         ],
         "z": [
          340,
          342
         ]
        },
        {
         "hoverinfo": "none",
         "line": {
          "color": "blue",
          "width": 2
         },
         "mode": "lines+text",
         "text": "3",
         "textposition": "top left",
         "type": "scatter3d",
         "x": [
          235,
          239
         ],
         "y": [
          378,
          407
         ],
         "z": [
          340,
          294
         ]
        },
        {
         "hoverinfo": "none",
         "line": {
          "color": "blue",
          "width": 2
         },
         "mode": "lines+text",
         "text": "3",
         "textposition": "top left",
         "type": "scatter3d",
         "x": [
          239,
          225
         ],
         "y": [
          391,
          424
         ],
         "z": [
          342,
          353
         ]
        },
        {
         "hoverinfo": "none",
         "line": {
          "color": "blue",
          "width": 2
         },
         "mode": "lines+text",
         "text": "2",
         "textposition": "top left",
         "type": "scatter3d",
         "x": [
          239,
          245
         ],
         "y": [
          391,
          395
         ],
         "z": [
          342,
          337
         ]
        },
        {
         "hoverinfo": "none",
         "line": {
          "color": "blue",
          "width": 2
         },
         "mode": "lines+text",
         "text": "3",
         "textposition": "top left",
         "type": "scatter3d",
         "x": [
          225,
          208
         ],
         "y": [
          424,
          440
         ],
         "z": [
          353,
          351
         ]
        },
        {
         "hoverinfo": "none",
         "line": {
          "color": "blue",
          "width": 2
         },
         "mode": "lines+text",
         "text": "2",
         "textposition": "top left",
         "type": "scatter3d",
         "x": [
          225,
          220
         ],
         "y": [
          424,
          427
         ],
         "z": [
          353,
          358
         ]
        },
        {
         "hoverinfo": "none",
         "line": {
          "color": "blue",
          "width": 2
         },
         "mode": "lines+text",
         "text": "2",
         "textposition": "top left",
         "type": "scatter3d",
         "x": [
          208,
          206
         ],
         "y": [
          440,
          462
         ],
         "z": [
          351,
          345
         ]
        },
        {
         "hoverinfo": "none",
         "line": {
          "color": "blue",
          "width": 2
         },
         "mode": "lines+text",
         "text": "2",
         "textposition": "top left",
         "type": "scatter3d",
         "x": [
          208,
          205
         ],
         "y": [
          440,
          438
         ],
         "z": [
          351,
          351
         ]
        },
        {
         "hoverinfo": "none",
         "line": {
          "color": "blue",
          "width": 2
         },
         "mode": "lines+text",
         "text": "1",
         "textposition": "top left",
         "type": "scatter3d",
         "x": [
          206,
          205
         ],
         "y": [
          462,
          487
         ],
         "z": [
          345,
          348
         ]
        },
        {
         "hoverinfo": "none",
         "line": {
          "color": "blue",
          "width": 2
         },
         "mode": "lines+text",
         "text": "1",
         "textposition": "top left",
         "type": "scatter3d",
         "x": [
          206,
          209
         ],
         "y": [
          462,
          466
         ],
         "z": [
          345,
          343
         ]
        },
        {
         "hoverinfo": "none",
         "line": {
          "color": "blue",
          "width": 2
         },
         "mode": "lines+text",
         "text": "1",
         "textposition": "top left",
         "type": "scatter3d",
         "x": [
          205,
          195
         ],
         "y": [
          438,
          430
         ],
         "z": [
          351,
          355
         ]
        },
        {
         "hoverinfo": "none",
         "line": {
          "color": "blue",
          "width": 2
         },
         "mode": "lines+text",
         "text": "2",
         "textposition": "top left",
         "type": "scatter3d",
         "x": [
          205,
          181
         ],
         "y": [
          438,
          453
         ],
         "z": [
          351,
          354
         ]
        },
        {
         "hoverinfo": "none",
         "line": {
          "color": "blue",
          "width": 2
         },
         "mode": "lines+text",
         "text": "1",
         "textposition": "top left",
         "type": "scatter3d",
         "x": [
          181,
          160
         ],
         "y": [
          453,
          469
         ],
         "z": [
          354,
          347
         ]
        },
        {
         "hoverinfo": "none",
         "line": {
          "color": "blue",
          "width": 2
         },
         "mode": "lines+text",
         "text": "1",
         "textposition": "top left",
         "type": "scatter3d",
         "x": [
          181,
          176
         ],
         "y": [
          453,
          455
         ],
         "z": [
          354,
          360
         ]
        },
        {
         "hoverinfo": "none",
         "line": {
          "color": "blue",
          "width": 2
         },
         "mode": "lines+text",
         "text": "1",
         "textposition": "top left",
         "type": "scatter3d",
         "x": [
          220,
          190
         ],
         "y": [
          427,
          430
         ],
         "z": [
          358,
          378
         ]
        },
        {
         "hoverinfo": "none",
         "line": {
          "color": "blue",
          "width": 2
         },
         "mode": "lines+text",
         "text": "2",
         "textposition": "top left",
         "type": "scatter3d",
         "x": [
          220,
          210
         ],
         "y": [
          427,
          468
         ],
         "z": [
          358,
          373
         ]
        },
        {
         "hoverinfo": "none",
         "line": {
          "color": "blue",
          "width": 2
         },
         "mode": "lines+text",
         "text": "1",
         "textposition": "top left",
         "type": "scatter3d",
         "x": [
          210,
          191
         ],
         "y": [
          468,
          474
         ],
         "z": [
          373,
          377
         ]
        },
        {
         "hoverinfo": "none",
         "line": {
          "color": "blue",
          "width": 2
         },
         "mode": "lines+text",
         "text": "1",
         "textposition": "top left",
         "type": "scatter3d",
         "x": [
          210,
          218
         ],
         "y": [
          468,
          483
         ],
         "z": [
          373,
          375
         ]
        },
        {
         "hoverinfo": "none",
         "line": {
          "color": "blue",
          "width": 2
         },
         "mode": "lines+text",
         "text": "2",
         "textposition": "top left",
         "type": "scatter3d",
         "x": [
          245,
          258
         ],
         "y": [
          395,
          423
         ],
         "z": [
          337,
          330
         ]
        },
        {
         "hoverinfo": "none",
         "line": {
          "color": "blue",
          "width": 2
         },
         "mode": "lines+text",
         "text": "1",
         "textposition": "top left",
         "type": "scatter3d",
         "x": [
          245,
          283
         ],
         "y": [
          395,
          438
         ],
         "z": [
          337,
          340
         ]
        },
        {
         "hoverinfo": "none",
         "line": {
          "color": "blue",
          "width": 2
         },
         "mode": "lines+text",
         "text": "1",
         "textposition": "top left",
         "type": "scatter3d",
         "x": [
          258,
          251
         ],
         "y": [
          423,
          465
         ],
         "z": [
          330,
          329
         ]
        },
        {
         "hoverinfo": "none",
         "line": {
          "color": "blue",
          "width": 2
         },
         "mode": "lines+text",
         "text": "2",
         "textposition": "top left",
         "type": "scatter3d",
         "x": [
          258,
          273
         ],
         "y": [
          423,
          433
         ],
         "z": [
          330,
          318
         ]
        },
        {
         "hoverinfo": "none",
         "line": {
          "color": "blue",
          "width": 2
         },
         "mode": "lines+text",
         "text": "1",
         "textposition": "top left",
         "type": "scatter3d",
         "x": [
          273,
          279
         ],
         "y": [
          433,
          449
         ],
         "z": [
          318,
          305
         ]
        },
        {
         "hoverinfo": "none",
         "line": {
          "color": "blue",
          "width": 2
         },
         "mode": "lines+text",
         "text": "1",
         "textposition": "top left",
         "type": "scatter3d",
         "x": [
          273,
          287
         ],
         "y": [
          433,
          437
         ],
         "z": [
          318,
          318
         ]
        },
        {
         "hoverinfo": "none",
         "line": {
          "color": "blue",
          "width": 2
         },
         "mode": "lines+text",
         "text": "1",
         "textposition": "top left",
         "type": "scatter3d",
         "x": [
          239,
          170
         ],
         "y": [
          407,
          423
         ],
         "z": [
          294,
          261
         ]
        },
        {
         "hoverinfo": "none",
         "line": {
          "color": "blue",
          "width": 2
         },
         "mode": "lines+text",
         "text": "2",
         "textposition": "top left",
         "type": "scatter3d",
         "x": [
          239,
          220
         ],
         "y": [
          407,
          424
         ],
         "z": [
          294,
          292
         ]
        },
        {
         "hoverinfo": "none",
         "line": {
          "color": "blue",
          "width": 2
         },
         "mode": "lines+text",
         "text": "3",
         "textposition": "top left",
         "type": "scatter3d",
         "x": [
          239,
          260
         ],
         "y": [
          407,
          417
         ],
         "z": [
          294,
          268
         ]
        },
        {
         "hoverinfo": "none",
         "line": {
          "color": "blue",
          "width": 2
         },
         "mode": "lines+text",
         "text": "1",
         "textposition": "top left",
         "type": "scatter3d",
         "x": [
          220,
          213
         ],
         "y": [
          424,
          438
         ],
         "z": [
          292,
          299
         ]
        },
        {
         "hoverinfo": "none",
         "line": {
          "color": "blue",
          "width": 2
         },
         "mode": "lines+text",
         "text": "2",
         "textposition": "top left",
         "type": "scatter3d",
         "x": [
          220,
          214
         ],
         "y": [
          424,
          424
         ],
         "z": [
          292,
          289
         ]
        },
        {
         "hoverinfo": "none",
         "line": {
          "color": "blue",
          "width": 2
         },
         "mode": "lines+text",
         "text": "1",
         "textposition": "top left",
         "type": "scatter3d",
         "x": [
          214,
          210
         ],
         "y": [
          424,
          428
         ],
         "z": [
          289,
          283
         ]
        },
        {
         "hoverinfo": "none",
         "line": {
          "color": "blue",
          "width": 2
         },
         "mode": "lines+text",
         "text": "1",
         "textposition": "top left",
         "type": "scatter3d",
         "x": [
          214,
          201
         ],
         "y": [
          424,
          422
         ],
         "z": [
          289,
          298
         ]
        },
        {
         "hoverinfo": "none",
         "line": {
          "color": "blue",
          "width": 2
         },
         "mode": "lines+text",
         "text": "1",
         "textposition": "top left",
         "type": "scatter3d",
         "x": [
          260,
          283
         ],
         "y": [
          417,
          416
         ],
         "z": [
          268,
          258
         ]
        },
        {
         "hoverinfo": "none",
         "line": {
          "color": "blue",
          "width": 2
         },
         "mode": "lines+text",
         "text": "3",
         "textposition": "top left",
         "type": "scatter3d",
         "x": [
          260,
          256
         ],
         "y": [
          417,
          431
         ],
         "z": [
          268,
          236
         ]
        },
        {
         "hoverinfo": "none",
         "line": {
          "color": "blue",
          "width": 2
         },
         "mode": "lines+text",
         "text": "2",
         "textposition": "top left",
         "type": "scatter3d",
         "x": [
          256,
          242
         ],
         "y": [
          431,
          443
         ],
         "z": [
          236,
          226
         ]
        },
        {
         "hoverinfo": "none",
         "line": {
          "color": "blue",
          "width": 2
         },
         "mode": "lines+text",
         "text": "2",
         "textposition": "top left",
         "type": "scatter3d",
         "x": [
          256,
          260
         ],
         "y": [
          431,
          427
         ],
         "z": [
          236,
          230
         ]
        },
        {
         "hoverinfo": "none",
         "line": {
          "color": "blue",
          "width": 2
         },
         "mode": "lines+text",
         "text": "1",
         "textposition": "top left",
         "type": "scatter3d",
         "x": [
          242,
          229
         ],
         "y": [
          443,
          446
         ],
         "z": [
          226,
          217
         ]
        },
        {
         "hoverinfo": "none",
         "line": {
          "color": "blue",
          "width": 2
         },
         "mode": "lines+text",
         "text": "1",
         "textposition": "top left",
         "type": "scatter3d",
         "x": [
          242,
          243
         ],
         "y": [
          443,
          452
         ],
         "z": [
          226,
          223
         ]
        },
        {
         "hoverinfo": "none",
         "line": {
          "color": "blue",
          "width": 2
         },
         "mode": "lines+text",
         "text": "1",
         "textposition": "top left",
         "type": "scatter3d",
         "x": [
          260,
          261
         ],
         "y": [
          427,
          420
         ],
         "z": [
          230,
          229
         ]
        },
        {
         "hoverinfo": "none",
         "line": {
          "color": "blue",
          "width": 2
         },
         "mode": "lines+text",
         "text": "1",
         "textposition": "top left",
         "type": "scatter3d",
         "x": [
          260,
          268
         ],
         "y": [
          427,
          429
         ],
         "z": [
          230,
          224
         ]
        },
        {
         "hoverinfo": "none",
         "line": {
          "color": "blue",
          "width": 2
         },
         "mode": "lines+text",
         "text": "3",
         "textposition": "top left",
         "type": "scatter3d",
         "x": [
          314,
          298
         ],
         "y": [
          276,
          250
         ],
         "z": [
          439,
          433
         ]
        },
        {
         "hoverinfo": "none",
         "line": {
          "color": "blue",
          "width": 2
         },
         "mode": "lines+text",
         "text": "4",
         "textposition": "top left",
         "type": "scatter3d",
         "x": [
          314,
          305
         ],
         "y": [
          276,
          282
         ],
         "z": [
          439,
          464
         ]
        },
        {
         "hoverinfo": "none",
         "line": {
          "color": "blue",
          "width": 2
         },
         "mode": "lines+text",
         "text": "2",
         "textposition": "top left",
         "type": "scatter3d",
         "x": [
          298,
          282
         ],
         "y": [
          250,
          250
         ],
         "z": [
          433,
          446
         ]
        },
        {
         "hoverinfo": "none",
         "line": {
          "color": "blue",
          "width": 2
         },
         "mode": "lines+text",
         "text": "3",
         "textposition": "top left",
         "type": "scatter3d",
         "x": [
          298,
          292
         ],
         "y": [
          250,
          233
         ],
         "z": [
          433,
          430
         ]
        },
        {
         "hoverinfo": "none",
         "line": {
          "color": "blue",
          "width": 2
         },
         "mode": "lines+text",
         "text": "2",
         "textposition": "top left",
         "type": "scatter3d",
         "x": [
          282,
          221
         ],
         "y": [
          250,
          231
         ],
         "z": [
          446,
          463
         ]
        },
        {
         "hoverinfo": "none",
         "line": {
          "color": "blue",
          "width": 2
         },
         "mode": "lines+text",
         "text": "1",
         "textposition": "top left",
         "type": "scatter3d",
         "x": [
          282,
          138
         ],
         "y": [
          250,
          247
         ],
         "z": [
          446,
          447
         ]
        },
        {
         "hoverinfo": "none",
         "line": {
          "color": "blue",
          "width": 2
         },
         "mode": "lines+text",
         "text": "1",
         "textposition": "top left",
         "type": "scatter3d",
         "x": [
          221,
          209
         ],
         "y": [
          231,
          217
         ],
         "z": [
          463,
          475
         ]
        },
        {
         "hoverinfo": "none",
         "line": {
          "color": "blue",
          "width": 2
         },
         "mode": "lines+text",
         "text": "1",
         "textposition": "top left",
         "type": "scatter3d",
         "x": [
          221,
          203
         ],
         "y": [
          231,
          239
         ],
         "z": [
          463,
          475
         ]
        },
        {
         "hoverinfo": "none",
         "line": {
          "color": "blue",
          "width": 2
         },
         "mode": "lines+text",
         "text": "2",
         "textposition": "top left",
         "type": "scatter3d",
         "x": [
          292,
          250
         ],
         "y": [
          233,
          186
         ],
         "z": [
          430,
          416
         ]
        },
        {
         "hoverinfo": "none",
         "line": {
          "color": "blue",
          "width": 2
         },
         "mode": "lines+text",
         "text": "3",
         "textposition": "top left",
         "type": "scatter3d",
         "x": [
          292,
          291
         ],
         "y": [
          233,
          229
         ],
         "z": [
          430,
          431
         ]
        },
        {
         "hoverinfo": "none",
         "line": {
          "color": "blue",
          "width": 2
         },
         "mode": "lines+text",
         "text": "1",
         "textposition": "top left",
         "type": "scatter3d",
         "x": [
          250,
          216
         ],
         "y": [
          186,
          168
         ],
         "z": [
          416,
          424
         ]
        },
        {
         "hoverinfo": "none",
         "line": {
          "color": "blue",
          "width": 2
         },
         "mode": "lines+text",
         "text": "2",
         "textposition": "top left",
         "type": "scatter3d",
         "x": [
          250,
          242
         ],
         "y": [
          186,
          136
         ],
         "z": [
          416,
          396
         ]
        },
        {
         "hoverinfo": "none",
         "line": {
          "color": "blue",
          "width": 2
         },
         "mode": "lines+text",
         "text": "2",
         "textposition": "top left",
         "type": "scatter3d",
         "x": [
          242,
          238
         ],
         "y": [
          136,
          127
         ],
         "z": [
          396,
          387
         ]
        },
        {
         "hoverinfo": "none",
         "line": {
          "color": "blue",
          "width": 2
         },
         "mode": "lines+text",
         "text": "1",
         "textposition": "top left",
         "type": "scatter3d",
         "x": [
          242,
          237
         ],
         "y": [
          136,
          96
         ],
         "z": [
          396,
          396
         ]
        },
        {
         "hoverinfo": "none",
         "line": {
          "color": "blue",
          "width": 2
         },
         "mode": "lines+text",
         "text": "1",
         "textposition": "top left",
         "type": "scatter3d",
         "x": [
          238,
          222
         ],
         "y": [
          127,
          93
         ],
         "z": [
          387,
          373
         ]
        },
        {
         "hoverinfo": "none",
         "line": {
          "color": "blue",
          "width": 2
         },
         "mode": "lines+text",
         "text": "1",
         "textposition": "top left",
         "type": "scatter3d",
         "x": [
          238,
          250
         ],
         "y": [
          127,
          98
         ],
         "z": [
          387,
          366
         ]
        },
        {
         "hoverinfo": "none",
         "line": {
          "color": "blue",
          "width": 2
         },
         "mode": "lines+text",
         "text": "2",
         "textposition": "top left",
         "type": "scatter3d",
         "x": [
          291,
          280
         ],
         "y": [
          229,
          202
         ],
         "z": [
          431,
          451
         ]
        },
        {
         "hoverinfo": "none",
         "line": {
          "color": "blue",
          "width": 2
         },
         "mode": "lines+text",
         "text": "2",
         "textposition": "top left",
         "type": "scatter3d",
         "x": [
          291,
          297
         ],
         "y": [
          229,
          172
         ],
         "z": [
          431,
          417
         ]
        },
        {
         "hoverinfo": "none",
         "line": {
          "color": "blue",
          "width": 2
         },
         "mode": "lines+text",
         "text": "1",
         "textposition": "top left",
         "type": "scatter3d",
         "x": [
          280,
          273
         ],
         "y": [
          202,
          193
         ],
         "z": [
          451,
          449
         ]
        },
        {
         "hoverinfo": "none",
         "line": {
          "color": "blue",
          "width": 2
         },
         "mode": "lines+text",
         "text": "1",
         "textposition": "top left",
         "type": "scatter3d",
         "x": [
          280,
          280
         ],
         "y": [
          202,
          175
         ],
         "z": [
          451,
          476
         ]
        },
        {
         "hoverinfo": "none",
         "line": {
          "color": "blue",
          "width": 2
         },
         "mode": "lines+text",
         "text": "1",
         "textposition": "top left",
         "type": "scatter3d",
         "x": [
          297,
          299
         ],
         "y": [
          172,
          165
         ],
         "z": [
          417,
          425
         ]
        },
        {
         "hoverinfo": "none",
         "line": {
          "color": "blue",
          "width": 2
         },
         "mode": "lines+text",
         "text": "2",
         "textposition": "top left",
         "type": "scatter3d",
         "x": [
          297,
          302
         ],
         "y": [
          172,
          140
         ],
         "z": [
          417,
          401
         ]
        },
        {
         "hoverinfo": "none",
         "line": {
          "color": "blue",
          "width": 2
         },
         "mode": "lines+text",
         "text": "1",
         "textposition": "top left",
         "type": "scatter3d",
         "x": [
          302,
          301
         ],
         "y": [
          140,
          129
         ],
         "z": [
          401,
          392
         ]
        },
        {
         "hoverinfo": "none",
         "line": {
          "color": "blue",
          "width": 2
         },
         "mode": "lines+text",
         "text": "1",
         "textposition": "top left",
         "type": "scatter3d",
         "x": [
          302,
          308
         ],
         "y": [
          140,
          131
         ],
         "z": [
          401,
          401
         ]
        },
        {
         "hoverinfo": "none",
         "line": {
          "color": "blue",
          "width": 2
         },
         "mode": "lines+text",
         "text": "3",
         "textposition": "top left",
         "type": "scatter3d",
         "x": [
          305,
          277
         ],
         "y": [
          282,
          319
         ],
         "z": [
          464,
          479
         ]
        },
        {
         "hoverinfo": "none",
         "line": {
          "color": "blue",
          "width": 2
         },
         "mode": "lines+text",
         "text": "3",
         "textposition": "top left",
         "type": "scatter3d",
         "x": [
          305,
          297
         ],
         "y": [
          282,
          282
         ],
         "z": [
          464,
          499
         ]
        },
        {
         "hoverinfo": "none",
         "line": {
          "color": "blue",
          "width": 2
         },
         "mode": "lines+text",
         "text": "3",
         "textposition": "top left",
         "type": "scatter3d",
         "x": [
          277,
          277
         ],
         "y": [
          319,
          329
         ],
         "z": [
          479,
          483
         ]
        },
        {
         "hoverinfo": "none",
         "line": {
          "color": "blue",
          "width": 2
         },
         "mode": "lines+text",
         "text": "2",
         "textposition": "top left",
         "type": "scatter3d",
         "x": [
          277,
          257
         ],
         "y": [
          319,
          317
         ],
         "z": [
          479,
          481
         ]
        },
        {
         "hoverinfo": "none",
         "line": {
          "color": "blue",
          "width": 2
         },
         "mode": "lines+text",
         "text": "3",
         "textposition": "top left",
         "type": "scatter3d",
         "x": [
          277,
          243
         ],
         "y": [
          329,
          368
         ],
         "z": [
          483,
          505
         ]
        },
        {
         "hoverinfo": "none",
         "line": {
          "color": "blue",
          "width": 2
         },
         "mode": "lines+text",
         "text": "1",
         "textposition": "top left",
         "type": "scatter3d",
         "x": [
          277,
          285
         ],
         "y": [
          329,
          383
         ],
         "z": [
          483,
          506
         ]
        },
        {
         "hoverinfo": "none",
         "line": {
          "color": "blue",
          "width": 2
         },
         "mode": "lines+text",
         "text": "2",
         "textposition": "top left",
         "type": "scatter3d",
         "x": [
          243,
          232
         ],
         "y": [
          368,
          384
         ],
         "z": [
          505,
          538
         ]
        },
        {
         "hoverinfo": "none",
         "line": {
          "color": "blue",
          "width": 2
         },
         "mode": "lines+text",
         "text": "2",
         "textposition": "top left",
         "type": "scatter3d",
         "x": [
          243,
          235
         ],
         "y": [
          368,
          378
         ],
         "z": [
          505,
          505
         ]
        },
        {
         "hoverinfo": "none",
         "line": {
          "color": "blue",
          "width": 2
         },
         "mode": "lines+text",
         "text": "1",
         "textposition": "top left",
         "type": "scatter3d",
         "x": [
          232,
          214
         ],
         "y": [
          384,
          390
         ],
         "z": [
          538,
          542
         ]
        },
        {
         "hoverinfo": "none",
         "line": {
          "color": "blue",
          "width": 2
         },
         "mode": "lines+text",
         "text": "1",
         "textposition": "top left",
         "type": "scatter3d",
         "x": [
          232,
          231
         ],
         "y": [
          384,
          389
         ],
         "z": [
          538,
          546
         ]
        },
        {
         "hoverinfo": "none",
         "line": {
          "color": "blue",
          "width": 2
         },
         "mode": "lines+text",
         "text": "1",
         "textposition": "top left",
         "type": "scatter3d",
         "x": [
          235,
          199
         ],
         "y": [
          378,
          390
         ],
         "z": [
          505,
          506
         ]
        },
        {
         "hoverinfo": "none",
         "line": {
          "color": "blue",
          "width": 2
         },
         "mode": "lines+text",
         "text": "1",
         "textposition": "top left",
         "type": "scatter3d",
         "x": [
          235,
          233
         ],
         "y": [
          378,
          396
         ],
         "z": [
          505,
          509
         ]
        },
        {
         "hoverinfo": "none",
         "line": {
          "color": "blue",
          "width": 2
         },
         "mode": "lines+text",
         "text": "2",
         "textposition": "top left",
         "type": "scatter3d",
         "x": [
          257,
          238
         ],
         "y": [
          317,
          317
         ],
         "z": [
          481,
          491
         ]
        },
        {
         "hoverinfo": "none",
         "line": {
          "color": "blue",
          "width": 2
         },
         "mode": "lines+text",
         "text": "1",
         "textposition": "top left",
         "type": "scatter3d",
         "x": [
          257,
          129
         ],
         "y": [
          317,
          306
         ],
         "z": [
          481,
          485
         ]
        },
        {
         "hoverinfo": "none",
         "line": {
          "color": "blue",
          "width": 2
         },
         "mode": "lines+text",
         "text": "1",
         "textposition": "top left",
         "type": "scatter3d",
         "x": [
          238,
          210
         ],
         "y": [
          317,
          311
         ],
         "z": [
          491,
          516
         ]
        },
        {
         "hoverinfo": "none",
         "line": {
          "color": "blue",
          "width": 2
         },
         "mode": "lines+text",
         "text": "1",
         "textposition": "top left",
         "type": "scatter3d",
         "x": [
          238,
          182
         ],
         "y": [
          317,
          333
         ],
         "z": [
          491,
          518
         ]
        },
        {
         "hoverinfo": "none",
         "line": {
          "color": "blue",
          "width": 2
         },
         "mode": "lines+text",
         "text": "1",
         "textposition": "top left",
         "type": "scatter3d",
         "x": [
          297,
          202
         ],
         "y": [
          282,
          266
         ],
         "z": [
          499,
          538
         ]
        },
        {
         "hoverinfo": "none",
         "line": {
          "color": "blue",
          "width": 2
         },
         "mode": "lines+text",
         "text": "2",
         "textposition": "top left",
         "type": "scatter3d",
         "x": [
          297,
          296
         ],
         "y": [
          282,
          301
         ],
         "z": [
          499,
          509
         ]
        },
        {
         "hoverinfo": "none",
         "line": {
          "color": "blue",
          "width": 2
         },
         "mode": "lines+text",
         "text": "3",
         "textposition": "top left",
         "type": "scatter3d",
         "x": [
          297,
          295
         ],
         "y": [
          282,
          278
         ],
         "z": [
          499,
          505
         ]
        },
        {
         "hoverinfo": "none",
         "line": {
          "color": "blue",
          "width": 2
         },
         "mode": "lines+text",
         "text": "1",
         "textposition": "top left",
         "type": "scatter3d",
         "x": [
          296,
          268
         ],
         "y": [
          301,
          331
         ],
         "z": [
          509,
          570
         ]
        },
        {
         "hoverinfo": "none",
         "line": {
          "color": "blue",
          "width": 2
         },
         "mode": "lines+text",
         "text": "1",
         "textposition": "top left",
         "type": "scatter3d",
         "x": [
          296,
          309
         ],
         "y": [
          301,
          338
         ],
         "z": [
          509,
          543
         ]
        },
        {
         "hoverinfo": "none",
         "line": {
          "color": "blue",
          "width": 2
         },
         "mode": "lines+text",
         "text": "2",
         "textposition": "top left",
         "type": "scatter3d",
         "x": [
          295,
          282
         ],
         "y": [
          278,
          276
         ],
         "z": [
          505,
          521
         ]
        },
        {
         "hoverinfo": "none",
         "line": {
          "color": "blue",
          "width": 2
         },
         "mode": "lines+text",
         "text": "2",
         "textposition": "top left",
         "type": "scatter3d",
         "x": [
          295,
          297
         ],
         "y": [
          278,
          258
         ],
         "z": [
          505,
          521
         ]
        },
        {
         "hoverinfo": "none",
         "line": {
          "color": "blue",
          "width": 2
         },
         "mode": "lines+text",
         "text": "1",
         "textposition": "top left",
         "type": "scatter3d",
         "x": [
          282,
          262
         ],
         "y": [
          276,
          252
         ],
         "z": [
          521,
          534
         ]
        },
        {
         "hoverinfo": "none",
         "line": {
          "color": "blue",
          "width": 2
         },
         "mode": "lines+text",
         "text": "1",
         "textposition": "top left",
         "type": "scatter3d",
         "x": [
          282,
          269
         ],
         "y": [
          276,
          283
         ],
         "z": [
          521,
          563
         ]
        },
        {
         "hoverinfo": "none",
         "line": {
          "color": "blue",
          "width": 2
         },
         "mode": "lines+text",
         "text": "1",
         "textposition": "top left",
         "type": "scatter3d",
         "x": [
          297,
          292
         ],
         "y": [
          258,
          239
         ],
         "z": [
          521,
          528
         ]
        },
        {
         "hoverinfo": "none",
         "line": {
          "color": "blue",
          "width": 2
         },
         "mode": "lines+text",
         "text": "1",
         "textposition": "top left",
         "type": "scatter3d",
         "x": [
          297,
          303
         ],
         "y": [
          258,
          260
         ],
         "z": [
          521,
          530
         ]
        },
        {
         "hoverinfo": "none",
         "line": {
          "color": "blue",
          "width": 2
         },
         "mode": "lines+text",
         "text": "1",
         "textposition": "top left",
         "type": "scatter3d",
         "x": [
          447,
          447
         ],
         "y": [
          256,
          253
         ],
         "z": [
          439,
          438
         ]
        },
        {
         "hoverinfo": "none",
         "line": {
          "color": "blue",
          "width": 2
         },
         "mode": "lines+text",
         "text": "1",
         "textposition": "top left",
         "type": "scatter3d",
         "x": [
          447,
          457
         ],
         "y": [
          256,
          248
         ],
         "z": [
          439,
          442
         ]
        },
        {
         "hoverinfo": "none",
         "line": {
          "color": "blue",
          "width": 2
         },
         "mode": "lines+text",
         "text": "5",
         "textposition": "top left",
         "type": "scatter3d",
         "x": [
          447,
          450
         ],
         "y": [
          256,
          263
         ],
         "z": [
          439,
          443
         ]
        },
        {
         "hoverinfo": "none",
         "line": {
          "color": "blue",
          "width": 2
         },
         "mode": "lines+text",
         "text": "1",
         "textposition": "top left",
         "type": "scatter3d",
         "x": [
          450,
          448
         ],
         "y": [
          263,
          265
         ],
         "z": [
          443,
          442
         ]
        },
        {
         "hoverinfo": "none",
         "line": {
          "color": "blue",
          "width": 2
         },
         "mode": "lines+text",
         "text": "5",
         "textposition": "top left",
         "type": "scatter3d",
         "x": [
          450,
          467
         ],
         "y": [
          263,
          338
         ],
         "z": [
          443,
          446
         ]
        },
        {
         "hoverinfo": "none",
         "line": {
          "color": "blue",
          "width": 2
         },
         "mode": "lines+text",
         "text": "4",
         "textposition": "top left",
         "type": "scatter3d",
         "x": [
          467,
          501
         ],
         "y": [
          338,
          330
         ],
         "z": [
          446,
          453
         ]
        },
        {
         "hoverinfo": "none",
         "line": {
          "color": "blue",
          "width": 2
         },
         "mode": "lines+text",
         "text": "4",
         "textposition": "top left",
         "type": "scatter3d",
         "x": [
          467,
          476
         ],
         "y": [
          338,
          361
         ],
         "z": [
          446,
          441
         ]
        },
        {
         "hoverinfo": "none",
         "line": {
          "color": "blue",
          "width": 2
         },
         "mode": "lines+text",
         "text": "3",
         "textposition": "top left",
         "type": "scatter3d",
         "x": [
          501,
          542
         ],
         "y": [
          330,
          312
         ],
         "z": [
          453,
          443
         ]
        },
        {
         "hoverinfo": "none",
         "line": {
          "color": "blue",
          "width": 2
         },
         "mode": "lines+text",
         "text": "3",
         "textposition": "top left",
         "type": "scatter3d",
         "x": [
          501,
          515
         ],
         "y": [
          330,
          334
         ],
         "z": [
          453,
          487
         ]
        },
        {
         "hoverinfo": "none",
         "line": {
          "color": "blue",
          "width": 2
         },
         "mode": "lines+text",
         "text": "3",
         "textposition": "top left",
         "type": "scatter3d",
         "x": [
          542,
          544
         ],
         "y": [
          312,
          298
         ],
         "z": [
          443,
          448
         ]
        },
        {
         "hoverinfo": "none",
         "line": {
          "color": "blue",
          "width": 2
         },
         "mode": "lines+text",
         "text": "2",
         "textposition": "top left",
         "type": "scatter3d",
         "x": [
          542,
          562
         ],
         "y": [
          312,
          305
         ],
         "z": [
          443,
          439
         ]
        },
        {
         "hoverinfo": "none",
         "line": {
          "color": "blue",
          "width": 2
         },
         "mode": "lines+text",
         "text": "2",
         "textposition": "top left",
         "type": "scatter3d",
         "x": [
          544,
          556
         ],
         "y": [
          298,
          288
         ],
         "z": [
          448,
          459
         ]
        },
        {
         "hoverinfo": "none",
         "line": {
          "color": "blue",
          "width": 2
         },
         "mode": "lines+text",
         "text": "2",
         "textposition": "top left",
         "type": "scatter3d",
         "x": [
          544,
          547
         ],
         "y": [
          298,
          214
         ],
         "z": [
          448,
          447
         ]
        },
        {
         "hoverinfo": "none",
         "line": {
          "color": "blue",
          "width": 2
         },
         "mode": "lines+text",
         "text": "1",
         "textposition": "top left",
         "type": "scatter3d",
         "x": [
          556,
          602
         ],
         "y": [
          288,
          252
         ],
         "z": [
          459,
          475
         ]
        },
        {
         "hoverinfo": "none",
         "line": {
          "color": "blue",
          "width": 2
         },
         "mode": "lines+text",
         "text": "1",
         "textposition": "top left",
         "type": "scatter3d",
         "x": [
          556,
          583
         ],
         "y": [
          288,
          286
         ],
         "z": [
          459,
          492
         ]
        },
        {
         "hoverinfo": "none",
         "line": {
          "color": "blue",
          "width": 2
         },
         "mode": "lines+text",
         "text": "1",
         "textposition": "top left",
         "type": "scatter3d",
         "x": [
          547,
          537
         ],
         "y": [
          214,
          174
         ],
         "z": [
          447,
          446
         ]
        },
        {
         "hoverinfo": "none",
         "line": {
          "color": "blue",
          "width": 2
         },
         "mode": "lines+text",
         "text": "1",
         "textposition": "top left",
         "type": "scatter3d",
         "x": [
          547,
          558
         ],
         "y": [
          214,
          208
         ],
         "z": [
          447,
          451
         ]
        },
        {
         "hoverinfo": "none",
         "line": {
          "color": "blue",
          "width": 2
         },
         "mode": "lines+text",
         "text": "1",
         "textposition": "top left",
         "type": "scatter3d",
         "x": [
          562,
          575
         ],
         "y": [
          305,
          261
         ],
         "z": [
          439,
          435
         ]
        },
        {
         "hoverinfo": "none",
         "line": {
          "color": "blue",
          "width": 2
         },
         "mode": "lines+text",
         "text": "2",
         "textposition": "top left",
         "type": "scatter3d",
         "x": [
          562,
          584
         ],
         "y": [
          305,
          300
         ],
         "z": [
          439,
          434
         ]
        },
        {
         "hoverinfo": "none",
         "line": {
          "color": "blue",
          "width": 2
         },
         "mode": "lines+text",
         "text": "1",
         "textposition": "top left",
         "type": "scatter3d",
         "x": [
          584,
          601
         ],
         "y": [
          300,
          315
         ],
         "z": [
          434,
          446
         ]
        },
        {
         "hoverinfo": "none",
         "line": {
          "color": "blue",
          "width": 2
         },
         "mode": "lines+text",
         "text": "1",
         "textposition": "top left",
         "type": "scatter3d",
         "x": [
          584,
          629
         ],
         "y": [
          300,
          260
         ],
         "z": [
          434,
          404
         ]
        },
        {
         "hoverinfo": "none",
         "line": {
          "color": "blue",
          "width": 2
         },
         "mode": "lines+text",
         "text": "2",
         "textposition": "top left",
         "type": "scatter3d",
         "x": [
          515,
          511
         ],
         "y": [
          334,
          345
         ],
         "z": [
          487,
          496
         ]
        },
        {
         "hoverinfo": "none",
         "line": {
          "color": "blue",
          "width": 2
         },
         "mode": "lines+text",
         "text": "3",
         "textposition": "top left",
         "type": "scatter3d",
         "x": [
          515,
          516
         ],
         "y": [
          334,
          332
         ],
         "z": [
          487,
          492
         ]
        },
        {
         "hoverinfo": "none",
         "line": {
          "color": "blue",
          "width": 2
         },
         "mode": "lines+text",
         "text": "1",
         "textposition": "top left",
         "type": "scatter3d",
         "x": [
          511,
          496
         ],
         "y": [
          345,
          345
         ],
         "z": [
          496,
          512
         ]
        },
        {
         "hoverinfo": "none",
         "line": {
          "color": "blue",
          "width": 2
         },
         "mode": "lines+text",
         "text": "2",
         "textposition": "top left",
         "type": "scatter3d",
         "x": [
          511,
          510
         ],
         "y": [
          345,
          353
         ],
         "z": [
          496,
          554
         ]
        },
        {
         "hoverinfo": "none",
         "line": {
          "color": "blue",
          "width": 2
         },
         "mode": "lines+text",
         "text": "1",
         "textposition": "top left",
         "type": "scatter3d",
         "x": [
          510,
          499
         ],
         "y": [
          353,
          364
         ],
         "z": [
          554,
          574
         ]
        },
        {
         "hoverinfo": "none",
         "line": {
          "color": "blue",
          "width": 2
         },
         "mode": "lines+text",
         "text": "1",
         "textposition": "top left",
         "type": "scatter3d",
         "x": [
          510,
          531
         ],
         "y": [
          353,
          349
         ],
         "z": [
          554,
          573
         ]
        },
        {
         "hoverinfo": "none",
         "line": {
          "color": "blue",
          "width": 2
         },
         "mode": "lines+text",
         "text": "1",
         "textposition": "top left",
         "type": "scatter3d",
         "x": [
          516,
          514
         ],
         "y": [
          332,
          333
         ],
         "z": [
          492,
          493
         ]
        },
        {
         "hoverinfo": "none",
         "line": {
          "color": "blue",
          "width": 2
         },
         "mode": "lines+text",
         "text": "3",
         "textposition": "top left",
         "type": "scatter3d",
         "x": [
          516,
          516
         ],
         "y": [
          332,
          330
         ],
         "z": [
          492,
          498
         ]
        },
        {
         "hoverinfo": "none",
         "line": {
          "color": "blue",
          "width": 2
         },
         "mode": "lines+text",
         "text": "1",
         "textposition": "top left",
         "type": "scatter3d",
         "x": [
          516,
          489
         ],
         "y": [
          330,
          306
         ],
         "z": [
          498,
          569
         ]
        },
        {
         "hoverinfo": "none",
         "line": {
          "color": "blue",
          "width": 2
         },
         "mode": "lines+text",
         "text": "3",
         "textposition": "top left",
         "type": "scatter3d",
         "x": [
          516,
          521
         ],
         "y": [
          330,
          320
         ],
         "z": [
          498,
          506
         ]
        },
        {
         "hoverinfo": "none",
         "line": {
          "color": "blue",
          "width": 2
         },
         "mode": "lines+text",
         "text": "3",
         "textposition": "top left",
         "type": "scatter3d",
         "x": [
          521,
          524
         ],
         "y": [
          320,
          287
         ],
         "z": [
          506,
          511
         ]
        },
        {
         "hoverinfo": "none",
         "line": {
          "color": "blue",
          "width": 2
         },
         "mode": "lines+text",
         "text": "1",
         "textposition": "top left",
         "type": "scatter3d",
         "x": [
          521,
          549
         ],
         "y": [
          320,
          302
         ],
         "z": [
          506,
          529
         ]
        },
        {
         "hoverinfo": "none",
         "line": {
          "color": "blue",
          "width": 2
         },
         "mode": "lines+text",
         "text": "3",
         "textposition": "top left",
         "type": "scatter3d",
         "x": [
          524,
          523
         ],
         "y": [
          287,
          248
         ],
         "z": [
          511,
          517
         ]
        },
        {
         "hoverinfo": "none",
         "line": {
          "color": "blue",
          "width": 2
         },
         "mode": "lines+text",
         "text": "1",
         "textposition": "top left",
         "type": "scatter3d",
         "x": [
          524,
          531
         ],
         "y": [
          287,
          280
         ],
         "z": [
          511,
          539
         ]
        },
        {
         "hoverinfo": "none",
         "line": {
          "color": "blue",
          "width": 2
         },
         "mode": "lines+text",
         "text": "2",
         "textposition": "top left",
         "type": "scatter3d",
         "x": [
          523,
          503
         ],
         "y": [
          248,
          194
         ],
         "z": [
          517,
          519
         ]
        },
        {
         "hoverinfo": "none",
         "line": {
          "color": "blue",
          "width": 2
         },
         "mode": "lines+text",
         "text": "2",
         "textposition": "top left",
         "type": "scatter3d",
         "x": [
          523,
          530
         ],
         "y": [
          248,
          235
         ],
         "z": [
          517,
          529
         ]
        },
        {
         "hoverinfo": "none",
         "line": {
          "color": "blue",
          "width": 2
         },
         "mode": "lines+text",
         "text": "1",
         "textposition": "top left",
         "type": "scatter3d",
         "x": [
          503,
          496
         ],
         "y": [
          194,
          204
         ],
         "z": [
          519,
          501
         ]
        },
        {
         "hoverinfo": "none",
         "line": {
          "color": "blue",
          "width": 2
         },
         "mode": "lines+text",
         "text": "2",
         "textposition": "top left",
         "type": "scatter3d",
         "x": [
          503,
          502
         ],
         "y": [
          194,
          191
         ],
         "z": [
          519,
          520
         ]
        },
        {
         "hoverinfo": "none",
         "line": {
          "color": "blue",
          "width": 2
         },
         "mode": "lines+text",
         "text": "1",
         "textposition": "top left",
         "type": "scatter3d",
         "x": [
          502,
          492
         ],
         "y": [
          191,
          151
         ],
         "z": [
          520,
          508
         ]
        },
        {
         "hoverinfo": "none",
         "line": {
          "color": "blue",
          "width": 2
         },
         "mode": "lines+text",
         "text": "1",
         "textposition": "top left",
         "type": "scatter3d",
         "x": [
          502,
          493
         ],
         "y": [
          191,
          179
         ],
         "z": [
          520,
          543
         ]
        },
        {
         "hoverinfo": "none",
         "line": {
          "color": "blue",
          "width": 2
         },
         "mode": "lines+text",
         "text": "1",
         "textposition": "top left",
         "type": "scatter3d",
         "x": [
          530,
          521
         ],
         "y": [
          235,
          223
         ],
         "z": [
          529,
          554
         ]
        },
        {
         "hoverinfo": "none",
         "line": {
          "color": "blue",
          "width": 2
         },
         "mode": "lines+text",
         "text": "2",
         "textposition": "top left",
         "type": "scatter3d",
         "x": [
          530,
          541
         ],
         "y": [
          235,
          217
         ],
         "z": [
          529,
          532
         ]
        },
        {
         "hoverinfo": "none",
         "line": {
          "color": "blue",
          "width": 2
         },
         "mode": "lines+text",
         "text": "1",
         "textposition": "top left",
         "type": "scatter3d",
         "x": [
          541,
          547
         ],
         "y": [
          217,
          190
         ],
         "z": [
          532,
          530
         ]
        },
        {
         "hoverinfo": "none",
         "line": {
          "color": "blue",
          "width": 2
         },
         "mode": "lines+text",
         "text": "1",
         "textposition": "top left",
         "type": "scatter3d",
         "x": [
          541,
          551
         ],
         "y": [
          217,
          220
         ],
         "z": [
          532,
          551
         ]
        },
        {
         "hoverinfo": "none",
         "line": {
          "color": "blue",
          "width": 2
         },
         "mode": "lines+text",
         "text": "4",
         "textposition": "top left",
         "type": "scatter3d",
         "x": [
          476,
          496
         ],
         "y": [
          361,
          382
         ],
         "z": [
          441,
          427
         ]
        },
        {
         "hoverinfo": "none",
         "line": {
          "color": "blue",
          "width": 2
         },
         "mode": "lines+text",
         "text": "3",
         "textposition": "top left",
         "type": "scatter3d",
         "x": [
          476,
          509
         ],
         "y": [
          361,
          377
         ],
         "z": [
          441,
          479
         ]
        },
        {
         "hoverinfo": "none",
         "line": {
          "color": "blue",
          "width": 2
         },
         "mode": "lines+text",
         "text": "4",
         "textposition": "top left",
         "type": "scatter3d",
         "x": [
          496,
          502
         ],
         "y": [
          382,
          386
         ],
         "z": [
          427,
          424
         ]
        },
        {
         "hoverinfo": "none",
         "line": {
          "color": "blue",
          "width": 2
         },
         "mode": "lines+text",
         "text": "2",
         "textposition": "top left",
         "type": "scatter3d",
         "x": [
          496,
          531
         ],
         "y": [
          382,
          398
         ],
         "z": [
          427,
          475
         ]
        },
        {
         "hoverinfo": "none",
         "line": {
          "color": "blue",
          "width": 2
         },
         "mode": "lines+text",
         "text": "3",
         "textposition": "top left",
         "type": "scatter3d",
         "x": [
          502,
          509
         ],
         "y": [
          386,
          405
         ],
         "z": [
          424,
          421
         ]
        },
        {
         "hoverinfo": "none",
         "line": {
          "color": "blue",
          "width": 2
         },
         "mode": "lines+text",
         "text": "4",
         "textposition": "top left",
         "type": "scatter3d",
         "x": [
          502,
          515
         ],
         "y": [
          386,
          385
         ],
         "z": [
          424,
          416
         ]
        },
        {
         "hoverinfo": "none",
         "line": {
          "color": "blue",
          "width": 2
         },
         "mode": "lines+text",
         "text": "1",
         "textposition": "top left",
         "type": "scatter3d",
         "x": [
          509,
          483
         ],
         "y": [
          405,
          454
         ],
         "z": [
          421,
          329
         ]
        },
        {
         "hoverinfo": "none",
         "line": {
          "color": "blue",
          "width": 2
         },
         "mode": "lines+text",
         "text": "3",
         "textposition": "top left",
         "type": "scatter3d",
         "x": [
          509,
          513
         ],
         "y": [
          405,
          410
         ],
         "z": [
          421,
          420
         ]
        },
        {
         "hoverinfo": "none",
         "line": {
          "color": "blue",
          "width": 2
         },
         "mode": "lines+text",
         "text": "2",
         "textposition": "top left",
         "type": "scatter3d",
         "x": [
          513,
          504
         ],
         "y": [
          410,
          479
         ],
         "z": [
          420,
          440
         ]
        },
        {
         "hoverinfo": "none",
         "line": {
          "color": "blue",
          "width": 2
         },
         "mode": "lines+text",
         "text": "2",
         "textposition": "top left",
         "type": "scatter3d",
         "x": [
          513,
          520
         ],
         "y": [
          410,
          459
         ],
         "z": [
          420,
          393
         ]
        },
        {
         "hoverinfo": "none",
         "line": {
          "color": "blue",
          "width": 2
         },
         "mode": "lines+text",
         "text": "1",
         "textposition": "top left",
         "type": "scatter3d",
         "x": [
          504,
          504
         ],
         "y": [
          479,
          492
         ],
         "z": [
          440,
          464
         ]
        },
        {
         "hoverinfo": "none",
         "line": {
          "color": "blue",
          "width": 2
         },
         "mode": "lines+text",
         "text": "1",
         "textposition": "top left",
         "type": "scatter3d",
         "x": [
          504,
          514
         ],
         "y": [
          479,
          485
         ],
         "z": [
          440,
          444
         ]
        },
        {
         "hoverinfo": "none",
         "line": {
          "color": "blue",
          "width": 2
         },
         "mode": "lines+text",
         "text": "2",
         "textposition": "top left",
         "type": "scatter3d",
         "x": [
          520,
          517
         ],
         "y": [
          459,
          472
         ],
         "z": [
          393,
          385
         ]
        },
        {
         "hoverinfo": "none",
         "line": {
          "color": "blue",
          "width": 2
         },
         "mode": "lines+text",
         "text": "1",
         "textposition": "top left",
         "type": "scatter3d",
         "x": [
          520,
          543
         ],
         "y": [
          459,
          470
         ],
         "z": [
          393,
          399
         ]
        },
        {
         "hoverinfo": "none",
         "line": {
          "color": "blue",
          "width": 2
         },
         "mode": "lines+text",
         "text": "1",
         "textposition": "top left",
         "type": "scatter3d",
         "x": [
          517,
          509
         ],
         "y": [
          472,
          478
         ],
         "z": [
          385,
          382
         ]
        },
        {
         "hoverinfo": "none",
         "line": {
          "color": "blue",
          "width": 2
         },
         "mode": "lines+text",
         "text": "1",
         "textposition": "top left",
         "type": "scatter3d",
         "x": [
          517,
          522
         ],
         "y": [
          472,
          484
         ],
         "z": [
          385,
          373
         ]
        },
        {
         "hoverinfo": "none",
         "line": {
          "color": "blue",
          "width": 2
         },
         "mode": "lines+text",
         "text": "3",
         "textposition": "top left",
         "type": "scatter3d",
         "x": [
          515,
          524
         ],
         "y": [
          385,
          387
         ],
         "z": [
          416,
          405
         ]
        },
        {
         "hoverinfo": "none",
         "line": {
          "color": "blue",
          "width": 2
         },
         "mode": "lines+text",
         "text": "3",
         "textposition": "top left",
         "type": "scatter3d",
         "x": [
          515,
          543
         ],
         "y": [
          385,
          382
         ],
         "z": [
          416,
          426
         ]
        },
        {
         "hoverinfo": "none",
         "line": {
          "color": "blue",
          "width": 2
         },
         "mode": "lines+text",
         "text": "3",
         "textposition": "top left",
         "type": "scatter3d",
         "x": [
          524,
          548
         ],
         "y": [
          387,
          396
         ],
         "z": [
          405,
          349
         ]
        },
        {
         "hoverinfo": "none",
         "line": {
          "color": "blue",
          "width": 2
         },
         "mode": "lines+text",
         "text": "2",
         "textposition": "top left",
         "type": "scatter3d",
         "x": [
          524,
          572
         ],
         "y": [
          387,
          348
         ],
         "z": [
          405,
          382
         ]
        },
        {
         "hoverinfo": "none",
         "line": {
          "color": "blue",
          "width": 2
         },
         "mode": "lines+text",
         "text": "3",
         "textposition": "top left",
         "type": "scatter3d",
         "x": [
          548,
          549
         ],
         "y": [
          396,
          398
         ],
         "z": [
          349,
          343
         ]
        },
        {
         "hoverinfo": "none",
         "line": {
          "color": "blue",
          "width": 2
         },
         "mode": "lines+text",
         "text": "1",
         "textposition": "top left",
         "type": "scatter3d",
         "x": [
          548,
          602
         ],
         "y": [
          396,
          436
         ],
         "z": [
          349,
          374
         ]
        },
        {
         "hoverinfo": "none",
         "line": {
          "color": "blue",
          "width": 2
         },
         "mode": "lines+text",
         "text": "2",
         "textposition": "top left",
         "type": "scatter3d",
         "x": [
          549,
          550
         ],
         "y": [
          398,
          413
         ],
         "z": [
          343,
          327
         ]
        },
        {
         "hoverinfo": "none",
         "line": {
          "color": "blue",
          "width": 2
         },
         "mode": "lines+text",
         "text": "3",
         "textposition": "top left",
         "type": "scatter3d",
         "x": [
          549,
          552
         ],
         "y": [
          398,
          392
         ],
         "z": [
          343,
          337
         ]
        },
        {
         "hoverinfo": "none",
         "line": {
          "color": "blue",
          "width": 2
         },
         "mode": "lines+text",
         "text": "1",
         "textposition": "top left",
         "type": "scatter3d",
         "x": [
          550,
          556
         ],
         "y": [
          413,
          437
         ],
         "z": [
          327,
          337
         ]
        },
        {
         "hoverinfo": "none",
         "line": {
          "color": "blue",
          "width": 2
         },
         "mode": "lines+text",
         "text": "2",
         "textposition": "top left",
         "type": "scatter3d",
         "x": [
          550,
          547
         ],
         "y": [
          413,
          436
         ],
         "z": [
          327,
          284
         ]
        },
        {
         "hoverinfo": "none",
         "line": {
          "color": "blue",
          "width": 2
         },
         "mode": "lines+text",
         "text": "2",
         "textposition": "top left",
         "type": "scatter3d",
         "x": [
          547,
          545
         ],
         "y": [
          436,
          436
         ],
         "z": [
          284,
          275
         ]
        },
        {
         "hoverinfo": "none",
         "line": {
          "color": "blue",
          "width": 2
         },
         "mode": "lines+text",
         "text": "1",
         "textposition": "top left",
         "type": "scatter3d",
         "x": [
          547,
          561
         ],
         "y": [
          436,
          483
         ],
         "z": [
          284,
          284
         ]
        },
        {
         "hoverinfo": "none",
         "line": {
          "color": "blue",
          "width": 2
         },
         "mode": "lines+text",
         "text": "1",
         "textposition": "top left",
         "type": "scatter3d",
         "x": [
          545,
          617
         ],
         "y": [
          436,
          465
         ],
         "z": [
          275,
          187
         ]
        },
        {
         "hoverinfo": "none",
         "line": {
          "color": "blue",
          "width": 2
         },
         "mode": "lines+text",
         "text": "2",
         "textposition": "top left",
         "type": "scatter3d",
         "x": [
          545,
          542
         ],
         "y": [
          436,
          442
         ],
         "z": [
          275,
          265
         ]
        },
        {
         "hoverinfo": "none",
         "line": {
          "color": "blue",
          "width": 2
         },
         "mode": "lines+text",
         "text": "1",
         "textposition": "top left",
         "type": "scatter3d",
         "x": [
          542,
          556
         ],
         "y": [
          442,
          475
         ],
         "z": [
          265,
          253
         ]
        },
        {
         "hoverinfo": "none",
         "line": {
          "color": "blue",
          "width": 2
         },
         "mode": "lines+text",
         "text": "2",
         "textposition": "top left",
         "type": "scatter3d",
         "x": [
          542,
          540
         ],
         "y": [
          442,
          443
         ],
         "z": [
          265,
          264
         ]
        },
        {
         "hoverinfo": "none",
         "line": {
          "color": "blue",
          "width": 2
         },
         "mode": "lines+text",
         "text": "1",
         "textposition": "top left",
         "type": "scatter3d",
         "x": [
          540,
          508
         ],
         "y": [
          443,
          464
         ],
         "z": [
          264,
          223
         ]
        },
        {
         "hoverinfo": "none",
         "line": {
          "color": "blue",
          "width": 2
         },
         "mode": "lines+text",
         "text": "2",
         "textposition": "top left",
         "type": "scatter3d",
         "x": [
          540,
          537
         ],
         "y": [
          443,
          444
         ],
         "z": [
          264,
          253
         ]
        },
        {
         "hoverinfo": "none",
         "line": {
          "color": "blue",
          "width": 2
         },
         "mode": "lines+text",
         "text": "2",
         "textposition": "top left",
         "type": "scatter3d",
         "x": [
          537,
          534
         ],
         "y": [
          444,
          447
         ],
         "z": [
          253,
          247
         ]
        },
        {
         "hoverinfo": "none",
         "line": {
          "color": "blue",
          "width": 2
         },
         "mode": "lines+text",
         "text": "1",
         "textposition": "top left",
         "type": "scatter3d",
         "x": [
          537,
          561
         ],
         "y": [
          444,
          461
         ],
         "z": [
          253,
          195
         ]
        },
        {
         "hoverinfo": "none",
         "line": {
          "color": "blue",
          "width": 2
         },
         "mode": "lines+text",
         "text": "1",
         "textposition": "top left",
         "type": "scatter3d",
         "x": [
          534,
          525
         ],
         "y": [
          447,
          447
         ],
         "z": [
          247,
          170
         ]
        },
        {
         "hoverinfo": "none",
         "line": {
          "color": "blue",
          "width": 2
         },
         "mode": "lines+text",
         "text": "1",
         "textposition": "top left",
         "type": "scatter3d",
         "x": [
          534,
          538
         ],
         "y": [
          447,
          493
         ],
         "z": [
          247,
          227
         ]
        },
        {
         "hoverinfo": "none",
         "line": {
          "color": "blue",
          "width": 2
         },
         "mode": "lines+text",
         "text": "1",
         "textposition": "top left",
         "type": "scatter3d",
         "x": [
          552,
          558
         ],
         "y": [
          392,
          379
         ],
         "z": [
          337,
          262
         ]
        },
        {
         "hoverinfo": "none",
         "line": {
          "color": "blue",
          "width": 2
         },
         "mode": "lines+text",
         "text": "3",
         "textposition": "top left",
         "type": "scatter3d",
         "x": [
          552,
          567
         ],
         "y": [
          392,
          396
         ],
         "z": [
          337,
          320
         ]
        },
        {
         "hoverinfo": "none",
         "line": {
          "color": "blue",
          "width": 2
         },
         "mode": "lines+text",
         "text": "2",
         "textposition": "top left",
         "type": "scatter3d",
         "x": [
          567,
          578
         ],
         "y": [
          396,
          395
         ],
         "z": [
          320,
          306
         ]
        },
        {
         "hoverinfo": "none",
         "line": {
          "color": "blue",
          "width": 2
         },
         "mode": "lines+text",
         "text": "2",
         "textposition": "top left",
         "type": "scatter3d",
         "x": [
          567,
          584
         ],
         "y": [
          396,
          416
         ],
         "z": [
          320,
          323
         ]
        },
        {
         "hoverinfo": "none",
         "line": {
          "color": "blue",
          "width": 2
         },
         "mode": "lines+text",
         "text": "1",
         "textposition": "top left",
         "type": "scatter3d",
         "x": [
          578,
          649
         ],
         "y": [
          395,
          405
         ],
         "z": [
          306,
          228
         ]
        },
        {
         "hoverinfo": "none",
         "line": {
          "color": "blue",
          "width": 2
         },
         "mode": "lines+text",
         "text": "2",
         "textposition": "top left",
         "type": "scatter3d",
         "x": [
          578,
          615
         ],
         "y": [
          395,
          368
         ],
         "z": [
          306,
          290
         ]
        },
        {
         "hoverinfo": "none",
         "line": {
          "color": "blue",
          "width": 2
         },
         "mode": "lines+text",
         "text": "1",
         "textposition": "top left",
         "type": "scatter3d",
         "x": [
          615,
          641
         ],
         "y": [
          368,
          348
         ],
         "z": [
          290,
          267
         ]
        },
        {
         "hoverinfo": "none",
         "line": {
          "color": "blue",
          "width": 2
         },
         "mode": "lines+text",
         "text": "1",
         "textposition": "top left",
         "type": "scatter3d",
         "x": [
          615,
          649
         ],
         "y": [
          368,
          366
         ],
         "z": [
          290,
          299
         ]
        },
        {
         "hoverinfo": "none",
         "line": {
          "color": "blue",
          "width": 2
         },
         "mode": "lines+text",
         "text": "1",
         "textposition": "top left",
         "type": "scatter3d",
         "x": [
          584,
          614
         ],
         "y": [
          416,
          460
         ],
         "z": [
          323,
          292
         ]
        },
        {
         "hoverinfo": "none",
         "line": {
          "color": "blue",
          "width": 2
         },
         "mode": "lines+text",
         "text": "1",
         "textposition": "top left",
         "type": "scatter3d",
         "x": [
          584,
          626
         ],
         "y": [
          416,
          433
         ],
         "z": [
          323,
          332
         ]
        },
        {
         "hoverinfo": "none",
         "line": {
          "color": "blue",
          "width": 2
         },
         "mode": "lines+text",
         "text": "1",
         "textposition": "top left",
         "type": "scatter3d",
         "x": [
          572,
          627
         ],
         "y": [
          348,
          349
         ],
         "z": [
          382,
          382
         ]
        },
        {
         "hoverinfo": "none",
         "line": {
          "color": "blue",
          "width": 2
         },
         "mode": "lines+text",
         "text": "1",
         "textposition": "top left",
         "type": "scatter3d",
         "x": [
          572,
          638
         ],
         "y": [
          348,
          267
         ],
         "z": [
          382,
          350
         ]
        },
        {
         "hoverinfo": "none",
         "line": {
          "color": "blue",
          "width": 2
         },
         "mode": "lines+text",
         "text": "2",
         "textposition": "top left",
         "type": "scatter3d",
         "x": [
          543,
          578
         ],
         "y": [
          382,
          390
         ],
         "z": [
          426,
          432
         ]
        },
        {
         "hoverinfo": "none",
         "line": {
          "color": "blue",
          "width": 2
         },
         "mode": "lines+text",
         "text": "2",
         "textposition": "top left",
         "type": "scatter3d",
         "x": [
          543,
          581
         ],
         "y": [
          382,
          374
         ],
         "z": [
          426,
          465
         ]
        },
        {
         "hoverinfo": "none",
         "line": {
          "color": "blue",
          "width": 2
         },
         "mode": "lines+text",
         "text": "1",
         "textposition": "top left",
         "type": "scatter3d",
         "x": [
          578,
          589
         ],
         "y": [
          390,
          424
         ],
         "z": [
          432,
          450
         ]
        },
        {
         "hoverinfo": "none",
         "line": {
          "color": "blue",
          "width": 2
         },
         "mode": "lines+text",
         "text": "1",
         "textposition": "top left",
         "type": "scatter3d",
         "x": [
          578,
          616
         ],
         "y": [
          390,
          403
         ],
         "z": [
          432,
          422
         ]
        },
        {
         "hoverinfo": "none",
         "line": {
          "color": "blue",
          "width": 2
         },
         "mode": "lines+text",
         "text": "2",
         "textposition": "top left",
         "type": "scatter3d",
         "x": [
          581,
          599
         ],
         "y": [
          374,
          389
         ],
         "z": [
          465,
          488
         ]
        },
        {
         "hoverinfo": "none",
         "line": {
          "color": "blue",
          "width": 2
         },
         "mode": "lines+text",
         "text": "1",
         "textposition": "top left",
         "type": "scatter3d",
         "x": [
          581,
          604
         ],
         "y": [
          374,
          361
         ],
         "z": [
          465,
          491
         ]
        },
        {
         "hoverinfo": "none",
         "line": {
          "color": "blue",
          "width": 2
         },
         "mode": "lines+text",
         "text": "1",
         "textposition": "top left",
         "type": "scatter3d",
         "x": [
          599,
          611
         ],
         "y": [
          389,
          403
         ],
         "z": [
          488,
          508
         ]
        },
        {
         "hoverinfo": "none",
         "line": {
          "color": "blue",
          "width": 2
         },
         "mode": "lines+text",
         "text": "1",
         "textposition": "top left",
         "type": "scatter3d",
         "x": [
          599,
          629
         ],
         "y": [
          389,
          393
         ],
         "z": [
          488,
          484
         ]
        },
        {
         "hoverinfo": "none",
         "line": {
          "color": "blue",
          "width": 2
         },
         "mode": "lines+text",
         "text": "1",
         "textposition": "top left",
         "type": "scatter3d",
         "x": [
          531,
          533
         ],
         "y": [
          398,
          417
         ],
         "z": [
          475,
          472
         ]
        },
        {
         "hoverinfo": "none",
         "line": {
          "color": "blue",
          "width": 2
         },
         "mode": "lines+text",
         "text": "1",
         "textposition": "top left",
         "type": "scatter3d",
         "x": [
          531,
          540
         ],
         "y": [
          398,
          403
         ],
         "z": [
          475,
          485
         ]
        },
        {
         "hoverinfo": "none",
         "line": {
          "color": "blue",
          "width": 2
         },
         "mode": "lines+text",
         "text": "2",
         "textposition": "top left",
         "type": "scatter3d",
         "x": [
          509,
          502
         ],
         "y": [
          377,
          388
         ],
         "z": [
          479,
          488
         ]
        },
        {
         "hoverinfo": "none",
         "line": {
          "color": "blue",
          "width": 2
         },
         "mode": "lines+text",
         "text": "2",
         "textposition": "top left",
         "type": "scatter3d",
         "x": [
          509,
          514
         ],
         "y": [
          377,
          376
         ],
         "z": [
          479,
          481
         ]
        },
        {
         "hoverinfo": "none",
         "line": {
          "color": "blue",
          "width": 2
         },
         "mode": "lines+text",
         "text": "1",
         "textposition": "top left",
         "type": "scatter3d",
         "x": [
          502,
          502
         ],
         "y": [
          388,
          414
         ],
         "z": [
          488,
          493
         ]
        },
        {
         "hoverinfo": "none",
         "line": {
          "color": "blue",
          "width": 2
         },
         "mode": "lines+text",
         "text": "1",
         "textposition": "top left",
         "type": "scatter3d",
         "x": [
          502,
          478
         ],
         "y": [
          388,
          410
         ],
         "z": [
          488,
          534
         ]
        },
        {
         "hoverinfo": "none",
         "line": {
          "color": "blue",
          "width": 2
         },
         "mode": "lines+text",
         "text": "1",
         "textposition": "top left",
         "type": "scatter3d",
         "x": [
          514,
          559
         ],
         "y": [
          376,
          361
         ],
         "z": [
          481,
          533
         ]
        },
        {
         "hoverinfo": "none",
         "line": {
          "color": "blue",
          "width": 2
         },
         "mode": "lines+text",
         "text": "2",
         "textposition": "top left",
         "type": "scatter3d",
         "x": [
          514,
          517
         ],
         "y": [
          376,
          397
         ],
         "z": [
          481,
          509
         ]
        },
        {
         "hoverinfo": "none",
         "line": {
          "color": "blue",
          "width": 2
         },
         "mode": "lines+text",
         "text": "1",
         "textposition": "top left",
         "type": "scatter3d",
         "x": [
          517,
          519
         ],
         "y": [
          397,
          430
         ],
         "z": [
          509,
          520
         ]
        },
        {
         "hoverinfo": "none",
         "line": {
          "color": "blue",
          "width": 2
         },
         "mode": "lines+text",
         "text": "2",
         "textposition": "top left",
         "type": "scatter3d",
         "x": [
          517,
          526
         ],
         "y": [
          397,
          403
         ],
         "z": [
          509,
          532
         ]
        },
        {
         "hoverinfo": "none",
         "line": {
          "color": "blue",
          "width": 2
         },
         "mode": "lines+text",
         "text": "1",
         "textposition": "top left",
         "type": "scatter3d",
         "x": [
          526,
          523
         ],
         "y": [
          403,
          416
         ],
         "z": [
          532,
          571
         ]
        },
        {
         "hoverinfo": "none",
         "line": {
          "color": "blue",
          "width": 2
         },
         "mode": "lines+text",
         "text": "1",
         "textposition": "top left",
         "type": "scatter3d",
         "x": [
          526,
          557
         ],
         "y": [
          403,
          420
         ],
         "z": [
          532,
          557
         ]
        },
        {
         "hoverinfo": "text",
         "marker": {
          "color": "red",
          "size": 5
         },
         "mode": "markers",
         "text": [],
         "type": "scatter3d",
         "x": [
          480,
          455,
          454,
          452,
          449,
          448,
          449,
          450,
          448,
          451,
          447,
          445,
          354,
          349,
          333,
          293,
          277,
          272,
          267,
          283,
          249,
          213,
          206,
          189,
          177,
          188,
          240,
          278,
          265,
          282,
          272,
          289,
          301,
          259,
          275,
          249,
          288,
          220,
          171,
          212,
          191,
          184,
          190,
          203,
          254,
          247,
          246,
          199,
          173,
          158,
          170,
          193,
          192,
          191,
          155,
          147,
          104,
          117,
          259,
          253,
          243,
          250,
          304,
          319,
          327,
          248,
          234,
          164,
          146,
          95,
          130,
          155,
          152,
          115,
          229,
          163,
          139,
          144,
          235,
          239,
          225,
          208,
          206,
          205,
          209,
          205,
          195,
          181,
          160,
          176,
          220,
          190,
          210,
          191,
          218,
          245,
          258,
          251,
          273,
          279,
          287,
          283,
          239,
          170,
          220,
          213,
          214,
          210,
          201,
          260,
          283,
          256,
          242,
          229,
          243,
          260,
          261,
          268,
          333,
          348,
          314,
          298,
          282,
          221,
          209,
          203,
          138,
          292,
          250,
          216,
          242,
          238,
          222,
          250,
          237,
          291,
          280,
          273,
          280,
          297,
          299,
          302,
          301,
          308,
          305,
          277,
          277,
          243,
          232,
          214,
          231,
          235,
          199,
          233,
          285,
          257,
          238,
          210,
          182,
          129,
          297,
          202,
          296,
          268,
          309,
          295,
          282,
          262,
          269,
          297,
          292,
          303,
          447,
          447,
          457,
          450,
          448,
          467,
          501,
          542,
          544,
          556,
          602,
          583,
          547,
          537,
          558,
          562,
          575,
          584,
          601,
          629,
          515,
          511,
          496,
          510,
          499,
          531,
          516,
          514,
          516,
          489,
          521,
          524,
          523,
          503,
          496,
          502,
          492,
          493,
          530,
          521,
          541,
          547,
          551,
          531,
          549,
          476,
          496,
          502,
          509,
          483,
          513,
          504,
          504,
          514,
          520,
          517,
          509,
          522,
          543,
          515,
          524,
          548,
          549,
          550,
          556,
          547,
          545,
          617,
          542,
          556,
          540,
          508,
          537,
          534,
          525,
          538,
          561,
          561,
          552,
          558,
          567,
          578,
          649,
          615,
          641,
          649,
          584,
          614,
          626,
          602,
          572,
          627,
          638,
          543,
          578,
          589,
          616,
          581,
          599,
          611,
          629,
          604,
          531,
          533,
          540,
          509,
          502,
          502,
          478,
          514,
          559,
          517,
          519,
          526,
          523,
          557,
          449,
          456
         ],
         "y": [
          196,
          223,
          223,
          229,
          234,
          234,
          236,
          236,
          240,
          238,
          245,
          255,
          284,
          285,
          287,
          281,
          237,
          158,
          231,
          282,
          249,
          219,
          191,
          211,
          203,
          212,
          212,
          285,
          307,
          328,
          403,
          332,
          346,
          316,
          357,
          441,
          368,
          353,
          398,
          385,
          416,
          415,
          422,
          428,
          297,
          291,
          292,
          280,
          286,
          289,
          288,
          273,
          273,
          271,
          257,
          248,
          263,
          220,
          299,
          301,
          296,
          312,
          337,
          339,
          359,
          290,
          325,
          328,
          343,
          333,
          376,
          331,
          329,
          353,
          351,
          377,
          394,
          393,
          378,
          391,
          424,
          440,
          462,
          487,
          466,
          438,
          430,
          453,
          469,
          455,
          427,
          430,
          468,
          474,
          483,
          395,
          423,
          465,
          433,
          449,
          437,
          438,
          407,
          423,
          424,
          438,
          424,
          428,
          422,
          417,
          416,
          431,
          443,
          446,
          452,
          427,
          420,
          429,
          289,
          290,
          276,
          250,
          250,
          231,
          217,
          239,
          247,
          233,
          186,
          168,
          136,
          127,
          93,
          98,
          96,
          229,
          202,
          193,
          175,
          172,
          165,
          140,
          129,
          131,
          282,
          319,
          329,
          368,
          384,
          390,
          389,
          378,
          390,
          396,
          383,
          317,
          317,
          311,
          333,
          306,
          282,
          266,
          301,
          331,
          338,
          278,
          276,
          252,
          283,
          258,
          239,
          260,
          256,
          253,
          248,
          263,
          265,
          338,
          330,
          312,
          298,
          288,
          252,
          286,
          214,
          174,
          208,
          305,
          261,
          300,
          315,
          260,
          334,
          345,
          345,
          353,
          364,
          349,
          332,
          333,
          330,
          306,
          320,
          287,
          248,
          194,
          204,
          191,
          151,
          179,
          235,
          223,
          217,
          190,
          220,
          280,
          302,
          361,
          382,
          386,
          405,
          454,
          410,
          479,
          492,
          485,
          459,
          472,
          478,
          484,
          470,
          385,
          387,
          396,
          398,
          413,
          437,
          436,
          436,
          465,
          442,
          475,
          443,
          464,
          444,
          447,
          447,
          493,
          461,
          483,
          392,
          379,
          396,
          395,
          405,
          368,
          348,
          366,
          416,
          460,
          433,
          436,
          348,
          349,
          267,
          382,
          390,
          424,
          403,
          374,
          389,
          403,
          393,
          361,
          398,
          417,
          403,
          377,
          388,
          414,
          410,
          376,
          361,
          397,
          430,
          403,
          416,
          420,
          245,
          231
         ],
         "z": [
          396,
          420,
          419,
          425,
          427,
          426,
          430,
          431,
          432,
          433,
          434,
          437,
          407,
          400,
          392,
          386,
          359,
          323,
          312,
          387,
          381,
          375,
          374,
          379,
          373,
          380,
          355,
          387,
          406,
          409,
          449,
          409,
          416,
          406,
          401,
          411,
          389,
          425,
          458,
          429,
          424,
          425,
          424,
          467,
          374,
          367,
          366,
          354,
          370,
          368,
          376,
          349,
          350,
          347,
          344,
          344,
          334,
          307,
          339,
          305,
          307,
          296,
          297,
          270,
          284,
          367,
          368,
          324,
          324,
          317,
          320,
          306,
          305,
          277,
          360,
          368,
          360,
          386,
          340,
          342,
          353,
          351,
          345,
          348,
          343,
          351,
          355,
          354,
          347,
          360,
          358,
          378,
          373,
          377,
          375,
          337,
          330,
          329,
          318,
          305,
          318,
          340,
          294,
          261,
          292,
          299,
          289,
          283,
          298,
          268,
          258,
          236,
          226,
          217,
          223,
          230,
          229,
          224,
          390,
          395,
          439,
          433,
          446,
          463,
          475,
          475,
          447,
          430,
          416,
          424,
          396,
          387,
          373,
          366,
          396,
          431,
          451,
          449,
          476,
          417,
          425,
          401,
          392,
          401,
          464,
          479,
          483,
          505,
          538,
          542,
          546,
          505,
          506,
          509,
          506,
          481,
          491,
          516,
          518,
          485,
          499,
          538,
          509,
          570,
          543,
          505,
          521,
          534,
          563,
          521,
          528,
          530,
          439,
          438,
          442,
          443,
          442,
          446,
          453,
          443,
          448,
          459,
          475,
          492,
          447,
          446,
          451,
          439,
          435,
          434,
          446,
          404,
          487,
          496,
          512,
          554,
          574,
          573,
          492,
          493,
          498,
          569,
          506,
          511,
          517,
          519,
          501,
          520,
          508,
          543,
          529,
          554,
          532,
          530,
          551,
          539,
          529,
          441,
          427,
          424,
          421,
          329,
          420,
          440,
          464,
          444,
          393,
          385,
          382,
          373,
          399,
          416,
          405,
          349,
          343,
          327,
          337,
          284,
          275,
          187,
          265,
          253,
          264,
          223,
          253,
          247,
          170,
          227,
          195,
          284,
          337,
          262,
          320,
          306,
          228,
          290,
          267,
          299,
          323,
          292,
          332,
          374,
          382,
          382,
          350,
          426,
          432,
          450,
          422,
          465,
          488,
          508,
          484,
          491,
          475,
          472,
          485,
          479,
          488,
          493,
          534,
          481,
          533,
          509,
          520,
          532,
          571,
          557,
          435,
          431
         ]
        }
       ],
       "layout": {
        "margin": {
         "b": 0,
         "l": 0,
         "r": 0,
         "t": 0
        },
        "scene": {
         "xaxis": {
          "title": {
           "text": "X"
          }
         },
         "yaxis": {
          "title": {
           "text": "Y"
          }
         },
         "zaxis": {
          "title": {
           "text": "Z"
          }
         }
        },
        "template": {
         "data": {
          "bar": [
           {
            "error_x": {
             "color": "#2a3f5f"
            },
            "error_y": {
             "color": "#2a3f5f"
            },
            "marker": {
             "line": {
              "color": "#E5ECF6",
              "width": 0.5
             },
             "pattern": {
              "fillmode": "overlay",
              "size": 10,
              "solidity": 0.2
             }
            },
            "type": "bar"
           }
          ],
          "barpolar": [
           {
            "marker": {
             "line": {
              "color": "#E5ECF6",
              "width": 0.5
             },
             "pattern": {
              "fillmode": "overlay",
              "size": 10,
              "solidity": 0.2
             }
            },
            "type": "barpolar"
           }
          ],
          "carpet": [
           {
            "aaxis": {
             "endlinecolor": "#2a3f5f",
             "gridcolor": "white",
             "linecolor": "white",
             "minorgridcolor": "white",
             "startlinecolor": "#2a3f5f"
            },
            "baxis": {
             "endlinecolor": "#2a3f5f",
             "gridcolor": "white",
             "linecolor": "white",
             "minorgridcolor": "white",
             "startlinecolor": "#2a3f5f"
            },
            "type": "carpet"
           }
          ],
          "choropleth": [
           {
            "colorbar": {
             "outlinewidth": 0,
             "ticks": ""
            },
            "type": "choropleth"
           }
          ],
          "contour": [
           {
            "colorbar": {
             "outlinewidth": 0,
             "ticks": ""
            },
            "colorscale": [
             [
              0,
              "#0d0887"
             ],
             [
              0.1111111111111111,
              "#46039f"
             ],
             [
              0.2222222222222222,
              "#7201a8"
             ],
             [
              0.3333333333333333,
              "#9c179e"
             ],
             [
              0.4444444444444444,
              "#bd3786"
             ],
             [
              0.5555555555555556,
              "#d8576b"
             ],
             [
              0.6666666666666666,
              "#ed7953"
             ],
             [
              0.7777777777777778,
              "#fb9f3a"
             ],
             [
              0.8888888888888888,
              "#fdca26"
             ],
             [
              1,
              "#f0f921"
             ]
            ],
            "type": "contour"
           }
          ],
          "contourcarpet": [
           {
            "colorbar": {
             "outlinewidth": 0,
             "ticks": ""
            },
            "type": "contourcarpet"
           }
          ],
          "heatmap": [
           {
            "colorbar": {
             "outlinewidth": 0,
             "ticks": ""
            },
            "colorscale": [
             [
              0,
              "#0d0887"
             ],
             [
              0.1111111111111111,
              "#46039f"
             ],
             [
              0.2222222222222222,
              "#7201a8"
             ],
             [
              0.3333333333333333,
              "#9c179e"
             ],
             [
              0.4444444444444444,
              "#bd3786"
             ],
             [
              0.5555555555555556,
              "#d8576b"
             ],
             [
              0.6666666666666666,
              "#ed7953"
             ],
             [
              0.7777777777777778,
              "#fb9f3a"
             ],
             [
              0.8888888888888888,
              "#fdca26"
             ],
             [
              1,
              "#f0f921"
             ]
            ],
            "type": "heatmap"
           }
          ],
          "heatmapgl": [
           {
            "colorbar": {
             "outlinewidth": 0,
             "ticks": ""
            },
            "colorscale": [
             [
              0,
              "#0d0887"
             ],
             [
              0.1111111111111111,
              "#46039f"
             ],
             [
              0.2222222222222222,
              "#7201a8"
             ],
             [
              0.3333333333333333,
              "#9c179e"
             ],
             [
              0.4444444444444444,
              "#bd3786"
             ],
             [
              0.5555555555555556,
              "#d8576b"
             ],
             [
              0.6666666666666666,
              "#ed7953"
             ],
             [
              0.7777777777777778,
              "#fb9f3a"
             ],
             [
              0.8888888888888888,
              "#fdca26"
             ],
             [
              1,
              "#f0f921"
             ]
            ],
            "type": "heatmapgl"
           }
          ],
          "histogram": [
           {
            "marker": {
             "pattern": {
              "fillmode": "overlay",
              "size": 10,
              "solidity": 0.2
             }
            },
            "type": "histogram"
           }
          ],
          "histogram2d": [
           {
            "colorbar": {
             "outlinewidth": 0,
             "ticks": ""
            },
            "colorscale": [
             [
              0,
              "#0d0887"
             ],
             [
              0.1111111111111111,
              "#46039f"
             ],
             [
              0.2222222222222222,
              "#7201a8"
             ],
             [
              0.3333333333333333,
              "#9c179e"
             ],
             [
              0.4444444444444444,
              "#bd3786"
             ],
             [
              0.5555555555555556,
              "#d8576b"
             ],
             [
              0.6666666666666666,
              "#ed7953"
             ],
             [
              0.7777777777777778,
              "#fb9f3a"
             ],
             [
              0.8888888888888888,
              "#fdca26"
             ],
             [
              1,
              "#f0f921"
             ]
            ],
            "type": "histogram2d"
           }
          ],
          "histogram2dcontour": [
           {
            "colorbar": {
             "outlinewidth": 0,
             "ticks": ""
            },
            "colorscale": [
             [
              0,
              "#0d0887"
             ],
             [
              0.1111111111111111,
              "#46039f"
             ],
             [
              0.2222222222222222,
              "#7201a8"
             ],
             [
              0.3333333333333333,
              "#9c179e"
             ],
             [
              0.4444444444444444,
              "#bd3786"
             ],
             [
              0.5555555555555556,
              "#d8576b"
             ],
             [
              0.6666666666666666,
              "#ed7953"
             ],
             [
              0.7777777777777778,
              "#fb9f3a"
             ],
             [
              0.8888888888888888,
              "#fdca26"
             ],
             [
              1,
              "#f0f921"
             ]
            ],
            "type": "histogram2dcontour"
           }
          ],
          "mesh3d": [
           {
            "colorbar": {
             "outlinewidth": 0,
             "ticks": ""
            },
            "type": "mesh3d"
           }
          ],
          "parcoords": [
           {
            "line": {
             "colorbar": {
              "outlinewidth": 0,
              "ticks": ""
             }
            },
            "type": "parcoords"
           }
          ],
          "pie": [
           {
            "automargin": true,
            "type": "pie"
           }
          ],
          "scatter": [
           {
            "fillpattern": {
             "fillmode": "overlay",
             "size": 10,
             "solidity": 0.2
            },
            "type": "scatter"
           }
          ],
          "scatter3d": [
           {
            "line": {
             "colorbar": {
              "outlinewidth": 0,
              "ticks": ""
             }
            },
            "marker": {
             "colorbar": {
              "outlinewidth": 0,
              "ticks": ""
             }
            },
            "type": "scatter3d"
           }
          ],
          "scattercarpet": [
           {
            "marker": {
             "colorbar": {
              "outlinewidth": 0,
              "ticks": ""
             }
            },
            "type": "scattercarpet"
           }
          ],
          "scattergeo": [
           {
            "marker": {
             "colorbar": {
              "outlinewidth": 0,
              "ticks": ""
             }
            },
            "type": "scattergeo"
           }
          ],
          "scattergl": [
           {
            "marker": {
             "colorbar": {
              "outlinewidth": 0,
              "ticks": ""
             }
            },
            "type": "scattergl"
           }
          ],
          "scattermapbox": [
           {
            "marker": {
             "colorbar": {
              "outlinewidth": 0,
              "ticks": ""
             }
            },
            "type": "scattermapbox"
           }
          ],
          "scatterpolar": [
           {
            "marker": {
             "colorbar": {
              "outlinewidth": 0,
              "ticks": ""
             }
            },
            "type": "scatterpolar"
           }
          ],
          "scatterpolargl": [
           {
            "marker": {
             "colorbar": {
              "outlinewidth": 0,
              "ticks": ""
             }
            },
            "type": "scatterpolargl"
           }
          ],
          "scatterternary": [
           {
            "marker": {
             "colorbar": {
              "outlinewidth": 0,
              "ticks": ""
             }
            },
            "type": "scatterternary"
           }
          ],
          "surface": [
           {
            "colorbar": {
             "outlinewidth": 0,
             "ticks": ""
            },
            "colorscale": [
             [
              0,
              "#0d0887"
             ],
             [
              0.1111111111111111,
              "#46039f"
             ],
             [
              0.2222222222222222,
              "#7201a8"
             ],
             [
              0.3333333333333333,
              "#9c179e"
             ],
             [
              0.4444444444444444,
              "#bd3786"
             ],
             [
              0.5555555555555556,
              "#d8576b"
             ],
             [
              0.6666666666666666,
              "#ed7953"
             ],
             [
              0.7777777777777778,
              "#fb9f3a"
             ],
             [
              0.8888888888888888,
              "#fdca26"
             ],
             [
              1,
              "#f0f921"
             ]
            ],
            "type": "surface"
           }
          ],
          "table": [
           {
            "cells": {
             "fill": {
              "color": "#EBF0F8"
             },
             "line": {
              "color": "white"
             }
            },
            "header": {
             "fill": {
              "color": "#C8D4E3"
             },
             "line": {
              "color": "white"
             }
            },
            "type": "table"
           }
          ]
         },
         "layout": {
          "annotationdefaults": {
           "arrowcolor": "#2a3f5f",
           "arrowhead": 0,
           "arrowwidth": 1
          },
          "autotypenumbers": "strict",
          "coloraxis": {
           "colorbar": {
            "outlinewidth": 0,
            "ticks": ""
           }
          },
          "colorscale": {
           "diverging": [
            [
             0,
             "#8e0152"
            ],
            [
             0.1,
             "#c51b7d"
            ],
            [
             0.2,
             "#de77ae"
            ],
            [
             0.3,
             "#f1b6da"
            ],
            [
             0.4,
             "#fde0ef"
            ],
            [
             0.5,
             "#f7f7f7"
            ],
            [
             0.6,
             "#e6f5d0"
            ],
            [
             0.7,
             "#b8e186"
            ],
            [
             0.8,
             "#7fbc41"
            ],
            [
             0.9,
             "#4d9221"
            ],
            [
             1,
             "#276419"
            ]
           ],
           "sequential": [
            [
             0,
             "#0d0887"
            ],
            [
             0.1111111111111111,
             "#46039f"
            ],
            [
             0.2222222222222222,
             "#7201a8"
            ],
            [
             0.3333333333333333,
             "#9c179e"
            ],
            [
             0.4444444444444444,
             "#bd3786"
            ],
            [
             0.5555555555555556,
             "#d8576b"
            ],
            [
             0.6666666666666666,
             "#ed7953"
            ],
            [
             0.7777777777777778,
             "#fb9f3a"
            ],
            [
             0.8888888888888888,
             "#fdca26"
            ],
            [
             1,
             "#f0f921"
            ]
           ],
           "sequentialminus": [
            [
             0,
             "#0d0887"
            ],
            [
             0.1111111111111111,
             "#46039f"
            ],
            [
             0.2222222222222222,
             "#7201a8"
            ],
            [
             0.3333333333333333,
             "#9c179e"
            ],
            [
             0.4444444444444444,
             "#bd3786"
            ],
            [
             0.5555555555555556,
             "#d8576b"
            ],
            [
             0.6666666666666666,
             "#ed7953"
            ],
            [
             0.7777777777777778,
             "#fb9f3a"
            ],
            [
             0.8888888888888888,
             "#fdca26"
            ],
            [
             1,
             "#f0f921"
            ]
           ]
          },
          "colorway": [
           "#636efa",
           "#EF553B",
           "#00cc96",
           "#ab63fa",
           "#FFA15A",
           "#19d3f3",
           "#FF6692",
           "#B6E880",
           "#FF97FF",
           "#FECB52"
          ],
          "font": {
           "color": "#2a3f5f"
          },
          "geo": {
           "bgcolor": "white",
           "lakecolor": "white",
           "landcolor": "#E5ECF6",
           "showlakes": true,
           "showland": true,
           "subunitcolor": "white"
          },
          "hoverlabel": {
           "align": "left"
          },
          "hovermode": "closest",
          "mapbox": {
           "style": "light"
          },
          "paper_bgcolor": "white",
          "plot_bgcolor": "#E5ECF6",
          "polar": {
           "angularaxis": {
            "gridcolor": "white",
            "linecolor": "white",
            "ticks": ""
           },
           "bgcolor": "#E5ECF6",
           "radialaxis": {
            "gridcolor": "white",
            "linecolor": "white",
            "ticks": ""
           }
          },
          "scene": {
           "xaxis": {
            "backgroundcolor": "#E5ECF6",
            "gridcolor": "white",
            "gridwidth": 2,
            "linecolor": "white",
            "showbackground": true,
            "ticks": "",
            "zerolinecolor": "white"
           },
           "yaxis": {
            "backgroundcolor": "#E5ECF6",
            "gridcolor": "white",
            "gridwidth": 2,
            "linecolor": "white",
            "showbackground": true,
            "ticks": "",
            "zerolinecolor": "white"
           },
           "zaxis": {
            "backgroundcolor": "#E5ECF6",
            "gridcolor": "white",
            "gridwidth": 2,
            "linecolor": "white",
            "showbackground": true,
            "ticks": "",
            "zerolinecolor": "white"
           }
          },
          "shapedefaults": {
           "line": {
            "color": "#2a3f5f"
           }
          },
          "ternary": {
           "aaxis": {
            "gridcolor": "white",
            "linecolor": "white",
            "ticks": ""
           },
           "baxis": {
            "gridcolor": "white",
            "linecolor": "white",
            "ticks": ""
           },
           "bgcolor": "#E5ECF6",
           "caxis": {
            "gridcolor": "white",
            "linecolor": "white",
            "ticks": ""
           }
          },
          "title": {
           "x": 0.05
          },
          "xaxis": {
           "automargin": true,
           "gridcolor": "white",
           "linecolor": "white",
           "ticks": "",
           "title": {
            "standoff": 15
           },
           "zerolinecolor": "white",
           "zerolinewidth": 2
          },
          "yaxis": {
           "automargin": true,
           "gridcolor": "white",
           "linecolor": "white",
           "ticks": "",
           "title": {
            "standoff": 15
           },
           "zerolinecolor": "white",
           "zerolinewidth": 2
          }
         }
        }
       }
      }
     },
     "metadata": {},
     "output_type": "display_data"
    }
   ],
   "source": [
    "#28 Plot-4 the DiGraph in 3D:\n",
    "\n",
    "import networkx as nx\n",
    "import plotly.graph_objects as go\n",
    "\n",
    "G = digraph\n",
    "\n",
    "# Extract node positions and order properties\n",
    "node_positions = {node: node for node in G.nodes()}\n",
    "edge_orders = nx.get_edge_attributes(G, 'order')\n",
    "\n",
    "# Create a trace for nodes\n",
    "node_trace = go.Scatter3d(\n",
    "    x=[coord[0] for coord in node_positions],\n",
    "    y=[coord[1] for coord in node_positions],\n",
    "    z=[coord[2] for coord in node_positions],\n",
    "    mode='markers',\n",
    "    marker=dict(size=5, color='red'),\n",
    "    text=[],\n",
    "    hoverinfo='text'\n",
    ")\n",
    "\n",
    "# Create a list of edge traces\n",
    "edge_traces = []\n",
    "for edge, order in edge_orders.items():\n",
    "    source, target = edge\n",
    "    x1, y1, z1 = source\n",
    "    x2, y2, z2 = target\n",
    "    edge_traces.append(go.Scatter3d(\n",
    "        x=[x1, x2],\n",
    "        y=[y1, y2],\n",
    "        z=[z1, z2],\n",
    "        mode='lines+text',\n",
    "        line=dict(width=2, color='blue'),\n",
    "        text=f'{order}',\n",
    "        hoverinfo='none',  # Disables hover info for edges\n",
    "        textposition='top left'  # Position for the order text\n",
    "    ))\n",
    "\n",
    "# Create the 3D layout\n",
    "layout = go.Layout(\n",
    "    scene=dict(\n",
    "        xaxis=dict(title='X'),\n",
    "        yaxis=dict(title='Y'),\n",
    "        zaxis=dict(title='Z'),\n",
    "    ),\n",
    "    margin=dict(l=0, r=0, b=0, t=0),\n",
    ")\n",
    "\n",
    "# Create the figure and add traces\n",
    "fig = go.Figure(data=edge_traces + [node_trace], layout=layout)\n",
    "\n",
    "# Show the interactive plot\n",
    "fig.show()"
   ]
  },
  {
   "cell_type": "code",
   "execution_count": 40,
   "metadata": {},
   "outputs": [
    {
     "name": "stdout",
     "output_type": "stream",
     "text": [
      "Order 1: 147 edges\n",
      "Order 2:  77 edges\n",
      "Order 3:  36 edges\n",
      "Order 4:  12 edges\n",
      "Order 5:  10 edges\n",
      "Order 6:   7 edges\n"
     ]
    }
   ],
   "source": [
    "#29 Statistics of edge orders and counts:\n",
    "\n",
    "from collections import defaultdict\n",
    "\n",
    "# Create a dictionary to count edges for each 'order'\n",
    "order_counts = defaultdict(int)\n",
    "\n",
    "# Count edges\n",
    "for u, v, data in digraph.edges(data=True):\n",
    "    order = data.get(\"order\", 0)\n",
    "    order_counts[order] += 1\n",
    "\n",
    "# Print the counts for each 'order' with keys sorted\n",
    "for order in sorted(order_counts.keys()):\n",
    "    count = order_counts[order]\n",
    "    print(f\"Order {order}: {count:3} edges\")"
   ]
  },
  {
   "cell_type": "code",
   "execution_count": 41,
   "metadata": {},
   "outputs": [],
   "source": [
    "#30 Add EdgeLength property to digraph edges:\n",
    "\n",
    "for edge in digraph.edges:\n",
    "    node1, node2 = edge\n",
    "    x1, y1, z1 = node1\n",
    "    x2, y2, z2 = node2\n",
    "    EdgeLength = np.sqrt((x2 - x1)**2 + (y2 - y1)**2 + (z2 - z1)**2)\n",
    "    digraph.edges[edge]['EdgeLength'] = EdgeLength"
   ]
  },
  {
   "cell_type": "code",
   "execution_count": 42,
   "metadata": {},
   "outputs": [
    {
     "name": "stdout",
     "output_type": "stream",
     "text": [
      "Edges with order in range [4, 6]:\n",
      "\n",
      "SelectedEdge- 1: (480, 196, 396) -> (455, 223, 420); AvgDiameter = 33.461295870; Order = 6; EdgeLength =  43.931765\n",
      "SelectedEdge- 2: (455, 223, 420) -> (452, 229, 425); AvgDiameter = 31.817819293; Order = 6; EdgeLength =   8.366600\n",
      "SelectedEdge- 3: (452, 229, 425) -> (449, 234, 427); AvgDiameter = 33.840127273; Order = 6; EdgeLength =   6.164414\n",
      "SelectedEdge- 4: (449, 234, 427) -> (449, 236, 430); AvgDiameter = 34.073391532; Order = 6; EdgeLength =   3.605551\n",
      "SelectedEdge- 5: (449, 236, 430) -> (448, 240, 432); AvgDiameter = 33.715373166; Order = 6; EdgeLength =   4.582576\n",
      "SelectedEdge- 6: (448, 240, 432) -> (447, 245, 434); AvgDiameter = 33.763052374; Order = 6; EdgeLength =   5.477226\n",
      "SelectedEdge- 7: (447, 245, 434) -> (445, 255, 437); AvgDiameter = 33.577306315; Order = 6; EdgeLength =  10.630146\n",
      "SelectedEdge- 8: (445, 255, 437) -> (354, 284, 407); AvgDiameter = 26.237073329; Order = 5; EdgeLength = 100.109940\n",
      "SelectedEdge- 9: (445, 255, 437) -> (447, 256, 439); AvgDiameter = 33.158701549; Order = 5; EdgeLength =   3.000000\n",
      "SelectedEdge-10: (354, 284, 407) -> (349, 285, 400); AvgDiameter = 18.707411726; Order = 5; EdgeLength =   8.660254\n",
      "SelectedEdge-11: (354, 284, 407) -> (314, 276, 439); AvgDiameter = 14.537547299; Order = 4; EdgeLength =  51.845926\n",
      "SelectedEdge-12: (349, 285, 400) -> (333, 287, 392); AvgDiameter = 19.774207744; Order = 5; EdgeLength =  18.000000\n",
      "SelectedEdge-13: (333, 287, 392) -> (293, 281, 386); AvgDiameter = 17.608639181; Order = 5; EdgeLength =  40.890097\n",
      "SelectedEdge-14: (293, 281, 386) -> (283, 282, 387); AvgDiameter = 18.373821291; Order = 5; EdgeLength =  10.099505\n",
      "SelectedEdge-15: (283, 282, 387) -> (278, 285, 387); AvgDiameter = 16.984913958; Order = 5; EdgeLength =   5.830952\n",
      "SelectedEdge-16: (278, 285, 387) -> (254, 297, 374); AvgDiameter = 12.464675012; Order = 5; EdgeLength =  29.816103\n",
      "SelectedEdge-17: (254, 297, 374) -> (247, 291, 367); AvgDiameter =  9.506748366; Order = 4; EdgeLength =  11.575837\n",
      "SelectedEdge-18: (254, 297, 374) -> (234, 325, 368); AvgDiameter = 10.784351827; Order = 4; EdgeLength =  34.928498\n",
      "SelectedEdge-19: (247, 291, 367) -> (246, 292, 366); AvgDiameter =  9.219544457; Order = 4; EdgeLength =   1.732051\n",
      "SelectedEdge-20: (234, 325, 368) -> (229, 351, 360); AvgDiameter =  8.733835421; Order = 4; EdgeLength =  27.658633\n",
      "SelectedEdge-21: (229, 351, 360) -> (235, 378, 340); AvgDiameter =  8.267689718; Order = 4; EdgeLength =  34.132096\n",
      "SelectedEdge-22: (314, 276, 439) -> (305, 282, 464); AvgDiameter = 12.383213927; Order = 4; EdgeLength =  27.239677\n",
      "SelectedEdge-23: (447, 256, 439) -> (450, 263, 443); AvgDiameter = 33.144796817; Order = 5; EdgeLength =   8.602325\n",
      "SelectedEdge-24: (450, 263, 443) -> (467, 338, 446); AvgDiameter = 32.328659511; Order = 5; EdgeLength =  76.961029\n",
      "SelectedEdge-25: (467, 338, 446) -> (501, 330, 453); AvgDiameter = 21.429881435; Order = 4; EdgeLength =  35.623026\n",
      "SelectedEdge-26: (467, 338, 446) -> (476, 361, 441); AvgDiameter = 24.937866398; Order = 4; EdgeLength =  25.199206\n",
      "SelectedEdge-27: (476, 361, 441) -> (496, 382, 427); AvgDiameter = 22.503820223; Order = 4; EdgeLength =  32.202484\n",
      "SelectedEdge-28: (496, 382, 427) -> (502, 386, 424); AvgDiameter = 21.579795973; Order = 4; EdgeLength =   7.810250\n",
      "SelectedEdge-29: (502, 386, 424) -> (515, 385, 416); AvgDiameter = 20.460104958; Order = 4; EdgeLength =  15.297059\n",
      "\n",
      " Geometric Mean of AvgDiameter: 20.206455622558813\n",
      "Arithmetic Mean of AvgDiameter: 22.323298825548466\n"
     ]
    }
   ],
   "source": [
    "#31 Final step: find edges with target order, print stats, and calculate mean\n",
    "\n",
    "## Find those edges\n",
    "\n",
    "# LowerOrder, HigherOrder = 4, 6\n",
    "HigherOrder = max(order_counts.keys())\n",
    "LowerOrder  = HigherOrder - 2\n",
    "\n",
    "selected_edges = [(u, v, data) for u, v, data in digraph.edges(data=True) if LowerOrder <= data.get(\"order\", 0) <= HigherOrder]\n",
    "\n",
    "## Print stats\n",
    "print(f\"Edges with order in range [{LowerOrder}, {HigherOrder}]:\\n\")\n",
    "for indx, (u, v, data) in enumerate(selected_edges):\n",
    "    print(f\"SelectedEdge-{indx+1:2}: {u} -> {v}; AvgDiameter = {data['AvgDiameter']:12.9f}; Order = {data['order']}; EdgeLength = {data['EdgeLength']:10.6f}\")\n",
    "\n",
    "## Extract the 'AvgDiameter' values from the selected edges\n",
    "avg_diameters = [data[\"AvgDiameter\"] for u, v, data in selected_edges]\n",
    "# Calculate the geometric mean of 'AvgDiameter'\n",
    "geometric_mean  = np.prod(avg_diameters) ** (1 / len(avg_diameters))\n",
    "arithmetic_mean = sum(avg_diameters) / len(avg_diameters)\n",
    "print(f\"\\n Geometric Mean of AvgDiameter: {geometric_mean}\")\n",
    "print(  f\"Arithmetic Mean of AvgDiameter: {arithmetic_mean}\")"
   ]
  }
 ],
 "metadata": {
  "kernelspec": {
   "display_name": "Python 3",
   "language": "python",
   "name": "python3"
  },
  "language_info": {
   "codemirror_mode": {
    "name": "ipython",
    "version": 3
   },
   "file_extension": ".py",
   "mimetype": "text/x-python",
   "name": "python",
   "nbconvert_exporter": "python",
   "pygments_lexer": "ipython3",
   "version": "0.0.0"
  },
  "orig_nbformat": 4
 },
 "nbformat": 4,
 "nbformat_minor": 2
}
